{
 "cells": [
  {
   "cell_type": "code",
   "execution_count": 1,
   "metadata": {
    "executionInfo": {
     "elapsed": 6,
     "status": "ok",
     "timestamp": 1632813193744,
     "user": {
      "displayName": "Sneh Shah",
      "photoUrl": "https://lh3.googleusercontent.com/a-/AOh14GibvbxxgJIbJggDA8au45Ih5kuQgOfK-Ge6GpuFUw=s64",
      "userId": "06388715731700414777"
     },
     "user_tz": -330
    },
    "id": "dplzZ9tNwTIs"
   },
   "outputs": [],
   "source": [
    "import numpy as np\n",
    "import pandas as pd\n",
    "import seaborn as sns\n",
    "import matplotlib.pyplot as plt"
   ]
  },
  {
   "cell_type": "code",
   "execution_count": 2,
   "metadata": {
    "colab": {
     "base_uri": "https://localhost:8080/"
    },
    "executionInfo": {
     "elapsed": 20495,
     "status": "ok",
     "timestamp": 1632813214235,
     "user": {
      "displayName": "Sneh Shah",
      "photoUrl": "https://lh3.googleusercontent.com/a-/AOh14GibvbxxgJIbJggDA8au45Ih5kuQgOfK-Ge6GpuFUw=s64",
      "userId": "06388715731700414777"
     },
     "user_tz": -330
    },
    "id": "1BwVWL-_wj9k",
    "outputId": "ffbb3e09-1901-46ce-de13-8b43933d41da"
   },
   "outputs": [
    {
     "name": "stdout",
     "output_type": "stream",
     "text": [
      "Mounted at /drive\n"
     ]
    }
   ],
   "source": [
    "from google.colab import drive\n",
    "drive.mount('/drive')"
   ]
  },
  {
   "cell_type": "code",
   "execution_count": 3,
   "metadata": {
    "executionInfo": {
     "elapsed": 3,
     "status": "ok",
     "timestamp": 1632813217750,
     "user": {
      "displayName": "Sneh Shah",
      "photoUrl": "https://lh3.googleusercontent.com/a-/AOh14GibvbxxgJIbJggDA8au45Ih5kuQgOfK-Ge6GpuFUw=s64",
      "userId": "06388715731700414777"
     },
     "user_tz": -330
    },
    "id": "FGIu1BYzw8eq"
   },
   "outputs": [],
   "source": [
    "pd.set_option(\"display.max_columns\", None)\n",
    "pd.set_option(\"display.max_rows\", None)"
   ]
  },
  {
   "cell_type": "code",
   "execution_count": 4,
   "metadata": {
    "executionInfo": {
     "elapsed": 1691,
     "status": "ok",
     "timestamp": 1632813223210,
     "user": {
      "displayName": "Sneh Shah",
      "photoUrl": "https://lh3.googleusercontent.com/a-/AOh14GibvbxxgJIbJggDA8au45Ih5kuQgOfK-Ge6GpuFUw=s64",
      "userId": "06388715731700414777"
     },
     "user_tz": -330
    },
    "id": "e7aJWYpVwmJg"
   },
   "outputs": [],
   "source": [
    "df = pd.read_csv('/drive/My Drive/Colab Notebooks/clean_banglore_price.csv')"
   ]
  },
  {
   "cell_type": "code",
   "execution_count": 5,
   "metadata": {
    "executionInfo": {
     "elapsed": 3,
     "status": "ok",
     "timestamp": 1632813226265,
     "user": {
      "displayName": "Sneh Shah",
      "photoUrl": "https://lh3.googleusercontent.com/a-/AOh14GibvbxxgJIbJggDA8au45Ih5kuQgOfK-Ge6GpuFUw=s64",
      "userId": "06388715731700414777"
     },
     "user_tz": -330
    },
    "id": "yDyy_Gv1017e"
   },
   "outputs": [],
   "source": [
    "df = df.drop('price_per_sqft',axis=1)"
   ]
  },
  {
   "cell_type": "code",
   "execution_count": 6,
   "metadata": {
    "colab": {
     "base_uri": "https://localhost:8080/",
     "height": 278
    },
    "executionInfo": {
     "elapsed": 1746,
     "status": "ok",
     "timestamp": 1632813243478,
     "user": {
      "displayName": "Sneh Shah",
      "photoUrl": "https://lh3.googleusercontent.com/a-/AOh14GibvbxxgJIbJggDA8au45Ih5kuQgOfK-Ge6GpuFUw=s64",
      "userId": "06388715731700414777"
     },
     "user_tz": -330
    },
    "id": "pWLNnRgS5-Bj",
    "outputId": "d2d0f040-9ef6-4784-968b-30c8dab42937"
   },
   "outputs": [
    {
     "data": {
      "text/html": [
       "<div>\n",
       "<style scoped>\n",
       "    .dataframe tbody tr th:only-of-type {\n",
       "        vertical-align: middle;\n",
       "    }\n",
       "\n",
       "    .dataframe tbody tr th {\n",
       "        vertical-align: top;\n",
       "    }\n",
       "\n",
       "    .dataframe thead th {\n",
       "        text-align: right;\n",
       "    }\n",
       "</style>\n",
       "<table border=\"1\" class=\"dataframe\">\n",
       "  <thead>\n",
       "    <tr style=\"text-align: right;\">\n",
       "      <th></th>\n",
       "      <th>bath</th>\n",
       "      <th>balcony</th>\n",
       "      <th>price</th>\n",
       "      <th>total_sqft_int</th>\n",
       "      <th>bhk</th>\n",
       "      <th>Super built-up  Area</th>\n",
       "      <th>Built-up  Area</th>\n",
       "      <th>Plot  Area</th>\n",
       "      <th>available</th>\n",
       "      <th>loc_Whitefield</th>\n",
       "      <th>loc_Sarjapur  Road</th>\n",
       "      <th>loc_Thanisandra</th>\n",
       "      <th>loc_Raja Rajeshwari Nagar</th>\n",
       "      <th>loc_Hebbal</th>\n",
       "      <th>loc_Uttarahalli</th>\n",
       "      <th>loc_Electronic City</th>\n",
       "      <th>loc_Haralur Road</th>\n",
       "      <th>loc_Marathahalli</th>\n",
       "      <th>loc_Hennur Road</th>\n",
       "      <th>loc_7th Phase JP Nagar</th>\n",
       "      <th>loc_Bannerghatta Road</th>\n",
       "      <th>loc_Yelahanka</th>\n",
       "      <th>loc_Electronic City Phase II</th>\n",
       "      <th>loc_Kanakpura Road</th>\n",
       "      <th>loc_Bellandur</th>\n",
       "      <th>loc_KR Puram</th>\n",
       "      <th>loc_Harlur</th>\n",
       "      <th>loc_Varthur</th>\n",
       "      <th>loc_Sarjapur</th>\n",
       "      <th>loc_Hosa Road</th>\n",
       "      <th>loc_Kasavanhalli</th>\n",
       "      <th>loc_Hoodi</th>\n",
       "      <th>loc_Hormavu</th>\n",
       "      <th>loc_Begur Road</th>\n",
       "      <th>loc_Chandapura</th>\n",
       "      <th>loc_Jakkur</th>\n",
       "      <th>loc_Banashankari</th>\n",
       "      <th>loc_Kaggadasapura</th>\n",
       "      <th>loc_Akshaya Nagar</th>\n",
       "      <th>loc_Rachenahalli</th>\n",
       "      <th>loc_Hennur</th>\n",
       "      <th>loc_Kothanur</th>\n",
       "      <th>loc_JP Nagar</th>\n",
       "      <th>loc_Yeshwanthpur</th>\n",
       "      <th>loc_Old Madras Road</th>\n",
       "      <th>loc_Ramamurthy Nagar</th>\n",
       "      <th>loc_Panathur</th>\n",
       "      <th>loc_Hegde Nagar</th>\n",
       "      <th>loc_HSR Layout</th>\n",
       "      <th>loc_Gottigere</th>\n",
       "      <th>loc_Thigalarapalya</th>\n",
       "      <th>loc_Kundalahalli</th>\n",
       "      <th>loc_8th Phase JP Nagar</th>\n",
       "      <th>loc_Electronics City Phase 1</th>\n",
       "      <th>loc_Ramagondanahalli</th>\n",
       "      <th>loc_Hulimavu</th>\n",
       "      <th>loc_Talaghattapura</th>\n",
       "      <th>loc_Kengeri</th>\n",
       "      <th>loc_Green Glen Layout</th>\n",
       "      <th>loc_Horamavu Agara</th>\n",
       "      <th>loc_Hosur Road</th>\n",
       "      <th>loc_CV Raman Nagar</th>\n",
       "      <th>loc_Jalahalli</th>\n",
       "      <th>loc_Bisuvanahalli</th>\n",
       "      <th>loc_Mysore Road</th>\n",
       "      <th>loc_Vittasandra</th>\n",
       "      <th>loc_Kanakapura</th>\n",
       "      <th>loc_Lakshminarayana Pura</th>\n",
       "      <th>loc_Anekal</th>\n",
       "      <th>loc_Kalena Agrahara</th>\n",
       "      <th>loc_Channasandra</th>\n",
       "      <th>loc_Bommasandra</th>\n",
       "      <th>loc_Bhoganhalli</th>\n",
       "      <th>loc_Kengeri Satellite Town</th>\n",
       "      <th>loc_Attibele</th>\n",
       "      <th>loc_Jigani</th>\n",
       "      <th>loc_Kadugodi</th>\n",
       "      <th>loc_Tumkur Road</th>\n",
       "      <th>loc_Balagere</th>\n",
       "      <th>loc_5th Phase JP Nagar</th>\n",
       "      <th>loc_Brookefield</th>\n",
       "      <th>loc_Subramanyapura</th>\n",
       "      <th>loc_Sahakara Nagar</th>\n",
       "      <th>loc_Vijayanagar</th>\n",
       "      <th>loc_Ananth Nagar</th>\n",
       "      <th>loc_Kudlu Gate</th>\n",
       "      <th>loc_Kudlu</th>\n",
       "      <th>loc_Ambedkar Nagar</th>\n",
       "      <th>loc_TC Palaya</th>\n",
       "      <th>loc_Doddathoguru</th>\n",
       "      <th>loc_Koramangala</th>\n",
       "      <th>loc_9th Phase JP Nagar</th>\n",
       "      <th>loc_Budigere</th>\n",
       "      <th>loc_Kammasandra</th>\n",
       "      <th>loc_Horamavu Banaswadi</th>\n",
       "      <th>loc_Yelahanka New Town</th>\n",
       "      <th>loc_Dodda Nekkundi</th>\n",
       "      <th>loc_Vidyaranyapura</th>\n",
       "      <th>loc_Lingadheeranahalli</th>\n",
       "      <th>loc_Old Airport Road</th>\n",
       "      <th>loc_Mahadevpura</th>\n",
       "      <th>loc_Nagarbhavi</th>\n",
       "      <th>loc_Ambalipura</th>\n",
       "      <th>loc_Bommanahalli</th>\n",
       "      <th>loc_Devanahalli</th>\n",
       "      <th>loc_Kodichikkanahalli</th>\n",
       "      <th>loc_Kathriguppe</th>\n",
       "      <th>loc_Anandapura</th>\n",
       "      <th>loc_Rajaji Nagar</th>\n",
       "      <th>loc_Iblur Village</th>\n",
       "      <th>loc_Margondanahalli</th>\n",
       "      <th>loc_Kogilu</th>\n",
       "      <th>loc_Kambipura</th>\n",
       "    </tr>\n",
       "  </thead>\n",
       "  <tbody>\n",
       "    <tr>\n",
       "      <th>0</th>\n",
       "      <td>1.0</td>\n",
       "      <td>1.0</td>\n",
       "      <td>16.0</td>\n",
       "      <td>351.0</td>\n",
       "      <td>1</td>\n",
       "      <td>0</td>\n",
       "      <td>1</td>\n",
       "      <td>0</td>\n",
       "      <td>1</td>\n",
       "      <td>0</td>\n",
       "      <td>0</td>\n",
       "      <td>0</td>\n",
       "      <td>0</td>\n",
       "      <td>0</td>\n",
       "      <td>0</td>\n",
       "      <td>0</td>\n",
       "      <td>0</td>\n",
       "      <td>0</td>\n",
       "      <td>0</td>\n",
       "      <td>0</td>\n",
       "      <td>0</td>\n",
       "      <td>0</td>\n",
       "      <td>0</td>\n",
       "      <td>0</td>\n",
       "      <td>0</td>\n",
       "      <td>0</td>\n",
       "      <td>0</td>\n",
       "      <td>0</td>\n",
       "      <td>0</td>\n",
       "      <td>0</td>\n",
       "      <td>0</td>\n",
       "      <td>0</td>\n",
       "      <td>0</td>\n",
       "      <td>0</td>\n",
       "      <td>0</td>\n",
       "      <td>0</td>\n",
       "      <td>0</td>\n",
       "      <td>0</td>\n",
       "      <td>0</td>\n",
       "      <td>0</td>\n",
       "      <td>0</td>\n",
       "      <td>0</td>\n",
       "      <td>0</td>\n",
       "      <td>0</td>\n",
       "      <td>0</td>\n",
       "      <td>0</td>\n",
       "      <td>0</td>\n",
       "      <td>0</td>\n",
       "      <td>0</td>\n",
       "      <td>0</td>\n",
       "      <td>0</td>\n",
       "      <td>0</td>\n",
       "      <td>0</td>\n",
       "      <td>0</td>\n",
       "      <td>0</td>\n",
       "      <td>0</td>\n",
       "      <td>0</td>\n",
       "      <td>0</td>\n",
       "      <td>0</td>\n",
       "      <td>0</td>\n",
       "      <td>0</td>\n",
       "      <td>0</td>\n",
       "      <td>0</td>\n",
       "      <td>0</td>\n",
       "      <td>0</td>\n",
       "      <td>0</td>\n",
       "      <td>0</td>\n",
       "      <td>0</td>\n",
       "      <td>0</td>\n",
       "      <td>0</td>\n",
       "      <td>0</td>\n",
       "      <td>0</td>\n",
       "      <td>0</td>\n",
       "      <td>0</td>\n",
       "      <td>0</td>\n",
       "      <td>0</td>\n",
       "      <td>0</td>\n",
       "      <td>0</td>\n",
       "      <td>0</td>\n",
       "      <td>0</td>\n",
       "      <td>0</td>\n",
       "      <td>0</td>\n",
       "      <td>0</td>\n",
       "      <td>0</td>\n",
       "      <td>0</td>\n",
       "      <td>0</td>\n",
       "      <td>0</td>\n",
       "      <td>0</td>\n",
       "      <td>0</td>\n",
       "      <td>0</td>\n",
       "      <td>0</td>\n",
       "      <td>0</td>\n",
       "      <td>0</td>\n",
       "      <td>0</td>\n",
       "      <td>0</td>\n",
       "      <td>0</td>\n",
       "      <td>0</td>\n",
       "      <td>0</td>\n",
       "      <td>0</td>\n",
       "      <td>0</td>\n",
       "      <td>0</td>\n",
       "      <td>0</td>\n",
       "      <td>0</td>\n",
       "      <td>0</td>\n",
       "      <td>0</td>\n",
       "      <td>0</td>\n",
       "      <td>0</td>\n",
       "      <td>0</td>\n",
       "      <td>0</td>\n",
       "      <td>0</td>\n",
       "      <td>0</td>\n",
       "      <td>0</td>\n",
       "      <td>0</td>\n",
       "    </tr>\n",
       "    <tr>\n",
       "      <th>1</th>\n",
       "      <td>1.0</td>\n",
       "      <td>0.0</td>\n",
       "      <td>35.0</td>\n",
       "      <td>527.0</td>\n",
       "      <td>1</td>\n",
       "      <td>1</td>\n",
       "      <td>0</td>\n",
       "      <td>0</td>\n",
       "      <td>1</td>\n",
       "      <td>0</td>\n",
       "      <td>0</td>\n",
       "      <td>0</td>\n",
       "      <td>0</td>\n",
       "      <td>0</td>\n",
       "      <td>0</td>\n",
       "      <td>0</td>\n",
       "      <td>0</td>\n",
       "      <td>0</td>\n",
       "      <td>0</td>\n",
       "      <td>0</td>\n",
       "      <td>0</td>\n",
       "      <td>0</td>\n",
       "      <td>0</td>\n",
       "      <td>0</td>\n",
       "      <td>0</td>\n",
       "      <td>0</td>\n",
       "      <td>0</td>\n",
       "      <td>0</td>\n",
       "      <td>0</td>\n",
       "      <td>0</td>\n",
       "      <td>0</td>\n",
       "      <td>0</td>\n",
       "      <td>0</td>\n",
       "      <td>0</td>\n",
       "      <td>0</td>\n",
       "      <td>0</td>\n",
       "      <td>0</td>\n",
       "      <td>0</td>\n",
       "      <td>0</td>\n",
       "      <td>0</td>\n",
       "      <td>0</td>\n",
       "      <td>0</td>\n",
       "      <td>0</td>\n",
       "      <td>0</td>\n",
       "      <td>0</td>\n",
       "      <td>0</td>\n",
       "      <td>0</td>\n",
       "      <td>0</td>\n",
       "      <td>0</td>\n",
       "      <td>0</td>\n",
       "      <td>0</td>\n",
       "      <td>0</td>\n",
       "      <td>0</td>\n",
       "      <td>0</td>\n",
       "      <td>0</td>\n",
       "      <td>0</td>\n",
       "      <td>0</td>\n",
       "      <td>0</td>\n",
       "      <td>0</td>\n",
       "      <td>0</td>\n",
       "      <td>0</td>\n",
       "      <td>0</td>\n",
       "      <td>0</td>\n",
       "      <td>0</td>\n",
       "      <td>0</td>\n",
       "      <td>0</td>\n",
       "      <td>0</td>\n",
       "      <td>0</td>\n",
       "      <td>0</td>\n",
       "      <td>0</td>\n",
       "      <td>0</td>\n",
       "      <td>0</td>\n",
       "      <td>0</td>\n",
       "      <td>0</td>\n",
       "      <td>0</td>\n",
       "      <td>0</td>\n",
       "      <td>0</td>\n",
       "      <td>0</td>\n",
       "      <td>0</td>\n",
       "      <td>0</td>\n",
       "      <td>0</td>\n",
       "      <td>0</td>\n",
       "      <td>0</td>\n",
       "      <td>0</td>\n",
       "      <td>0</td>\n",
       "      <td>0</td>\n",
       "      <td>0</td>\n",
       "      <td>0</td>\n",
       "      <td>0</td>\n",
       "      <td>0</td>\n",
       "      <td>0</td>\n",
       "      <td>0</td>\n",
       "      <td>0</td>\n",
       "      <td>0</td>\n",
       "      <td>0</td>\n",
       "      <td>0</td>\n",
       "      <td>0</td>\n",
       "      <td>0</td>\n",
       "      <td>0</td>\n",
       "      <td>0</td>\n",
       "      <td>0</td>\n",
       "      <td>0</td>\n",
       "      <td>0</td>\n",
       "      <td>0</td>\n",
       "      <td>0</td>\n",
       "      <td>0</td>\n",
       "      <td>0</td>\n",
       "      <td>0</td>\n",
       "      <td>0</td>\n",
       "      <td>0</td>\n",
       "      <td>0</td>\n",
       "      <td>0</td>\n",
       "      <td>0</td>\n",
       "    </tr>\n",
       "    <tr>\n",
       "      <th>2</th>\n",
       "      <td>1.0</td>\n",
       "      <td>1.0</td>\n",
       "      <td>50.0</td>\n",
       "      <td>670.0</td>\n",
       "      <td>1</td>\n",
       "      <td>1</td>\n",
       "      <td>0</td>\n",
       "      <td>0</td>\n",
       "      <td>1</td>\n",
       "      <td>0</td>\n",
       "      <td>0</td>\n",
       "      <td>0</td>\n",
       "      <td>0</td>\n",
       "      <td>0</td>\n",
       "      <td>0</td>\n",
       "      <td>0</td>\n",
       "      <td>0</td>\n",
       "      <td>0</td>\n",
       "      <td>0</td>\n",
       "      <td>0</td>\n",
       "      <td>0</td>\n",
       "      <td>0</td>\n",
       "      <td>0</td>\n",
       "      <td>0</td>\n",
       "      <td>0</td>\n",
       "      <td>0</td>\n",
       "      <td>0</td>\n",
       "      <td>0</td>\n",
       "      <td>0</td>\n",
       "      <td>0</td>\n",
       "      <td>0</td>\n",
       "      <td>0</td>\n",
       "      <td>0</td>\n",
       "      <td>0</td>\n",
       "      <td>0</td>\n",
       "      <td>0</td>\n",
       "      <td>0</td>\n",
       "      <td>0</td>\n",
       "      <td>0</td>\n",
       "      <td>0</td>\n",
       "      <td>0</td>\n",
       "      <td>0</td>\n",
       "      <td>0</td>\n",
       "      <td>0</td>\n",
       "      <td>0</td>\n",
       "      <td>0</td>\n",
       "      <td>0</td>\n",
       "      <td>0</td>\n",
       "      <td>0</td>\n",
       "      <td>0</td>\n",
       "      <td>0</td>\n",
       "      <td>0</td>\n",
       "      <td>0</td>\n",
       "      <td>0</td>\n",
       "      <td>0</td>\n",
       "      <td>0</td>\n",
       "      <td>0</td>\n",
       "      <td>0</td>\n",
       "      <td>0</td>\n",
       "      <td>0</td>\n",
       "      <td>0</td>\n",
       "      <td>0</td>\n",
       "      <td>0</td>\n",
       "      <td>0</td>\n",
       "      <td>0</td>\n",
       "      <td>0</td>\n",
       "      <td>0</td>\n",
       "      <td>0</td>\n",
       "      <td>0</td>\n",
       "      <td>0</td>\n",
       "      <td>0</td>\n",
       "      <td>0</td>\n",
       "      <td>0</td>\n",
       "      <td>0</td>\n",
       "      <td>0</td>\n",
       "      <td>0</td>\n",
       "      <td>0</td>\n",
       "      <td>0</td>\n",
       "      <td>0</td>\n",
       "      <td>0</td>\n",
       "      <td>0</td>\n",
       "      <td>0</td>\n",
       "      <td>0</td>\n",
       "      <td>0</td>\n",
       "      <td>0</td>\n",
       "      <td>0</td>\n",
       "      <td>0</td>\n",
       "      <td>0</td>\n",
       "      <td>0</td>\n",
       "      <td>0</td>\n",
       "      <td>0</td>\n",
       "      <td>0</td>\n",
       "      <td>0</td>\n",
       "      <td>0</td>\n",
       "      <td>0</td>\n",
       "      <td>0</td>\n",
       "      <td>0</td>\n",
       "      <td>0</td>\n",
       "      <td>0</td>\n",
       "      <td>0</td>\n",
       "      <td>0</td>\n",
       "      <td>0</td>\n",
       "      <td>0</td>\n",
       "      <td>0</td>\n",
       "      <td>0</td>\n",
       "      <td>0</td>\n",
       "      <td>0</td>\n",
       "      <td>0</td>\n",
       "      <td>0</td>\n",
       "      <td>0</td>\n",
       "      <td>0</td>\n",
       "      <td>0</td>\n",
       "      <td>0</td>\n",
       "    </tr>\n",
       "    <tr>\n",
       "      <th>3</th>\n",
       "      <td>2.0</td>\n",
       "      <td>1.0</td>\n",
       "      <td>70.0</td>\n",
       "      <td>1100.0</td>\n",
       "      <td>2</td>\n",
       "      <td>1</td>\n",
       "      <td>0</td>\n",
       "      <td>0</td>\n",
       "      <td>1</td>\n",
       "      <td>0</td>\n",
       "      <td>0</td>\n",
       "      <td>0</td>\n",
       "      <td>0</td>\n",
       "      <td>0</td>\n",
       "      <td>0</td>\n",
       "      <td>0</td>\n",
       "      <td>0</td>\n",
       "      <td>0</td>\n",
       "      <td>0</td>\n",
       "      <td>0</td>\n",
       "      <td>0</td>\n",
       "      <td>0</td>\n",
       "      <td>0</td>\n",
       "      <td>0</td>\n",
       "      <td>0</td>\n",
       "      <td>0</td>\n",
       "      <td>0</td>\n",
       "      <td>0</td>\n",
       "      <td>0</td>\n",
       "      <td>0</td>\n",
       "      <td>0</td>\n",
       "      <td>0</td>\n",
       "      <td>0</td>\n",
       "      <td>0</td>\n",
       "      <td>0</td>\n",
       "      <td>0</td>\n",
       "      <td>0</td>\n",
       "      <td>0</td>\n",
       "      <td>0</td>\n",
       "      <td>0</td>\n",
       "      <td>0</td>\n",
       "      <td>0</td>\n",
       "      <td>0</td>\n",
       "      <td>0</td>\n",
       "      <td>0</td>\n",
       "      <td>0</td>\n",
       "      <td>0</td>\n",
       "      <td>0</td>\n",
       "      <td>0</td>\n",
       "      <td>0</td>\n",
       "      <td>0</td>\n",
       "      <td>0</td>\n",
       "      <td>0</td>\n",
       "      <td>0</td>\n",
       "      <td>0</td>\n",
       "      <td>0</td>\n",
       "      <td>0</td>\n",
       "      <td>0</td>\n",
       "      <td>0</td>\n",
       "      <td>0</td>\n",
       "      <td>0</td>\n",
       "      <td>0</td>\n",
       "      <td>0</td>\n",
       "      <td>0</td>\n",
       "      <td>0</td>\n",
       "      <td>0</td>\n",
       "      <td>0</td>\n",
       "      <td>0</td>\n",
       "      <td>0</td>\n",
       "      <td>0</td>\n",
       "      <td>0</td>\n",
       "      <td>0</td>\n",
       "      <td>0</td>\n",
       "      <td>0</td>\n",
       "      <td>0</td>\n",
       "      <td>0</td>\n",
       "      <td>0</td>\n",
       "      <td>0</td>\n",
       "      <td>0</td>\n",
       "      <td>0</td>\n",
       "      <td>0</td>\n",
       "      <td>0</td>\n",
       "      <td>0</td>\n",
       "      <td>0</td>\n",
       "      <td>0</td>\n",
       "      <td>0</td>\n",
       "      <td>0</td>\n",
       "      <td>0</td>\n",
       "      <td>0</td>\n",
       "      <td>0</td>\n",
       "      <td>0</td>\n",
       "      <td>0</td>\n",
       "      <td>0</td>\n",
       "      <td>0</td>\n",
       "      <td>0</td>\n",
       "      <td>0</td>\n",
       "      <td>0</td>\n",
       "      <td>0</td>\n",
       "      <td>0</td>\n",
       "      <td>0</td>\n",
       "      <td>0</td>\n",
       "      <td>0</td>\n",
       "      <td>0</td>\n",
       "      <td>0</td>\n",
       "      <td>0</td>\n",
       "      <td>0</td>\n",
       "      <td>0</td>\n",
       "      <td>0</td>\n",
       "      <td>0</td>\n",
       "      <td>0</td>\n",
       "      <td>0</td>\n",
       "      <td>0</td>\n",
       "      <td>0</td>\n",
       "    </tr>\n",
       "    <tr>\n",
       "      <th>4</th>\n",
       "      <td>3.0</td>\n",
       "      <td>2.0</td>\n",
       "      <td>150.0</td>\n",
       "      <td>1672.0</td>\n",
       "      <td>3</td>\n",
       "      <td>1</td>\n",
       "      <td>0</td>\n",
       "      <td>0</td>\n",
       "      <td>1</td>\n",
       "      <td>0</td>\n",
       "      <td>0</td>\n",
       "      <td>0</td>\n",
       "      <td>0</td>\n",
       "      <td>0</td>\n",
       "      <td>0</td>\n",
       "      <td>0</td>\n",
       "      <td>0</td>\n",
       "      <td>0</td>\n",
       "      <td>0</td>\n",
       "      <td>0</td>\n",
       "      <td>0</td>\n",
       "      <td>0</td>\n",
       "      <td>0</td>\n",
       "      <td>0</td>\n",
       "      <td>0</td>\n",
       "      <td>0</td>\n",
       "      <td>0</td>\n",
       "      <td>0</td>\n",
       "      <td>0</td>\n",
       "      <td>0</td>\n",
       "      <td>0</td>\n",
       "      <td>0</td>\n",
       "      <td>0</td>\n",
       "      <td>0</td>\n",
       "      <td>0</td>\n",
       "      <td>0</td>\n",
       "      <td>0</td>\n",
       "      <td>0</td>\n",
       "      <td>0</td>\n",
       "      <td>0</td>\n",
       "      <td>0</td>\n",
       "      <td>0</td>\n",
       "      <td>0</td>\n",
       "      <td>0</td>\n",
       "      <td>0</td>\n",
       "      <td>0</td>\n",
       "      <td>0</td>\n",
       "      <td>0</td>\n",
       "      <td>0</td>\n",
       "      <td>0</td>\n",
       "      <td>0</td>\n",
       "      <td>0</td>\n",
       "      <td>0</td>\n",
       "      <td>0</td>\n",
       "      <td>0</td>\n",
       "      <td>0</td>\n",
       "      <td>0</td>\n",
       "      <td>0</td>\n",
       "      <td>0</td>\n",
       "      <td>0</td>\n",
       "      <td>0</td>\n",
       "      <td>0</td>\n",
       "      <td>0</td>\n",
       "      <td>0</td>\n",
       "      <td>0</td>\n",
       "      <td>0</td>\n",
       "      <td>0</td>\n",
       "      <td>0</td>\n",
       "      <td>0</td>\n",
       "      <td>0</td>\n",
       "      <td>0</td>\n",
       "      <td>0</td>\n",
       "      <td>0</td>\n",
       "      <td>0</td>\n",
       "      <td>0</td>\n",
       "      <td>0</td>\n",
       "      <td>0</td>\n",
       "      <td>0</td>\n",
       "      <td>0</td>\n",
       "      <td>0</td>\n",
       "      <td>0</td>\n",
       "      <td>0</td>\n",
       "      <td>0</td>\n",
       "      <td>0</td>\n",
       "      <td>0</td>\n",
       "      <td>0</td>\n",
       "      <td>0</td>\n",
       "      <td>0</td>\n",
       "      <td>0</td>\n",
       "      <td>0</td>\n",
       "      <td>0</td>\n",
       "      <td>0</td>\n",
       "      <td>0</td>\n",
       "      <td>0</td>\n",
       "      <td>0</td>\n",
       "      <td>0</td>\n",
       "      <td>0</td>\n",
       "      <td>0</td>\n",
       "      <td>0</td>\n",
       "      <td>0</td>\n",
       "      <td>0</td>\n",
       "      <td>0</td>\n",
       "      <td>0</td>\n",
       "      <td>0</td>\n",
       "      <td>0</td>\n",
       "      <td>0</td>\n",
       "      <td>0</td>\n",
       "      <td>0</td>\n",
       "      <td>0</td>\n",
       "      <td>0</td>\n",
       "      <td>0</td>\n",
       "      <td>0</td>\n",
       "      <td>0</td>\n",
       "    </tr>\n",
       "  </tbody>\n",
       "</table>\n",
       "</div>"
      ],
      "text/plain": [
       "   bath  balcony  price  total_sqft_int  bhk  Super built-up  Area  \\\n",
       "0   1.0      1.0   16.0           351.0    1                     0   \n",
       "1   1.0      0.0   35.0           527.0    1                     1   \n",
       "2   1.0      1.0   50.0           670.0    1                     1   \n",
       "3   2.0      1.0   70.0          1100.0    2                     1   \n",
       "4   3.0      2.0  150.0          1672.0    3                     1   \n",
       "\n",
       "   Built-up  Area  Plot  Area  available  loc_Whitefield  loc_Sarjapur  Road  \\\n",
       "0               1           0          1               0                   0   \n",
       "1               0           0          1               0                   0   \n",
       "2               0           0          1               0                   0   \n",
       "3               0           0          1               0                   0   \n",
       "4               0           0          1               0                   0   \n",
       "\n",
       "   loc_Thanisandra  loc_Raja Rajeshwari Nagar  loc_Hebbal  loc_Uttarahalli  \\\n",
       "0                0                          0           0                0   \n",
       "1                0                          0           0                0   \n",
       "2                0                          0           0                0   \n",
       "3                0                          0           0                0   \n",
       "4                0                          0           0                0   \n",
       "\n",
       "   loc_Electronic City  loc_Haralur Road  loc_Marathahalli  loc_Hennur Road  \\\n",
       "0                    0                 0                 0                0   \n",
       "1                    0                 0                 0                0   \n",
       "2                    0                 0                 0                0   \n",
       "3                    0                 0                 0                0   \n",
       "4                    0                 0                 0                0   \n",
       "\n",
       "   loc_7th Phase JP Nagar  loc_Bannerghatta Road  loc_Yelahanka  \\\n",
       "0                       0                      0              0   \n",
       "1                       0                      0              0   \n",
       "2                       0                      0              0   \n",
       "3                       0                      0              0   \n",
       "4                       0                      0              0   \n",
       "\n",
       "   loc_Electronic City Phase II  loc_Kanakpura Road  loc_Bellandur  \\\n",
       "0                             0                   0              0   \n",
       "1                             0                   0              0   \n",
       "2                             0                   0              0   \n",
       "3                             0                   0              0   \n",
       "4                             0                   0              0   \n",
       "\n",
       "   loc_KR Puram  loc_Harlur  loc_Varthur  loc_Sarjapur  loc_Hosa Road  \\\n",
       "0             0           0            0             0              0   \n",
       "1             0           0            0             0              0   \n",
       "2             0           0            0             0              0   \n",
       "3             0           0            0             0              0   \n",
       "4             0           0            0             0              0   \n",
       "\n",
       "   loc_Kasavanhalli  loc_Hoodi  loc_Hormavu  loc_Begur Road  loc_Chandapura  \\\n",
       "0                 0          0            0               0               0   \n",
       "1                 0          0            0               0               0   \n",
       "2                 0          0            0               0               0   \n",
       "3                 0          0            0               0               0   \n",
       "4                 0          0            0               0               0   \n",
       "\n",
       "   loc_Jakkur  loc_Banashankari  loc_Kaggadasapura  loc_Akshaya Nagar  \\\n",
       "0           0                 0                  0                  0   \n",
       "1           0                 0                  0                  0   \n",
       "2           0                 0                  0                  0   \n",
       "3           0                 0                  0                  0   \n",
       "4           0                 0                  0                  0   \n",
       "\n",
       "   loc_Rachenahalli  loc_Hennur  loc_Kothanur  loc_JP Nagar  loc_Yeshwanthpur  \\\n",
       "0                 0           0             0             0                 0   \n",
       "1                 0           0             0             0                 0   \n",
       "2                 0           0             0             0                 0   \n",
       "3                 0           0             0             0                 0   \n",
       "4                 0           0             0             0                 0   \n",
       "\n",
       "   loc_Old Madras Road  loc_Ramamurthy Nagar  loc_Panathur  loc_Hegde Nagar  \\\n",
       "0                    0                     0             0                0   \n",
       "1                    0                     0             0                0   \n",
       "2                    0                     0             0                0   \n",
       "3                    0                     0             0                0   \n",
       "4                    0                     0             0                0   \n",
       "\n",
       "   loc_HSR Layout  loc_Gottigere  loc_Thigalarapalya  loc_Kundalahalli  \\\n",
       "0               0              0                   0                 0   \n",
       "1               0              0                   0                 0   \n",
       "2               0              0                   0                 0   \n",
       "3               0              0                   0                 0   \n",
       "4               0              0                   0                 0   \n",
       "\n",
       "   loc_8th Phase JP Nagar  loc_Electronics City Phase 1  loc_Ramagondanahalli  \\\n",
       "0                       0                             0                     0   \n",
       "1                       0                             0                     0   \n",
       "2                       0                             0                     0   \n",
       "3                       0                             0                     0   \n",
       "4                       0                             0                     0   \n",
       "\n",
       "   loc_Hulimavu  loc_Talaghattapura  loc_Kengeri  loc_Green Glen Layout  \\\n",
       "0             0                   0            0                      0   \n",
       "1             0                   0            0                      0   \n",
       "2             0                   0            0                      0   \n",
       "3             0                   0            0                      0   \n",
       "4             0                   0            0                      0   \n",
       "\n",
       "   loc_Horamavu Agara  loc_Hosur Road  loc_CV Raman Nagar  loc_Jalahalli  \\\n",
       "0                   0               0                   0              0   \n",
       "1                   0               0                   0              0   \n",
       "2                   0               0                   0              0   \n",
       "3                   0               0                   0              0   \n",
       "4                   0               0                   0              0   \n",
       "\n",
       "   loc_Bisuvanahalli  loc_Mysore Road  loc_Vittasandra  loc_Kanakapura  \\\n",
       "0                  0                0                0               0   \n",
       "1                  0                0                0               0   \n",
       "2                  0                0                0               0   \n",
       "3                  0                0                0               0   \n",
       "4                  0                0                0               0   \n",
       "\n",
       "   loc_Lakshminarayana Pura  loc_Anekal  loc_Kalena Agrahara  \\\n",
       "0                         0           0                    0   \n",
       "1                         0           0                    0   \n",
       "2                         0           0                    0   \n",
       "3                         0           0                    0   \n",
       "4                         0           0                    0   \n",
       "\n",
       "   loc_Channasandra  loc_Bommasandra  loc_Bhoganhalli  \\\n",
       "0                 0                0                0   \n",
       "1                 0                0                0   \n",
       "2                 0                0                0   \n",
       "3                 0                0                0   \n",
       "4                 0                0                0   \n",
       "\n",
       "   loc_Kengeri Satellite Town  loc_Attibele  loc_Jigani  loc_Kadugodi  \\\n",
       "0                           0             0           0             0   \n",
       "1                           0             0           0             0   \n",
       "2                           0             0           0             0   \n",
       "3                           0             0           0             0   \n",
       "4                           0             0           0             0   \n",
       "\n",
       "   loc_Tumkur Road  loc_Balagere  loc_5th Phase JP Nagar  loc_Brookefield  \\\n",
       "0                0             0                       0                0   \n",
       "1                0             0                       0                0   \n",
       "2                0             0                       0                0   \n",
       "3                0             0                       0                0   \n",
       "4                0             0                       0                0   \n",
       "\n",
       "   loc_Subramanyapura  loc_Sahakara Nagar  loc_Vijayanagar  loc_Ananth Nagar  \\\n",
       "0                   0                   0                0                 0   \n",
       "1                   0                   0                0                 0   \n",
       "2                   0                   0                0                 0   \n",
       "3                   0                   0                0                 0   \n",
       "4                   0                   0                0                 0   \n",
       "\n",
       "   loc_Kudlu Gate  loc_Kudlu  loc_Ambedkar Nagar  loc_TC Palaya  \\\n",
       "0               0          0                   0              0   \n",
       "1               0          0                   0              0   \n",
       "2               0          0                   0              0   \n",
       "3               0          0                   0              0   \n",
       "4               0          0                   0              0   \n",
       "\n",
       "   loc_Doddathoguru  loc_Koramangala  loc_9th Phase JP Nagar  loc_Budigere  \\\n",
       "0                 0                0                       0             0   \n",
       "1                 0                0                       0             0   \n",
       "2                 0                0                       0             0   \n",
       "3                 0                0                       0             0   \n",
       "4                 0                0                       0             0   \n",
       "\n",
       "   loc_Kammasandra  loc_Horamavu Banaswadi  loc_Yelahanka New Town  \\\n",
       "0                0                       0                       0   \n",
       "1                0                       0                       0   \n",
       "2                0                       0                       0   \n",
       "3                0                       0                       0   \n",
       "4                0                       0                       0   \n",
       "\n",
       "   loc_Dodda Nekkundi  loc_Vidyaranyapura  loc_Lingadheeranahalli  \\\n",
       "0                   0                   0                       0   \n",
       "1                   0                   0                       0   \n",
       "2                   0                   0                       0   \n",
       "3                   0                   0                       0   \n",
       "4                   0                   0                       0   \n",
       "\n",
       "   loc_Old Airport Road  loc_Mahadevpura  loc_Nagarbhavi  loc_Ambalipura  \\\n",
       "0                     0                0               0               0   \n",
       "1                     0                0               0               0   \n",
       "2                     0                0               0               0   \n",
       "3                     0                0               0               0   \n",
       "4                     0                0               0               0   \n",
       "\n",
       "   loc_Bommanahalli  loc_Devanahalli  loc_Kodichikkanahalli  loc_Kathriguppe  \\\n",
       "0                 0                0                      0                0   \n",
       "1                 0                0                      0                0   \n",
       "2                 0                0                      0                0   \n",
       "3                 0                0                      0                0   \n",
       "4                 0                0                      0                0   \n",
       "\n",
       "   loc_Anandapura  loc_Rajaji Nagar  loc_Iblur Village  loc_Margondanahalli  \\\n",
       "0               0                 0                  0                    0   \n",
       "1               0                 0                  0                    0   \n",
       "2               0                 0                  0                    0   \n",
       "3               0                 0                  0                    0   \n",
       "4               0                 0                  0                    0   \n",
       "\n",
       "   loc_Kogilu  loc_Kambipura  \n",
       "0           0              0  \n",
       "1           0              0  \n",
       "2           0              0  \n",
       "3           0              0  \n",
       "4           0              0  "
      ]
     },
     "execution_count": 6,
     "metadata": {},
     "output_type": "execute_result"
    }
   ],
   "source": [
    "df.head()"
   ]
  },
  {
   "cell_type": "code",
   "execution_count": 7,
   "metadata": {
    "colab": {
     "base_uri": "https://localhost:8080/"
    },
    "executionInfo": {
     "elapsed": 12,
     "status": "ok",
     "timestamp": 1632813243480,
     "user": {
      "displayName": "Sneh Shah",
      "photoUrl": "https://lh3.googleusercontent.com/a-/AOh14GibvbxxgJIbJggDA8au45Ih5kuQgOfK-Ge6GpuFUw=s64",
      "userId": "06388715731700414777"
     },
     "user_tz": -330
    },
    "id": "Wq215fZF1SYB",
    "outputId": "b1d6f241-d212-4477-c011-7204885d66fc"
   },
   "outputs": [
    {
     "data": {
      "text/plain": [
       "(8736, 113)"
      ]
     },
     "execution_count": 7,
     "metadata": {},
     "output_type": "execute_result"
    }
   ],
   "source": [
    "df.shape"
   ]
  },
  {
   "cell_type": "markdown",
   "metadata": {
    "id": "wtsQEKi11do6"
   },
   "source": [
    "## **Train Test Split**"
   ]
  },
  {
   "cell_type": "code",
   "execution_count": 8,
   "metadata": {
    "executionInfo": {
     "elapsed": 834,
     "status": "ok",
     "timestamp": 1632813244306,
     "user": {
      "displayName": "Sneh Shah",
      "photoUrl": "https://lh3.googleusercontent.com/a-/AOh14GibvbxxgJIbJggDA8au45Ih5kuQgOfK-Ge6GpuFUw=s64",
      "userId": "06388715731700414777"
     },
     "user_tz": -330
    },
    "id": "x1hBhkft1Um5"
   },
   "outputs": [],
   "source": [
    "from sklearn.model_selection import train_test_split"
   ]
  },
  {
   "cell_type": "code",
   "execution_count": 9,
   "metadata": {
    "colab": {
     "base_uri": "https://localhost:8080/"
    },
    "executionInfo": {
     "elapsed": 14,
     "status": "ok",
     "timestamp": 1632813244308,
     "user": {
      "displayName": "Sneh Shah",
      "photoUrl": "https://lh3.googleusercontent.com/a-/AOh14GibvbxxgJIbJggDA8au45Ih5kuQgOfK-Ge6GpuFUw=s64",
      "userId": "06388715731700414777"
     },
     "user_tz": -330
    },
    "id": "OrThgC3i13lo",
    "outputId": "1e7d6586-707a-4d82-a9f4-6189a5008821"
   },
   "outputs": [
    {
     "data": {
      "text/plain": [
       "((8736, 112), (8736,))"
      ]
     },
     "execution_count": 9,
     "metadata": {},
     "output_type": "execute_result"
    }
   ],
   "source": [
    "x = df.drop('price',axis=1)\n",
    "y = df['price']\n",
    "x.shape , y.shape"
   ]
  },
  {
   "cell_type": "code",
   "execution_count": 10,
   "metadata": {
    "executionInfo": {
     "elapsed": 12,
     "status": "ok",
     "timestamp": 1632813244309,
     "user": {
      "displayName": "Sneh Shah",
      "photoUrl": "https://lh3.googleusercontent.com/a-/AOh14GibvbxxgJIbJggDA8au45Ih5kuQgOfK-Ge6GpuFUw=s64",
      "userId": "06388715731700414777"
     },
     "user_tz": -330
    },
    "id": "Ob7B4hAQ1_rw"
   },
   "outputs": [],
   "source": [
    "x_train , x_test , y_train , y_test = train_test_split(x,y,test_size=0.2,random_state=51)"
   ]
  },
  {
   "cell_type": "code",
   "execution_count": 11,
   "metadata": {
    "colab": {
     "base_uri": "https://localhost:8080/"
    },
    "executionInfo": {
     "elapsed": 11,
     "status": "ok",
     "timestamp": 1632813244309,
     "user": {
      "displayName": "Sneh Shah",
      "photoUrl": "https://lh3.googleusercontent.com/a-/AOh14GibvbxxgJIbJggDA8au45Ih5kuQgOfK-Ge6GpuFUw=s64",
      "userId": "06388715731700414777"
     },
     "user_tz": -330
    },
    "id": "qfisYN802YDN",
    "outputId": "851bc5a4-7676-40d7-998c-a4a368cf2fbf"
   },
   "outputs": [
    {
     "name": "stdout",
     "output_type": "stream",
     "text": [
      "Shape of X_train =  (6988, 112)\n",
      "Shape of y_train =  (6988,)\n",
      "Shape of X_test =  (1748, 112)\n",
      "Shape of y_test =  (1748,)\n"
     ]
    }
   ],
   "source": [
    "print('Shape of X_train = ', x_train.shape)\n",
    "print('Shape of y_train = ', y_train.shape)\n",
    "print('Shape of X_test = ', x_test.shape)\n",
    "print('Shape of y_test = ', y_test.shape)"
   ]
  },
  {
   "cell_type": "markdown",
   "metadata": {
    "id": "CUkuCekq3j7o"
   },
   "source": [
    "### **Feature Scalling**"
   ]
  },
  {
   "cell_type": "code",
   "execution_count": 12,
   "metadata": {
    "executionInfo": {
     "elapsed": 10,
     "status": "ok",
     "timestamp": 1632813244310,
     "user": {
      "displayName": "Sneh Shah",
      "photoUrl": "https://lh3.googleusercontent.com/a-/AOh14GibvbxxgJIbJggDA8au45Ih5kuQgOfK-Ge6GpuFUw=s64",
      "userId": "06388715731700414777"
     },
     "user_tz": -330
    },
    "id": "zybnL_XW2czH"
   },
   "outputs": [],
   "source": [
    "from sklearn.preprocessing import StandardScaler\n",
    "sc = StandardScaler()"
   ]
  },
  {
   "cell_type": "code",
   "execution_count": 13,
   "metadata": {
    "executionInfo": {
     "elapsed": 673,
     "status": "ok",
     "timestamp": 1632813244974,
     "user": {
      "displayName": "Sneh Shah",
      "photoUrl": "https://lh3.googleusercontent.com/a-/AOh14GibvbxxgJIbJggDA8au45Ih5kuQgOfK-Ge6GpuFUw=s64",
      "userId": "06388715731700414777"
     },
     "user_tz": -330
    },
    "id": "ltXMdqWM3xwX"
   },
   "outputs": [],
   "source": [
    "sc.fit(x_train)\n",
    "x_train = sc.transform(x_train)\n",
    "x_test = sc.transform(x_test)"
   ]
  },
  {
   "cell_type": "markdown",
   "metadata": {
    "id": "NK1PT7Wh8QFT"
   },
   "source": [
    "## **Machine Learning Modles**"
   ]
  },
  {
   "cell_type": "markdown",
   "metadata": {
    "id": "So7SxBAz8XW6"
   },
   "source": [
    "## **Linear Regression**"
   ]
  },
  {
   "cell_type": "code",
   "execution_count": 14,
   "metadata": {
    "executionInfo": {
     "elapsed": 6,
     "status": "ok",
     "timestamp": 1632813245623,
     "user": {
      "displayName": "Sneh Shah",
      "photoUrl": "https://lh3.googleusercontent.com/a-/AOh14GibvbxxgJIbJggDA8au45Ih5kuQgOfK-Ge6GpuFUw=s64",
      "userId": "06388715731700414777"
     },
     "user_tz": -330
    },
    "id": "tVLIUjIM7zJn"
   },
   "outputs": [],
   "source": [
    "from sklearn.linear_model import LinearRegression\n",
    "from sklearn.linear_model import Lasso\n",
    "from sklearn.linear_model import Ridge\n",
    "from sklearn.metrics import mean_squared_error\n",
    "from sklearn.metrics import r2_score"
   ]
  },
  {
   "cell_type": "code",
   "execution_count": 15,
   "metadata": {
    "executionInfo": {
     "elapsed": 5,
     "status": "ok",
     "timestamp": 1632813245624,
     "user": {
      "displayName": "Sneh Shah",
      "photoUrl": "https://lh3.googleusercontent.com/a-/AOh14GibvbxxgJIbJggDA8au45Ih5kuQgOfK-Ge6GpuFUw=s64",
      "userId": "06388715731700414777"
     },
     "user_tz": -330
    },
    "id": "C8AuqLP18-YC"
   },
   "outputs": [],
   "source": [
    "lr = LinearRegression()\n",
    "lasso = Lasso()\n",
    "ridge = Ridge()"
   ]
  },
  {
   "cell_type": "code",
   "execution_count": 16,
   "metadata": {
    "executionInfo": {
     "elapsed": 3,
     "status": "ok",
     "timestamp": 1632813246248,
     "user": {
      "displayName": "Sneh Shah",
      "photoUrl": "https://lh3.googleusercontent.com/a-/AOh14GibvbxxgJIbJggDA8au45Ih5kuQgOfK-Ge6GpuFUw=s64",
      "userId": "06388715731700414777"
     },
     "user_tz": -330
    },
    "id": "53_IOsoM9GAl"
   },
   "outputs": [],
   "source": [
    "def rmse(x_test,y_pred):\n",
    "  return np.sqrt(mean_squared_error(x_test,y_pred))"
   ]
  },
  {
   "cell_type": "code",
   "execution_count": 17,
   "metadata": {
    "executionInfo": {
     "elapsed": 4,
     "status": "ok",
     "timestamp": 1632813246249,
     "user": {
      "displayName": "Sneh Shah",
      "photoUrl": "https://lh3.googleusercontent.com/a-/AOh14GibvbxxgJIbJggDA8au45Ih5kuQgOfK-Ge6GpuFUw=s64",
      "userId": "06388715731700414777"
     },
     "user_tz": -330
    },
    "id": "YRYKIP7A-AJ_"
   },
   "outputs": [],
   "source": [
    "lr.fit(x_train,y_train)\n",
    "y_train_pred = lr.predict(x_train)\n",
    "y_test_pred = lr.predict(x_test)"
   ]
  },
  {
   "cell_type": "code",
   "execution_count": 18,
   "metadata": {
    "colab": {
     "base_uri": "https://localhost:8080/"
    },
    "executionInfo": {
     "elapsed": 9,
     "status": "ok",
     "timestamp": 1632813246913,
     "user": {
      "displayName": "Sneh Shah",
      "photoUrl": "https://lh3.googleusercontent.com/a-/AOh14GibvbxxgJIbJggDA8au45Ih5kuQgOfK-Ge6GpuFUw=s64",
      "userId": "06388715731700414777"
     },
     "user_tz": -330
    },
    "id": "m5B6hrTy_fYV",
    "outputId": "bcbf246a-f9a3-44c4-b9ac-372c390324cd"
   },
   "outputs": [
    {
     "data": {
      "text/plain": [
       "(0.8163209717497966, 0.8370208091517369)"
      ]
     },
     "execution_count": 18,
     "metadata": {},
     "output_type": "execute_result"
    }
   ],
   "source": [
    "lr_score = lr.score(x_test,y_test)\n",
    "lr_score_test = lr.score(x_train,y_train)\n",
    "lr_score,lr_score_test"
   ]
  },
  {
   "cell_type": "code",
   "execution_count": 19,
   "metadata": {
    "colab": {
     "base_uri": "https://localhost:8080/"
    },
    "executionInfo": {
     "elapsed": 5,
     "status": "ok",
     "timestamp": 1632813246914,
     "user": {
      "displayName": "Sneh Shah",
      "photoUrl": "https://lh3.googleusercontent.com/a-/AOh14GibvbxxgJIbJggDA8au45Ih5kuQgOfK-Ge6GpuFUw=s64",
      "userId": "06388715731700414777"
     },
     "user_tz": -330
    },
    "id": "sxIahaAN_oJS",
    "outputId": "004c3885-12e6-46f0-c6fa-0076b7d47b39"
   },
   "outputs": [
    {
     "name": "stdout",
     "output_type": "stream",
     "text": [
      "Train data r2 Score: 0.8370208091517369\n",
      "Test data r2 Score: 0.8163209717497966\n"
     ]
    }
   ],
   "source": [
    "print(\"Train data r2 Score:\",r2_score(y_train,y_train_pred))\n",
    "print(\"Test data r2 Score:\",r2_score(y_test,y_test_pred))"
   ]
  },
  {
   "cell_type": "code",
   "execution_count": 20,
   "metadata": {
    "colab": {
     "base_uri": "https://localhost:8080/"
    },
    "executionInfo": {
     "elapsed": 9,
     "status": "ok",
     "timestamp": 1632813247561,
     "user": {
      "displayName": "Sneh Shah",
      "photoUrl": "https://lh3.googleusercontent.com/a-/AOh14GibvbxxgJIbJggDA8au45Ih5kuQgOfK-Ge6GpuFUw=s64",
      "userId": "06388715731700414777"
     },
     "user_tz": -330
    },
    "id": "YkbkgR1_BcgE",
    "outputId": "47fff1de-8045-4ded-fe54-f57bd6fdb0d1"
   },
   "outputs": [
    {
     "data": {
      "text/plain": [
       "24.46762916052662"
      ]
     },
     "execution_count": 20,
     "metadata": {},
     "output_type": "execute_result"
    }
   ],
   "source": [
    "rmse(y_test,y_test_pred)"
   ]
  },
  {
   "cell_type": "markdown",
   "metadata": {
    "id": "BBRsocb87Kzh"
   },
   "source": [
    "### **Lasso Regression**"
   ]
  },
  {
   "cell_type": "code",
   "execution_count": 21,
   "metadata": {
    "colab": {
     "base_uri": "https://localhost:8080/"
    },
    "executionInfo": {
     "elapsed": 7,
     "status": "ok",
     "timestamp": 1632813248273,
     "user": {
      "displayName": "Sneh Shah",
      "photoUrl": "https://lh3.googleusercontent.com/a-/AOh14GibvbxxgJIbJggDA8au45Ih5kuQgOfK-Ge6GpuFUw=s64",
      "userId": "06388715731700414777"
     },
     "user_tz": -330
    },
    "id": "fmoJ3B457AyA",
    "outputId": "6835b438-2931-4330-a266-02984f621743"
   },
   "outputs": [
    {
     "data": {
      "text/plain": [
       "0.8033962827210621"
      ]
     },
     "execution_count": 21,
     "metadata": {},
     "output_type": "execute_result"
    }
   ],
   "source": [
    "lasso.fit(x_train,y_train)\n",
    "lasso_score = lasso.score(x_test,y_test)\n",
    "lasso_score"
   ]
  },
  {
   "cell_type": "code",
   "execution_count": 22,
   "metadata": {
    "executionInfo": {
     "elapsed": 5,
     "status": "ok",
     "timestamp": 1632813248274,
     "user": {
      "displayName": "Sneh Shah",
      "photoUrl": "https://lh3.googleusercontent.com/a-/AOh14GibvbxxgJIbJggDA8au45Ih5kuQgOfK-Ge6GpuFUw=s64",
      "userId": "06388715731700414777"
     },
     "user_tz": -330
    },
    "id": "TV2JAICi7y-b"
   },
   "outputs": [],
   "source": [
    "lasso_y_train_pred = lasso.predict(x_train)\n",
    "lasso_y_test_pred = lasso.predict(x_test)"
   ]
  },
  {
   "cell_type": "code",
   "execution_count": 23,
   "metadata": {
    "colab": {
     "base_uri": "https://localhost:8080/"
    },
    "executionInfo": {
     "elapsed": 10,
     "status": "ok",
     "timestamp": 1632813248965,
     "user": {
      "displayName": "Sneh Shah",
      "photoUrl": "https://lh3.googleusercontent.com/a-/AOh14GibvbxxgJIbJggDA8au45Ih5kuQgOfK-Ge6GpuFUw=s64",
      "userId": "06388715731700414777"
     },
     "user_tz": -330
    },
    "id": "jZJ5AkG98Lkc",
    "outputId": "93ea2c65-c227-4856-c708-122f3dd2f255"
   },
   "outputs": [
    {
     "name": "stdout",
     "output_type": "stream",
     "text": [
      "Train data r2 Score: 0.8226999568336802\n",
      "Test data r2 Score: 0.8033962827210621\n"
     ]
    }
   ],
   "source": [
    "print(\"Train data r2 Score:\",r2_score(y_train,lasso_y_train_pred))\n",
    "print(\"Test data r2 Score:\",r2_score(y_test,lasso_y_test_pred))"
   ]
  },
  {
   "cell_type": "markdown",
   "metadata": {
    "id": "dXJm1cs09Ubg"
   },
   "source": [
    "### **Support Vector Machine**"
   ]
  },
  {
   "cell_type": "code",
   "execution_count": 24,
   "metadata": {
    "colab": {
     "base_uri": "https://localhost:8080/"
    },
    "executionInfo": {
     "elapsed": 16087,
     "status": "ok",
     "timestamp": 1632813265775,
     "user": {
      "displayName": "Sneh Shah",
      "photoUrl": "https://lh3.googleusercontent.com/a-/AOh14GibvbxxgJIbJggDA8au45Ih5kuQgOfK-Ge6GpuFUw=s64",
      "userId": "06388715731700414777"
     },
     "user_tz": -330
    },
    "id": "YU8MVbDV8Sx_",
    "outputId": "7e3985f9-2307-4498-ed2f-6ae533dea5c0"
   },
   "outputs": [
    {
     "name": "stdout",
     "output_type": "stream",
     "text": [
      "Model Accurecy: 0.37960076432277734\n",
      "Error in this model: 44.96739508509193\n"
     ]
    }
   ],
   "source": [
    "from sklearn.svm import SVR\n",
    "svr = SVR()\n",
    "svr.fit(x_train,y_train)\n",
    "svr_score=svr.score(x_test,y_test) # with 0.2630802200711362\n",
    "svr_rmse = rmse(y_test, svr.predict(x_test))\n",
    "print(\"Model Accurecy:\",svr_score)\n",
    "print(\"Error in this model:\",svr_rmse)"
   ]
  },
  {
   "cell_type": "markdown",
   "metadata": {
    "id": "Xp1XYd-b4til"
   },
   "source": [
    "### **Random Forest Regressor**\n",
    "\n"
   ]
  },
  {
   "cell_type": "code",
   "execution_count": 25,
   "metadata": {
    "colab": {
     "base_uri": "https://localhost:8080/"
    },
    "executionInfo": {
     "elapsed": 1420,
     "status": "ok",
     "timestamp": 1632813267190,
     "user": {
      "displayName": "Sneh Shah",
      "photoUrl": "https://lh3.googleusercontent.com/a-/AOh14GibvbxxgJIbJggDA8au45Ih5kuQgOfK-Ge6GpuFUw=s64",
      "userId": "06388715731700414777"
     },
     "user_tz": -330
    },
    "id": "4S_HNvoU9L8e",
    "outputId": "e3212d39-2807-454b-93e8-0f90cc1ed4c5"
   },
   "outputs": [
    {
     "name": "stdout",
     "output_type": "stream",
     "text": [
      "Accurecy: 0.9609063901135512\n",
      "Error in this model: 11.287947748995757\n"
     ]
    }
   ],
   "source": [
    "from sklearn.ensemble import RandomForestRegressor\n",
    "rfr = RandomForestRegressor()\n",
    "rfr.fit(x_test,y_test)\n",
    "rfr_y_test_pred = rfr.predict(x_test)\n",
    "print(\"Accurecy:\",rfr.score(x_test,y_test))\n",
    "print(\"Error in this model:\",rmse(y_test,rfr_y_test_pred))"
   ]
  },
  {
   "cell_type": "markdown",
   "metadata": {
    "id": "ADPYSyyA6sN2"
   },
   "source": [
    "**Random Forest Regressor is giving most accurecy as shown above**"
   ]
  },
  {
   "cell_type": "markdown",
   "metadata": {
    "id": "ShPlA7Pt62Iu"
   },
   "source": [
    "## **Test Model**"
   ]
  },
  {
   "cell_type": "code",
   "execution_count": 26,
   "metadata": {
    "colab": {
     "base_uri": "https://localhost:8080/"
    },
    "executionInfo": {
     "elapsed": 8,
     "status": "ok",
     "timestamp": 1632813267191,
     "user": {
      "displayName": "Sneh Shah",
      "photoUrl": "https://lh3.googleusercontent.com/a-/AOh14GibvbxxgJIbJggDA8au45Ih5kuQgOfK-Ge6GpuFUw=s64",
      "userId": "06388715731700414777"
     },
     "user_tz": -330
    },
    "id": "ztqFmf2J5v03",
    "outputId": "e3fc3e3f-92d6-436d-ae7c-5bfd02cd79c9"
   },
   "outputs": [
    {
     "data": {
      "text/plain": [
       "['bath',\n",
       " 'balcony',\n",
       " 'total_sqft_int',\n",
       " 'bhk',\n",
       " 'Super built-up  Area',\n",
       " 'Built-up  Area',\n",
       " 'Plot  Area',\n",
       " 'available',\n",
       " 'loc_Whitefield',\n",
       " 'loc_Sarjapur  Road',\n",
       " 'loc_Thanisandra',\n",
       " 'loc_Raja Rajeshwari Nagar',\n",
       " 'loc_Hebbal',\n",
       " 'loc_Uttarahalli',\n",
       " 'loc_Electronic City',\n",
       " 'loc_Haralur Road',\n",
       " 'loc_Marathahalli',\n",
       " 'loc_Hennur Road',\n",
       " 'loc_7th Phase JP Nagar',\n",
       " 'loc_Bannerghatta Road',\n",
       " 'loc_Yelahanka',\n",
       " 'loc_Electronic City Phase II',\n",
       " 'loc_Kanakpura Road',\n",
       " 'loc_Bellandur',\n",
       " 'loc_KR Puram',\n",
       " 'loc_Harlur',\n",
       " 'loc_Varthur',\n",
       " 'loc_Sarjapur',\n",
       " 'loc_Hosa Road',\n",
       " 'loc_Kasavanhalli',\n",
       " 'loc_Hoodi',\n",
       " 'loc_Hormavu',\n",
       " 'loc_Begur Road',\n",
       " 'loc_Chandapura',\n",
       " 'loc_Jakkur',\n",
       " 'loc_Banashankari',\n",
       " 'loc_Kaggadasapura',\n",
       " 'loc_Akshaya Nagar',\n",
       " 'loc_Rachenahalli',\n",
       " 'loc_Hennur',\n",
       " 'loc_Kothanur',\n",
       " 'loc_JP Nagar',\n",
       " 'loc_Yeshwanthpur',\n",
       " 'loc_Old Madras Road',\n",
       " 'loc_Ramamurthy Nagar',\n",
       " 'loc_Panathur',\n",
       " 'loc_Hegde Nagar',\n",
       " 'loc_HSR Layout',\n",
       " 'loc_Gottigere',\n",
       " 'loc_Thigalarapalya',\n",
       " 'loc_Kundalahalli',\n",
       " 'loc_8th Phase JP Nagar',\n",
       " 'loc_Electronics City Phase 1',\n",
       " 'loc_Ramagondanahalli',\n",
       " 'loc_Hulimavu',\n",
       " 'loc_Talaghattapura',\n",
       " 'loc_Kengeri',\n",
       " 'loc_Green Glen Layout',\n",
       " 'loc_Horamavu Agara',\n",
       " 'loc_Hosur Road',\n",
       " 'loc_CV Raman Nagar',\n",
       " 'loc_Jalahalli',\n",
       " 'loc_Bisuvanahalli',\n",
       " 'loc_Mysore Road',\n",
       " 'loc_Vittasandra',\n",
       " 'loc_Kanakapura',\n",
       " 'loc_Lakshminarayana Pura',\n",
       " 'loc_Anekal',\n",
       " 'loc_Kalena Agrahara',\n",
       " 'loc_Channasandra',\n",
       " 'loc_Bommasandra',\n",
       " 'loc_Bhoganhalli',\n",
       " 'loc_Kengeri Satellite Town',\n",
       " 'loc_Attibele',\n",
       " 'loc_Jigani',\n",
       " 'loc_Kadugodi',\n",
       " 'loc_Tumkur Road',\n",
       " 'loc_Balagere',\n",
       " 'loc_5th Phase JP Nagar',\n",
       " 'loc_Brookefield',\n",
       " 'loc_Subramanyapura',\n",
       " 'loc_Sahakara Nagar',\n",
       " 'loc_Vijayanagar',\n",
       " 'loc_Ananth Nagar',\n",
       " 'loc_Kudlu Gate',\n",
       " 'loc_Kudlu',\n",
       " 'loc_Ambedkar Nagar',\n",
       " 'loc_TC Palaya',\n",
       " 'loc_Doddathoguru',\n",
       " 'loc_Koramangala',\n",
       " 'loc_9th Phase JP Nagar',\n",
       " 'loc_Budigere',\n",
       " 'loc_Kammasandra',\n",
       " 'loc_Horamavu Banaswadi',\n",
       " 'loc_Yelahanka New Town',\n",
       " 'loc_Dodda Nekkundi',\n",
       " 'loc_Vidyaranyapura',\n",
       " 'loc_Lingadheeranahalli',\n",
       " 'loc_Old Airport Road',\n",
       " 'loc_Mahadevpura',\n",
       " 'loc_Nagarbhavi',\n",
       " 'loc_Ambalipura',\n",
       " 'loc_Bommanahalli',\n",
       " 'loc_Devanahalli',\n",
       " 'loc_Kodichikkanahalli',\n",
       " 'loc_Kathriguppe',\n",
       " 'loc_Anandapura',\n",
       " 'loc_Rajaji Nagar',\n",
       " 'loc_Iblur Village',\n",
       " 'loc_Margondanahalli',\n",
       " 'loc_Kogilu',\n",
       " 'loc_Kambipura']"
      ]
     },
     "execution_count": 26,
     "metadata": {},
     "output_type": "execute_result"
    }
   ],
   "source": [
    "list(x.columns)"
   ]
  },
  {
   "cell_type": "code",
   "execution_count": 27,
   "metadata": {
    "executionInfo": {
     "elapsed": 4,
     "status": "ok",
     "timestamp": 1632813267191,
     "user": {
      "displayName": "Sneh Shah",
      "photoUrl": "https://lh3.googleusercontent.com/a-/AOh14GibvbxxgJIbJggDA8au45Ih5kuQgOfK-Ge6GpuFUw=s64",
      "userId": "06388715731700414777"
     },
     "user_tz": -330
    },
    "id": "K-y5JYTp68wL"
   },
   "outputs": [],
   "source": [
    "def predict_house_price(model,bath,balcony,total_sqft_int,bhk,area_type,availability,location):\n",
    "\n",
    "  arr = np.zeros(len(x.columns))\n",
    "\n",
    "  arr[0] = bath\n",
    "  arr[1] = balcony\n",
    "  arr[2] = total_sqft_int\n",
    "  arr[3] = bhk\n",
    "  \n",
    "  if area_type + \" Area\" in x.columns:\n",
    "    index = np.where(x.columns == area_type + \" Area\")[0][0]\n",
    "    arr[index] = 1\n",
    "\n",
    "  if \"availability\"==\"available\":\n",
    "    arr[7]=1\n",
    "\n",
    "  if 'loc_'+location in x.columns:\n",
    "    loc_index = np.where(x.columns==\"loc_\"+location)[0][0]\n",
    "    arr[loc_index] =1\n",
    "\n",
    "  arr = sc.transform([arr])[0]\n",
    "  return model.predict([arr])[0]"
   ]
  },
  {
   "cell_type": "markdown",
   "metadata": {
    "id": "yzz-E7JKVosv"
   },
   "source": [
    "### **Save and Load Model**"
   ]
  },
  {
   "cell_type": "code",
   "execution_count": null,
   "metadata": {
    "colab": {
     "base_uri": "https://localhost:8080/"
    },
    "executionInfo": {
     "elapsed": 494,
     "status": "ok",
     "timestamp": 1632764489371,
     "user": {
      "displayName": "Sneh Shah",
      "photoUrl": "https://lh3.googleusercontent.com/a-/AOh14GibvbxxgJIbJggDA8au45Ih5kuQgOfK-Ge6GpuFUw=s64",
      "userId": "06388715731700414777"
     },
     "user_tz": -330
    },
    "id": "Vj6DBjGjIZNm",
    "outputId": "1eb3fc2f-0f41-4d06-a93a-a37001a95282"
   },
   "outputs": [
    {
     "data": {
      "text/plain": [
       "['banglore_house_price_rfr.pkl']"
      ]
     },
     "execution_count": 30,
     "metadata": {},
     "output_type": "execute_result"
    }
   ],
   "source": [
    "import joblib\n",
    "\n",
    "joblib.dump(rfr,'banglore_house_price_rfr.pkl')"
   ]
  },
  {
   "cell_type": "code",
   "execution_count": null,
   "metadata": {
    "id": "obf2dpwDelZz"
   },
   "outputs": [],
   "source": []
  }
 ],
 "metadata": {
  "colab": {
   "authorship_tag": "ABX9TyNDntZfyCyYgRKQH5CWyyU2",
   "collapsed_sections": [],
   "name": "Banglore_Price_ML_Data.ipynb",
   "provenance": []
  },
  "kernelspec": {
   "display_name": "Python 3",
   "language": "python",
   "name": "python3"
  },
  "language_info": {
   "codemirror_mode": {
    "name": "ipython",
    "version": 3
   },
   "file_extension": ".py",
   "mimetype": "text/x-python",
   "name": "python",
   "nbconvert_exporter": "python",
   "pygments_lexer": "ipython3",
   "version": "3.8.5"
  }
 },
 "nbformat": 4,
 "nbformat_minor": 1
}
