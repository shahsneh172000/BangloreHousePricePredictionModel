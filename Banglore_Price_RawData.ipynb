{
 "cells": [
  {
   "cell_type": "markdown",
   "metadata": {
    "id": "EIBYBG5Qg74q"
   },
   "source": [
    "# **Data Preprocessing**\n"
   ]
  },
  {
   "cell_type": "code",
   "execution_count": 1,
   "metadata": {
    "executionInfo": {
     "elapsed": 1856,
     "status": "ok",
     "timestamp": 1632237227110,
     "user": {
      "displayName": "Sneh Shah",
      "photoUrl": "https://lh3.googleusercontent.com/a-/AOh14GibvbxxgJIbJggDA8au45Ih5kuQgOfK-Ge6GpuFUw=s64",
      "userId": "06388715731700414777"
     },
     "user_tz": -330
    },
    "id": "QezhC2-AKvXi"
   },
   "outputs": [],
   "source": [
    "import numpy as np\n",
    "import pandas as pd\n",
    "import seaborn as sns\n",
    "import matplotlib.pyplot as plt"
   ]
  },
  {
   "cell_type": "code",
   "execution_count": 2,
   "metadata": {
    "colab": {
     "base_uri": "https://localhost:8080/"
    },
    "executionInfo": {
     "elapsed": 25956,
     "status": "ok",
     "timestamp": 1632237253006,
     "user": {
      "displayName": "Sneh Shah",
      "photoUrl": "https://lh3.googleusercontent.com/a-/AOh14GibvbxxgJIbJggDA8au45Ih5kuQgOfK-Ge6GpuFUw=s64",
      "userId": "06388715731700414777"
     },
     "user_tz": -330
    },
    "id": "idAzfAcCLPsx",
    "outputId": "83145221-31d0-4b76-8fa1-4abaa9b6db5e"
   },
   "outputs": [
    {
     "name": "stdout",
     "output_type": "stream",
     "text": [
      "Mounted at /drive\n"
     ]
    }
   ],
   "source": [
    "from google.colab import drive\n",
    "drive.mount('/drive')"
   ]
  },
  {
   "cell_type": "code",
   "execution_count": 3,
   "metadata": {
    "executionInfo": {
     "elapsed": 1115,
     "status": "ok",
     "timestamp": 1632237254107,
     "user": {
      "displayName": "Sneh Shah",
      "photoUrl": "https://lh3.googleusercontent.com/a-/AOh14GibvbxxgJIbJggDA8au45Ih5kuQgOfK-Ge6GpuFUw=s64",
      "userId": "06388715731700414777"
     },
     "user_tz": -330
    },
    "id": "Aqc9H66lLVul"
   },
   "outputs": [],
   "source": [
    "df = pd.read_csv('/drive/My Drive/Colab Notebooks/Bengaluru_House_Data.csv')"
   ]
  },
  {
   "cell_type": "code",
   "execution_count": 4,
   "metadata": {
    "colab": {
     "base_uri": "https://localhost:8080/",
     "height": 204
    },
    "executionInfo": {
     "elapsed": 49,
     "status": "ok",
     "timestamp": 1632237254110,
     "user": {
      "displayName": "Sneh Shah",
      "photoUrl": "https://lh3.googleusercontent.com/a-/AOh14GibvbxxgJIbJggDA8au45Ih5kuQgOfK-Ge6GpuFUw=s64",
      "userId": "06388715731700414777"
     },
     "user_tz": -330
    },
    "id": "h6gTevyIL01b",
    "outputId": "47273a5a-845e-44e6-fb30-df3fd72579e8"
   },
   "outputs": [
    {
     "data": {
      "text/html": [
       "<div>\n",
       "<style scoped>\n",
       "    .dataframe tbody tr th:only-of-type {\n",
       "        vertical-align: middle;\n",
       "    }\n",
       "\n",
       "    .dataframe tbody tr th {\n",
       "        vertical-align: top;\n",
       "    }\n",
       "\n",
       "    .dataframe thead th {\n",
       "        text-align: right;\n",
       "    }\n",
       "</style>\n",
       "<table border=\"1\" class=\"dataframe\">\n",
       "  <thead>\n",
       "    <tr style=\"text-align: right;\">\n",
       "      <th></th>\n",
       "      <th>area_type</th>\n",
       "      <th>availability</th>\n",
       "      <th>location</th>\n",
       "      <th>size</th>\n",
       "      <th>society</th>\n",
       "      <th>total_sqft</th>\n",
       "      <th>bath</th>\n",
       "      <th>balcony</th>\n",
       "      <th>price</th>\n",
       "    </tr>\n",
       "  </thead>\n",
       "  <tbody>\n",
       "    <tr>\n",
       "      <th>0</th>\n",
       "      <td>Super built-up  Area</td>\n",
       "      <td>19-Dec</td>\n",
       "      <td>Electronic City Phase II</td>\n",
       "      <td>2 BHK</td>\n",
       "      <td>Coomee</td>\n",
       "      <td>1056</td>\n",
       "      <td>2.0</td>\n",
       "      <td>1.0</td>\n",
       "      <td>39.07</td>\n",
       "    </tr>\n",
       "    <tr>\n",
       "      <th>1</th>\n",
       "      <td>Plot  Area</td>\n",
       "      <td>Ready To Move</td>\n",
       "      <td>Chikka Tirupathi</td>\n",
       "      <td>4 Bedroom</td>\n",
       "      <td>Theanmp</td>\n",
       "      <td>2600</td>\n",
       "      <td>5.0</td>\n",
       "      <td>3.0</td>\n",
       "      <td>120.00</td>\n",
       "    </tr>\n",
       "    <tr>\n",
       "      <th>2</th>\n",
       "      <td>Built-up  Area</td>\n",
       "      <td>Ready To Move</td>\n",
       "      <td>Uttarahalli</td>\n",
       "      <td>3 BHK</td>\n",
       "      <td>NaN</td>\n",
       "      <td>1440</td>\n",
       "      <td>2.0</td>\n",
       "      <td>3.0</td>\n",
       "      <td>62.00</td>\n",
       "    </tr>\n",
       "    <tr>\n",
       "      <th>3</th>\n",
       "      <td>Super built-up  Area</td>\n",
       "      <td>Ready To Move</td>\n",
       "      <td>Lingadheeranahalli</td>\n",
       "      <td>3 BHK</td>\n",
       "      <td>Soiewre</td>\n",
       "      <td>1521</td>\n",
       "      <td>3.0</td>\n",
       "      <td>1.0</td>\n",
       "      <td>95.00</td>\n",
       "    </tr>\n",
       "    <tr>\n",
       "      <th>4</th>\n",
       "      <td>Super built-up  Area</td>\n",
       "      <td>Ready To Move</td>\n",
       "      <td>Kothanur</td>\n",
       "      <td>2 BHK</td>\n",
       "      <td>NaN</td>\n",
       "      <td>1200</td>\n",
       "      <td>2.0</td>\n",
       "      <td>1.0</td>\n",
       "      <td>51.00</td>\n",
       "    </tr>\n",
       "  </tbody>\n",
       "</table>\n",
       "</div>"
      ],
      "text/plain": [
       "              area_type   availability  ... balcony   price\n",
       "0  Super built-up  Area         19-Dec  ...     1.0   39.07\n",
       "1            Plot  Area  Ready To Move  ...     3.0  120.00\n",
       "2        Built-up  Area  Ready To Move  ...     3.0   62.00\n",
       "3  Super built-up  Area  Ready To Move  ...     1.0   95.00\n",
       "4  Super built-up  Area  Ready To Move  ...     1.0   51.00\n",
       "\n",
       "[5 rows x 9 columns]"
      ]
     },
     "execution_count": 4,
     "metadata": {},
     "output_type": "execute_result"
    }
   ],
   "source": [
    "df.head()"
   ]
  },
  {
   "cell_type": "markdown",
   "metadata": {
    "id": "1aQw0uovhgsd"
   },
   "source": [
    "### **Exploratory Data Analysis**"
   ]
  },
  {
   "cell_type": "code",
   "execution_count": 5,
   "metadata": {
    "colab": {
     "base_uri": "https://localhost:8080/"
    },
    "executionInfo": {
     "elapsed": 41,
     "status": "ok",
     "timestamp": 1632237254113,
     "user": {
      "displayName": "Sneh Shah",
      "photoUrl": "https://lh3.googleusercontent.com/a-/AOh14GibvbxxgJIbJggDA8au45Ih5kuQgOfK-Ge6GpuFUw=s64",
      "userId": "06388715731700414777"
     },
     "user_tz": -330
    },
    "id": "7fiNw5avPXE_",
    "outputId": "6b7dedba-0e81-46c4-8436-f1c7d140c883"
   },
   "outputs": [
    {
     "name": "stdout",
     "output_type": "stream",
     "text": [
      "<class 'pandas.core.frame.DataFrame'>\n",
      "RangeIndex: 13320 entries, 0 to 13319\n",
      "Data columns (total 9 columns):\n",
      " #   Column        Non-Null Count  Dtype  \n",
      "---  ------        --------------  -----  \n",
      " 0   area_type     13320 non-null  object \n",
      " 1   availability  13320 non-null  object \n",
      " 2   location      13319 non-null  object \n",
      " 3   size          13304 non-null  object \n",
      " 4   society       7818 non-null   object \n",
      " 5   total_sqft    13320 non-null  object \n",
      " 6   bath          13247 non-null  float64\n",
      " 7   balcony       12711 non-null  float64\n",
      " 8   price         13320 non-null  float64\n",
      "dtypes: float64(3), object(6)\n",
      "memory usage: 936.7+ KB\n"
     ]
    }
   ],
   "source": [
    "df.info()"
   ]
  },
  {
   "cell_type": "markdown",
   "metadata": {
    "id": "ooNKlIWdh841"
   },
   "source": [
    "There are only three numerical variables :- bath,balcony and price\n",
    "\n",
    "Six categorical variables :- area_type,availability,location,size,society and total_sqft\n",
    "\n",
    "Targate variable ===>>> price"
   ]
  },
  {
   "cell_type": "code",
   "execution_count": 6,
   "metadata": {
    "colab": {
     "base_uri": "https://localhost:8080/",
     "height": 297
    },
    "executionInfo": {
     "elapsed": 34,
     "status": "ok",
     "timestamp": 1632237254115,
     "user": {
      "displayName": "Sneh Shah",
      "photoUrl": "https://lh3.googleusercontent.com/a-/AOh14GibvbxxgJIbJggDA8au45Ih5kuQgOfK-Ge6GpuFUw=s64",
      "userId": "06388715731700414777"
     },
     "user_tz": -330
    },
    "id": "QJH-n72_htQ7",
    "outputId": "21aca798-667a-4427-c2fe-3136fa90685a"
   },
   "outputs": [
    {
     "data": {
      "text/html": [
       "<div>\n",
       "<style scoped>\n",
       "    .dataframe tbody tr th:only-of-type {\n",
       "        vertical-align: middle;\n",
       "    }\n",
       "\n",
       "    .dataframe tbody tr th {\n",
       "        vertical-align: top;\n",
       "    }\n",
       "\n",
       "    .dataframe thead th {\n",
       "        text-align: right;\n",
       "    }\n",
       "</style>\n",
       "<table border=\"1\" class=\"dataframe\">\n",
       "  <thead>\n",
       "    <tr style=\"text-align: right;\">\n",
       "      <th></th>\n",
       "      <th>bath</th>\n",
       "      <th>balcony</th>\n",
       "      <th>price</th>\n",
       "    </tr>\n",
       "  </thead>\n",
       "  <tbody>\n",
       "    <tr>\n",
       "      <th>count</th>\n",
       "      <td>13247.000000</td>\n",
       "      <td>12711.000000</td>\n",
       "      <td>13320.000000</td>\n",
       "    </tr>\n",
       "    <tr>\n",
       "      <th>mean</th>\n",
       "      <td>2.692610</td>\n",
       "      <td>1.584376</td>\n",
       "      <td>112.565627</td>\n",
       "    </tr>\n",
       "    <tr>\n",
       "      <th>std</th>\n",
       "      <td>1.341458</td>\n",
       "      <td>0.817263</td>\n",
       "      <td>148.971674</td>\n",
       "    </tr>\n",
       "    <tr>\n",
       "      <th>min</th>\n",
       "      <td>1.000000</td>\n",
       "      <td>0.000000</td>\n",
       "      <td>8.000000</td>\n",
       "    </tr>\n",
       "    <tr>\n",
       "      <th>25%</th>\n",
       "      <td>2.000000</td>\n",
       "      <td>1.000000</td>\n",
       "      <td>50.000000</td>\n",
       "    </tr>\n",
       "    <tr>\n",
       "      <th>50%</th>\n",
       "      <td>2.000000</td>\n",
       "      <td>2.000000</td>\n",
       "      <td>72.000000</td>\n",
       "    </tr>\n",
       "    <tr>\n",
       "      <th>75%</th>\n",
       "      <td>3.000000</td>\n",
       "      <td>2.000000</td>\n",
       "      <td>120.000000</td>\n",
       "    </tr>\n",
       "    <tr>\n",
       "      <th>max</th>\n",
       "      <td>40.000000</td>\n",
       "      <td>3.000000</td>\n",
       "      <td>3600.000000</td>\n",
       "    </tr>\n",
       "  </tbody>\n",
       "</table>\n",
       "</div>"
      ],
      "text/plain": [
       "               bath       balcony         price\n",
       "count  13247.000000  12711.000000  13320.000000\n",
       "mean       2.692610      1.584376    112.565627\n",
       "std        1.341458      0.817263    148.971674\n",
       "min        1.000000      0.000000      8.000000\n",
       "25%        2.000000      1.000000     50.000000\n",
       "50%        2.000000      2.000000     72.000000\n",
       "75%        3.000000      2.000000    120.000000\n",
       "max       40.000000      3.000000   3600.000000"
      ]
     },
     "execution_count": 6,
     "metadata": {},
     "output_type": "execute_result"
    }
   ],
   "source": [
    "df.describe()"
   ]
  },
  {
   "cell_type": "code",
   "execution_count": 7,
   "metadata": {
    "colab": {
     "base_uri": "https://localhost:8080/",
     "height": 567
    },
    "executionInfo": {
     "elapsed": 7614,
     "status": "ok",
     "timestamp": 1632237261702,
     "user": {
      "displayName": "Sneh Shah",
      "photoUrl": "https://lh3.googleusercontent.com/a-/AOh14GibvbxxgJIbJggDA8au45Ih5kuQgOfK-Ge6GpuFUw=s64",
      "userId": "06388715731700414777"
     },
     "user_tz": -330
    },
    "id": "jeN_2HaEjjQ1",
    "outputId": "6feda3bc-2cb2-4250-835c-46cbcd7b6dc7"
   },
   "outputs": [
    {
     "data": {
      "text/plain": [
       "<seaborn.axisgrid.PairGrid at 0x7fa183a64090>"
      ]
     },
     "execution_count": 7,
     "metadata": {},
     "output_type": "execute_result"
    },
    {
     "data": {
      "image/png": "[encoded data removed]",
      "text/plain": [
       "<Figure size 540x540 with 12 Axes>"
      ]
     },
     "metadata": {
      "needs_background": "light"
     },
     "output_type": "display_data"
    }
   ],
   "source": [
    "sns.pairplot(df)"
   ]
  },
  {
   "cell_type": "markdown",
   "metadata": {
    "id": "ajNE7_E6kZg1"
   },
   "source": [
    "There are some outliers in bath and balcony"
   ]
  },
  {
   "cell_type": "code",
   "execution_count": 8,
   "metadata": {
    "executionInfo": {
     "elapsed": 189,
     "status": "ok",
     "timestamp": 1632237261706,
     "user": {
      "displayName": "Sneh Shah",
      "photoUrl": "https://lh3.googleusercontent.com/a-/AOh14GibvbxxgJIbJggDA8au45Ih5kuQgOfK-Ge6GpuFUw=s64",
      "userId": "06388715731700414777"
     },
     "user_tz": -330
    },
    "id": "CSYqXvqAkI08"
   },
   "outputs": [],
   "source": [
    "def value_count(df):\n",
    "  for var in df.columns:\n",
    "    print(df[var].value_counts())\n",
    "    print('-------------------------')"
   ]
  },
  {
   "cell_type": "code",
   "execution_count": 9,
   "metadata": {
    "colab": {
     "base_uri": "https://localhost:8080/"
    },
    "executionInfo": {
     "elapsed": 189,
     "status": "ok",
     "timestamp": 1632237261709,
     "user": {
      "displayName": "Sneh Shah",
      "photoUrl": "https://lh3.googleusercontent.com/a-/AOh14GibvbxxgJIbJggDA8au45Ih5kuQgOfK-Ge6GpuFUw=s64",
      "userId": "06388715731700414777"
     },
     "user_tz": -330
    },
    "id": "QV6Ac0Qum2Ts",
    "outputId": "48e687c9-62a6-47ff-fb4e-c4dac877abd2"
   },
   "outputs": [
    {
     "name": "stdout",
     "output_type": "stream",
     "text": [
      "Super built-up  Area    8790\n",
      "Built-up  Area          2418\n",
      "Plot  Area              2025\n",
      "Carpet  Area              87\n",
      "Name: area_type, dtype: int64\n",
      "-------------------------\n",
      "Ready To Move    10581\n",
      "18-Dec             307\n",
      "18-May             295\n",
      "18-Apr             271\n",
      "18-Aug             200\n",
      "                 ...  \n",
      "14-Jul               1\n",
      "17-Jan               1\n",
      "15-Jun               1\n",
      "15-Dec               1\n",
      "16-Jan               1\n",
      "Name: availability, Length: 81, dtype: int64\n",
      "-------------------------\n",
      "Whitefield                 540\n",
      "Sarjapur  Road             399\n",
      "Electronic City            302\n",
      "Kanakpura Road             273\n",
      "Thanisandra                234\n",
      "                          ... \n",
      "Nagarbhavi  BDA Complex      1\n",
      "Vayunandana Layout           1\n",
      "3rd Block HBR Layout         1\n",
      "Neelasandra                  1\n",
      "Addischetan Layout           1\n",
      "Name: location, Length: 1305, dtype: int64\n",
      "-------------------------\n",
      "2 BHK         5199\n",
      "3 BHK         4310\n",
      "4 Bedroom      826\n",
      "4 BHK          591\n",
      "3 Bedroom      547\n",
      "1 BHK          538\n",
      "2 Bedroom      329\n",
      "5 Bedroom      297\n",
      "6 Bedroom      191\n",
      "1 Bedroom      105\n",
      "8 Bedroom       84\n",
      "7 Bedroom       83\n",
      "5 BHK           59\n",
      "9 Bedroom       46\n",
      "6 BHK           30\n",
      "7 BHK           17\n",
      "1 RK            13\n",
      "10 Bedroom      12\n",
      "9 BHK            8\n",
      "8 BHK            5\n",
      "10 BHK           2\n",
      "11 Bedroom       2\n",
      "11 BHK           2\n",
      "18 Bedroom       1\n",
      "43 Bedroom       1\n",
      "19 BHK           1\n",
      "16 BHK           1\n",
      "14 BHK           1\n",
      "13 BHK           1\n",
      "12 Bedroom       1\n",
      "27 BHK           1\n",
      "Name: size, dtype: int64\n",
      "-------------------------\n",
      "GrrvaGr    80\n",
      "PrarePa    76\n",
      "Sryalan    59\n",
      "Prtates    59\n",
      "GMown E    56\n",
      "           ..\n",
      "Soodsa      1\n",
      "Mebhaee     1\n",
      "FoncyRe     1\n",
      "Natic T     1\n",
      "Sanumn      1\n",
      "Name: society, Length: 2688, dtype: int64\n",
      "-------------------------\n",
      "1200    843\n",
      "1100    221\n",
      "1500    205\n",
      "2400    196\n",
      "600     180\n",
      "       ... \n",
      "2955      1\n",
      "3117      1\n",
      "4278      1\n",
      "3381      1\n",
      "3179      1\n",
      "Name: total_sqft, Length: 2117, dtype: int64\n",
      "-------------------------\n",
      "2.0     6908\n",
      "3.0     3286\n",
      "4.0     1226\n",
      "1.0      788\n",
      "5.0      524\n",
      "6.0      273\n",
      "7.0      102\n",
      "8.0       64\n",
      "9.0       43\n",
      "10.0      13\n",
      "12.0       7\n",
      "13.0       3\n",
      "11.0       3\n",
      "16.0       2\n",
      "27.0       1\n",
      "18.0       1\n",
      "40.0       1\n",
      "15.0       1\n",
      "14.0       1\n",
      "Name: bath, dtype: int64\n",
      "-------------------------\n",
      "2.0    5113\n",
      "1.0    4897\n",
      "3.0    1672\n",
      "0.0    1029\n",
      "Name: balcony, dtype: int64\n",
      "-------------------------\n",
      "75.00    310\n",
      "65.00    302\n",
      "55.00    275\n",
      "60.00    270\n",
      "45.00    240\n",
      "        ... \n",
      "81.55      1\n",
      "69.49      1\n",
      "42.18      1\n",
      "70.25      1\n",
      "74.82      1\n",
      "Name: price, Length: 1994, dtype: int64\n",
      "-------------------------\n"
     ]
    }
   ],
   "source": [
    "value_count(df)"
   ]
  },
  {
   "cell_type": "code",
   "execution_count": 10,
   "metadata": {
    "colab": {
     "base_uri": "https://localhost:8080/",
     "height": 142
    },
    "executionInfo": {
     "elapsed": 180,
     "status": "ok",
     "timestamp": 1632237261713,
     "user": {
      "displayName": "Sneh Shah",
      "photoUrl": "https://lh3.googleusercontent.com/a-/AOh14GibvbxxgJIbJggDA8au45Ih5kuQgOfK-Ge6GpuFUw=s64",
      "userId": "06388715731700414777"
     },
     "user_tz": -330
    },
    "id": "Hs1LoOTQm4wm",
    "outputId": "d046e805-585d-4fe2-87cd-09fc28c93a7b"
   },
   "outputs": [
    {
     "data": {
      "text/html": [
       "<div>\n",
       "<style scoped>\n",
       "    .dataframe tbody tr th:only-of-type {\n",
       "        vertical-align: middle;\n",
       "    }\n",
       "\n",
       "    .dataframe tbody tr th {\n",
       "        vertical-align: top;\n",
       "    }\n",
       "\n",
       "    .dataframe thead th {\n",
       "        text-align: right;\n",
       "    }\n",
       "</style>\n",
       "<table border=\"1\" class=\"dataframe\">\n",
       "  <thead>\n",
       "    <tr style=\"text-align: right;\">\n",
       "      <th></th>\n",
       "      <th>bath</th>\n",
       "      <th>balcony</th>\n",
       "      <th>price</th>\n",
       "    </tr>\n",
       "  </thead>\n",
       "  <tbody>\n",
       "    <tr>\n",
       "      <th>bath</th>\n",
       "      <td>1.000000</td>\n",
       "      <td>0.204201</td>\n",
       "      <td>0.456345</td>\n",
       "    </tr>\n",
       "    <tr>\n",
       "      <th>balcony</th>\n",
       "      <td>0.204201</td>\n",
       "      <td>1.000000</td>\n",
       "      <td>0.120355</td>\n",
       "    </tr>\n",
       "    <tr>\n",
       "      <th>price</th>\n",
       "      <td>0.456345</td>\n",
       "      <td>0.120355</td>\n",
       "      <td>1.000000</td>\n",
       "    </tr>\n",
       "  </tbody>\n",
       "</table>\n",
       "</div>"
      ],
      "text/plain": [
       "             bath   balcony     price\n",
       "bath     1.000000  0.204201  0.456345\n",
       "balcony  0.204201  1.000000  0.120355\n",
       "price    0.456345  0.120355  1.000000"
      ]
     },
     "execution_count": 10,
     "metadata": {},
     "output_type": "execute_result"
    }
   ],
   "source": [
    "df.corr()"
   ]
  },
  {
   "cell_type": "code",
   "execution_count": 11,
   "metadata": {
    "colab": {
     "base_uri": "https://localhost:8080/",
     "height": 286
    },
    "executionInfo": {
     "elapsed": 180,
     "status": "ok",
     "timestamp": 1632237261718,
     "user": {
      "displayName": "Sneh Shah",
      "photoUrl": "https://lh3.googleusercontent.com/a-/AOh14GibvbxxgJIbJggDA8au45Ih5kuQgOfK-Ge6GpuFUw=s64",
      "userId": "06388715731700414777"
     },
     "user_tz": -330
    },
    "id": "kEu6CtXpnyd9",
    "outputId": "5739e55d-f3e7-4f4a-9b1c-50c3b6b6f5bd"
   },
   "outputs": [
    {
     "data": {
      "text/plain": [
       "<matplotlib.axes._subplots.AxesSubplot at 0x7fa1796ebd50>"
      ]
     },
     "execution_count": 11,
     "metadata": {},
     "output_type": "execute_result"
    },
    {
     "data": {
      "image/png": "[encoded data removed]",
      "text/plain": [
       "<Figure size 432x288 with 2 Axes>"
      ]
     },
     "metadata": {
      "needs_background": "light"
     },
     "output_type": "display_data"
    }
   ],
   "source": [
    "l=[\"balcony\",\"bath\",\"price\"]\n",
    "sns.heatmap(df[l].corr(),cmap=\"coolwarm\")"
   ]
  },
  {
   "cell_type": "markdown",
   "metadata": {
    "id": "huhRdk8Ior24"
   },
   "source": [
    "Correlation of bath is higher than balcony"
   ]
  },
  {
   "cell_type": "markdown",
   "metadata": {
    "id": "D3Dm_n1upKNw"
   },
   "source": [
    "### Data **Cleaning**"
   ]
  },
  {
   "cell_type": "markdown",
   "metadata": {
    "id": "7GtMxLLdpg7-"
   },
   "source": [
    "Missing Value Emputation"
   ]
  },
  {
   "cell_type": "code",
   "execution_count": 12,
   "metadata": {
    "colab": {
     "base_uri": "https://localhost:8080/"
    },
    "executionInfo": {
     "elapsed": 165,
     "status": "ok",
     "timestamp": 1632237261723,
     "user": {
      "displayName": "Sneh Shah",
      "photoUrl": "https://lh3.googleusercontent.com/a-/AOh14GibvbxxgJIbJggDA8au45Ih5kuQgOfK-Ge6GpuFUw=s64",
      "userId": "06388715731700414777"
     },
     "user_tz": -330
    },
    "id": "4u3ONYfmoxE-",
    "outputId": "2dcb8fb0-b1fe-4f28-8aae-539fb2d4c939"
   },
   "outputs": [
    {
     "data": {
      "text/plain": [
       "area_type          0\n",
       "availability       0\n",
       "location           1\n",
       "size              16\n",
       "society         5502\n",
       "total_sqft         0\n",
       "bath              73\n",
       "balcony          609\n",
       "price              0\n",
       "dtype: int64"
      ]
     },
     "execution_count": 12,
     "metadata": {},
     "output_type": "execute_result"
    }
   ],
   "source": [
    "df.isnull().sum()"
   ]
  },
  {
   "cell_type": "code",
   "execution_count": 13,
   "metadata": {
    "colab": {
     "base_uri": "https://localhost:8080/"
    },
    "executionInfo": {
     "elapsed": 160,
     "status": "ok",
     "timestamp": 1632237261727,
     "user": {
      "displayName": "Sneh Shah",
      "photoUrl": "https://lh3.googleusercontent.com/a-/AOh14GibvbxxgJIbJggDA8au45Ih5kuQgOfK-Ge6GpuFUw=s64",
      "userId": "06388715731700414777"
     },
     "user_tz": -330
    },
    "id": "AS5EYYecpl9i",
    "outputId": "a6f5eaa4-e642-4adb-9ec6-078bf5105fc3"
   },
   "outputs": [
    {
     "data": {
      "text/plain": [
       "area_type        0.000000\n",
       "availability     0.000000\n",
       "location         0.007508\n",
       "size             0.120120\n",
       "society         41.306306\n",
       "total_sqft       0.000000\n",
       "bath             0.548048\n",
       "balcony          4.572072\n",
       "price            0.000000\n",
       "dtype: float64"
      ]
     },
     "execution_count": 13,
     "metadata": {},
     "output_type": "execute_result"
    }
   ],
   "source": [
    "df.isnull().mean()*100\n",
    "#shows percentage of missing values"
   ]
  },
  {
   "cell_type": "markdown",
   "metadata": {
    "id": "QOc2g7ds5kZO"
   },
   "source": [
    "Society has nearly 41% missing values so we have to remove it"
   ]
  },
  {
   "cell_type": "code",
   "execution_count": 14,
   "metadata": {
    "executionInfo": {
     "elapsed": 158,
     "status": "ok",
     "timestamp": 1632237261731,
     "user": {
      "displayName": "Sneh Shah",
      "photoUrl": "https://lh3.googleusercontent.com/a-/AOh14GibvbxxgJIbJggDA8au45Ih5kuQgOfK-Ge6GpuFUw=s64",
      "userId": "06388715731700414777"
     },
     "user_tz": -330
    },
    "id": "BIhpA0mwps5Z"
   },
   "outputs": [],
   "source": [
    "df2 = df.drop('society',axis=\"columns\")"
   ]
  },
  {
   "cell_type": "markdown",
   "metadata": {
    "id": "n6aRjoCh6W4x"
   },
   "source": [
    "Location,bath and size has very less missing value so we can delete those rows "
   ]
  },
  {
   "cell_type": "code",
   "execution_count": 15,
   "metadata": {
    "executionInfo": {
     "elapsed": 163,
     "status": "ok",
     "timestamp": 1632237261738,
     "user": {
      "displayName": "Sneh Shah",
      "photoUrl": "https://lh3.googleusercontent.com/a-/AOh14GibvbxxgJIbJggDA8au45Ih5kuQgOfK-Ge6GpuFUw=s64",
      "userId": "06388715731700414777"
     },
     "user_tz": -330
    },
    "id": "bhYgMhct6VpW"
   },
   "outputs": [],
   "source": [
    "df3 = df2.dropna()"
   ]
  },
  {
   "cell_type": "markdown",
   "metadata": {
    "id": "hxGhoPo17AzJ"
   },
   "source": [
    "We can fill balcony missing values with mean value"
   ]
  },
  {
   "cell_type": "code",
   "execution_count": 16,
   "metadata": {
    "colab": {
     "base_uri": "https://localhost:8080/"
    },
    "executionInfo": {
     "elapsed": 164,
     "status": "ok",
     "timestamp": 1632237261741,
     "user": {
      "displayName": "Sneh Shah",
      "photoUrl": "https://lh3.googleusercontent.com/a-/AOh14GibvbxxgJIbJggDA8au45Ih5kuQgOfK-Ge6GpuFUw=s64",
      "userId": "06388715731700414777"
     },
     "user_tz": -330
    },
    "id": "AtGvM_3r6_ks",
    "outputId": "dfa4528d-f210-4982-dc50-49d4649314fe"
   },
   "outputs": [
    {
     "name": "stderr",
     "output_type": "stream",
     "text": [
      "/usr/local/lib/python3.7/dist-packages/ipykernel_launcher.py:1: SettingWithCopyWarning: \n",
      "A value is trying to be set on a copy of a slice from a DataFrame.\n",
      "Try using .loc[row_indexer,col_indexer] = value instead\n",
      "\n",
      "See the caveats in the documentation: https://pandas.pydata.org/pandas-docs/stable/user_guide/indexing.html#returning-a-view-versus-a-copy\n",
      "  \"\"\"Entry point for launching an IPython kernel.\n"
     ]
    }
   ],
   "source": [
    "df3['balcony'] = df3['balcony'].fillna(df3['balcony'].mean())"
   ]
  },
  {
   "cell_type": "code",
   "execution_count": 17,
   "metadata": {
    "colab": {
     "base_uri": "https://localhost:8080/"
    },
    "executionInfo": {
     "elapsed": 162,
     "status": "ok",
     "timestamp": 1632237261744,
     "user": {
      "displayName": "Sneh Shah",
      "photoUrl": "https://lh3.googleusercontent.com/a-/AOh14GibvbxxgJIbJggDA8au45Ih5kuQgOfK-Ge6GpuFUw=s64",
      "userId": "06388715731700414777"
     },
     "user_tz": -330
    },
    "id": "ed6fHyRw7X9D",
    "outputId": "2e4aa1a5-669f-4561-bc5b-aa8be2da63e2"
   },
   "outputs": [
    {
     "data": {
      "text/plain": [
       "area_type       0\n",
       "availability    0\n",
       "location        0\n",
       "size            0\n",
       "total_sqft      0\n",
       "bath            0\n",
       "balcony         0\n",
       "price           0\n",
       "dtype: int64"
      ]
     },
     "execution_count": 17,
     "metadata": {},
     "output_type": "execute_result"
    }
   ],
   "source": [
    "df3.isnull().sum()"
   ]
  },
  {
   "cell_type": "markdown",
   "metadata": {
    "id": "0BO6IXWw_GOB"
   },
   "source": [
    "## **Feature Engineering**"
   ]
  },
  {
   "cell_type": "markdown",
   "metadata": {
    "id": "GdeqNSYh_ZWz"
   },
   "source": [
    "### **Converting total_sqft variable in numeric**"
   ]
  },
  {
   "cell_type": "code",
   "execution_count": 18,
   "metadata": {
    "colab": {
     "base_uri": "https://localhost:8080/"
    },
    "executionInfo": {
     "elapsed": 159,
     "status": "ok",
     "timestamp": 1632237261747,
     "user": {
      "displayName": "Sneh Shah",
      "photoUrl": "https://lh3.googleusercontent.com/a-/AOh14GibvbxxgJIbJggDA8au45Ih5kuQgOfK-Ge6GpuFUw=s64",
      "userId": "06388715731700414777"
     },
     "user_tz": -330
    },
    "id": "xmMEafA_7cFL",
    "outputId": "855d60bd-d9bc-4c12-fa39-105dd9cc125b"
   },
   "outputs": [
    {
     "data": {
      "text/plain": [
       "1200    788\n",
       "1100    218\n",
       "1500    198\n",
       "2400    177\n",
       "600     172\n",
       "       ... \n",
       "3044      1\n",
       "5600      1\n",
       "3381      1\n",
       "4278      1\n",
       "3179      1\n",
       "Name: total_sqft, Length: 1976, dtype: int64"
      ]
     },
     "execution_count": 18,
     "metadata": {},
     "output_type": "execute_result"
    }
   ],
   "source": [
    "df3['total_sqft'].value_counts()"
   ]
  },
  {
   "cell_type": "code",
   "execution_count": 19,
   "metadata": {
    "executionInfo": {
     "elapsed": 156,
     "status": "ok",
     "timestamp": 1632237261753,
     "user": {
      "displayName": "Sneh Shah",
      "photoUrl": "https://lh3.googleusercontent.com/a-/AOh14GibvbxxgJIbJggDA8au45Ih5kuQgOfK-Ge6GpuFUw=s64",
      "userId": "06388715731700414777"
     },
     "user_tz": -330
    },
    "id": "kZUWXLbZ_05V"
   },
   "outputs": [],
   "source": [
    "total_sqft_int = []\n",
    "for str_val in df3['total_sqft']:\n",
    "  try:\n",
    "    total_sqft_int.append(float(str_val)) # if '123.4' like this value in str then conver in float\n",
    "  except:\n",
    "    try:\n",
    "      temp = []\n",
    "      temp = str_val.split('-')\n",
    "      total_sqft_int.append((float(temp[0])+float(temp[-1]))/2) # '123 - 534' this str value split and take mean\n",
    "    except:\n",
    "      total_sqft_int.append(np.nan) # if value not contain in above format then consider as nan"
   ]
  },
  {
   "cell_type": "code",
   "execution_count": 20,
   "metadata": {
    "executionInfo": {
     "elapsed": 157,
     "status": "ok",
     "timestamp": 1632237261756,
     "user": {
      "displayName": "Sneh Shah",
      "photoUrl": "https://lh3.googleusercontent.com/a-/AOh14GibvbxxgJIbJggDA8au45Ih5kuQgOfK-Ge6GpuFUw=s64",
      "userId": "06388715731700414777"
     },
     "user_tz": -330
    },
    "id": "af7BcYUu_beI"
   },
   "outputs": [],
   "source": [
    "df4 = df3.reset_index(drop=True)"
   ]
  },
  {
   "cell_type": "code",
   "execution_count": 21,
   "metadata": {
    "executionInfo": {
     "elapsed": 165,
     "status": "ok",
     "timestamp": 1632237261766,
     "user": {
      "displayName": "Sneh Shah",
      "photoUrl": "https://lh3.googleusercontent.com/a-/AOh14GibvbxxgJIbJggDA8au45Ih5kuQgOfK-Ge6GpuFUw=s64",
      "userId": "06388715731700414777"
     },
     "user_tz": -330
    },
    "id": "_vwclfzk_NEi"
   },
   "outputs": [],
   "source": [
    "df5 = df4.join(pd.DataFrame({'total_sqft_int':total_sqft_int}))"
   ]
  },
  {
   "cell_type": "code",
   "execution_count": 22,
   "metadata": {
    "colab": {
     "base_uri": "https://localhost:8080/"
    },
    "executionInfo": {
     "elapsed": 164,
     "status": "ok",
     "timestamp": 1632237261769,
     "user": {
      "displayName": "Sneh Shah",
      "photoUrl": "https://lh3.googleusercontent.com/a-/AOh14GibvbxxgJIbJggDA8au45Ih5kuQgOfK-Ge6GpuFUw=s64",
      "userId": "06388715731700414777"
     },
     "user_tz": -330
    },
    "id": "lWI9oqBW_TUi",
    "outputId": "83045b02-5640-4a79-a567-c215c2be8f7f"
   },
   "outputs": [
    {
     "data": {
      "text/plain": [
       "area_type          0\n",
       "availability       0\n",
       "location           0\n",
       "size               0\n",
       "total_sqft         0\n",
       "bath               0\n",
       "balcony            0\n",
       "price              0\n",
       "total_sqft_int    42\n",
       "dtype: int64"
      ]
     },
     "execution_count": 22,
     "metadata": {},
     "output_type": "execute_result"
    }
   ],
   "source": [
    "df5.isnull().sum()"
   ]
  },
  {
   "cell_type": "code",
   "execution_count": 23,
   "metadata": {
    "executionInfo": {
     "elapsed": 153,
     "status": "ok",
     "timestamp": 1632237261772,
     "user": {
      "displayName": "Sneh Shah",
      "photoUrl": "https://lh3.googleusercontent.com/a-/AOh14GibvbxxgJIbJggDA8au45Ih5kuQgOfK-Ge6GpuFUw=s64",
      "userId": "06388715731700414777"
     },
     "user_tz": -330
    },
    "id": "en-YlE2u_WRB"
   },
   "outputs": [],
   "source": [
    "df5 = df5.dropna()"
   ]
  },
  {
   "cell_type": "code",
   "execution_count": 24,
   "metadata": {
    "colab": {
     "base_uri": "https://localhost:8080/"
    },
    "executionInfo": {
     "elapsed": 1186,
     "status": "ok",
     "timestamp": 1632237262807,
     "user": {
      "displayName": "Sneh Shah",
      "photoUrl": "https://lh3.googleusercontent.com/a-/AOh14GibvbxxgJIbJggDA8au45Ih5kuQgOfK-Ge6GpuFUw=s64",
      "userId": "06388715731700414777"
     },
     "user_tz": -330
    },
    "id": "3GThIRWiCunU",
    "outputId": "7285c6a9-713e-46b6-eba2-dd70f946023d"
   },
   "outputs": [
    {
     "name": "stdout",
     "output_type": "stream",
     "text": [
      "<class 'pandas.core.frame.DataFrame'>\n",
      "Int64Index: 12668 entries, 0 to 12709\n",
      "Data columns (total 9 columns):\n",
      " #   Column          Non-Null Count  Dtype  \n",
      "---  ------          --------------  -----  \n",
      " 0   area_type       12668 non-null  object \n",
      " 1   availability    12668 non-null  object \n",
      " 2   location        12668 non-null  object \n",
      " 3   size            12668 non-null  object \n",
      " 4   total_sqft      12668 non-null  object \n",
      " 5   bath            12668 non-null  float64\n",
      " 6   balcony         12668 non-null  float64\n",
      " 7   price           12668 non-null  float64\n",
      " 8   total_sqft_int  12668 non-null  float64\n",
      "dtypes: float64(4), object(5)\n",
      "memory usage: 989.7+ KB\n"
     ]
    }
   ],
   "source": [
    "df5.info()"
   ]
  },
  {
   "cell_type": "markdown",
   "metadata": {
    "id": "6ezjQkAeC6VP"
   },
   "source": [
    "### **Convert Size in Numeric**"
   ]
  },
  {
   "cell_type": "code",
   "execution_count": 25,
   "metadata": {
    "colab": {
     "base_uri": "https://localhost:8080/"
    },
    "executionInfo": {
     "elapsed": 153,
     "status": "ok",
     "timestamp": 1632237262816,
     "user": {
      "displayName": "Sneh Shah",
      "photoUrl": "https://lh3.googleusercontent.com/a-/AOh14GibvbxxgJIbJggDA8au45Ih5kuQgOfK-Ge6GpuFUw=s64",
      "userId": "06388715731700414777"
     },
     "user_tz": -330
    },
    "id": "ZvICX-c9C0Q_",
    "outputId": "281fff9f-5e5e-4654-fef0-a833a8d8690e"
   },
   "outputs": [
    {
     "data": {
      "text/plain": [
       "2 BHK         5147\n",
       "3 BHK         4119\n",
       "4 Bedroom      747\n",
       "1 BHK          526\n",
       "3 Bedroom      522\n",
       "4 BHK          488\n",
       "2 Bedroom      324\n",
       "5 Bedroom      260\n",
       "6 Bedroom      168\n",
       "1 Bedroom      100\n",
       "7 Bedroom       69\n",
       "8 Bedroom       64\n",
       "5 BHK           35\n",
       "9 Bedroom       29\n",
       "6 BHK           23\n",
       "7 BHK           16\n",
       "1 RK            13\n",
       "9 BHK            4\n",
       "8 BHK            3\n",
       "10 Bedroom       3\n",
       "11 Bedroom       2\n",
       "12 Bedroom       1\n",
       "27 BHK           1\n",
       "14 BHK           1\n",
       "13 BHK           1\n",
       "11 BHK           1\n",
       "43 Bedroom       1\n",
       "Name: size, dtype: int64"
      ]
     },
     "execution_count": 25,
     "metadata": {},
     "output_type": "execute_result"
    }
   ],
   "source": [
    "df5['size'].value_counts()"
   ]
  },
  {
   "cell_type": "code",
   "execution_count": 26,
   "metadata": {
    "executionInfo": {
     "elapsed": 138,
     "status": "ok",
     "timestamp": 1632237262820,
     "user": {
      "displayName": "Sneh Shah",
      "photoUrl": "https://lh3.googleusercontent.com/a-/AOh14GibvbxxgJIbJggDA8au45Ih5kuQgOfK-Ge6GpuFUw=s64",
      "userId": "06388715731700414777"
     },
     "user_tz": -330
    },
    "id": "3N32baXmDTID"
   },
   "outputs": [],
   "source": [
    "bhk = []\n",
    "for x in df5['size']:\n",
    "  l=[]\n",
    "  l=x.split(\" \")\n",
    "  bhk.append(int(l[0]))"
   ]
  },
  {
   "cell_type": "code",
   "execution_count": 27,
   "metadata": {
    "colab": {
     "base_uri": "https://localhost:8080/"
    },
    "executionInfo": {
     "elapsed": 136,
     "status": "ok",
     "timestamp": 1632237262822,
     "user": {
      "displayName": "Sneh Shah",
      "photoUrl": "https://lh3.googleusercontent.com/a-/AOh14GibvbxxgJIbJggDA8au45Ih5kuQgOfK-Ge6GpuFUw=s64",
      "userId": "06388715731700414777"
     },
     "user_tz": -330
    },
    "id": "ht3o9YC8EgUv",
    "outputId": "0cb866a2-7965-47cc-ea14-2f6acf8d8e3e"
   },
   "outputs": [
    {
     "data": {
      "text/plain": [
       "12668"
      ]
     },
     "execution_count": 27,
     "metadata": {},
     "output_type": "execute_result"
    }
   ],
   "source": [
    "len(bhk)"
   ]
  },
  {
   "cell_type": "code",
   "execution_count": 28,
   "metadata": {
    "executionInfo": {
     "elapsed": 126,
     "status": "ok",
     "timestamp": 1632237262825,
     "user": {
      "displayName": "Sneh Shah",
      "photoUrl": "https://lh3.googleusercontent.com/a-/AOh14GibvbxxgJIbJggDA8au45Ih5kuQgOfK-Ge6GpuFUw=s64",
      "userId": "06388715731700414777"
     },
     "user_tz": -330
    },
    "id": "rOb4PDjnFBkf"
   },
   "outputs": [],
   "source": [
    "df5 = df5.reset_index(drop=True)"
   ]
  },
  {
   "cell_type": "code",
   "execution_count": 29,
   "metadata": {
    "executionInfo": {
     "elapsed": 122,
     "status": "ok",
     "timestamp": 1632237262828,
     "user": {
      "displayName": "Sneh Shah",
      "photoUrl": "https://lh3.googleusercontent.com/a-/AOh14GibvbxxgJIbJggDA8au45Ih5kuQgOfK-Ge6GpuFUw=s64",
      "userId": "06388715731700414777"
     },
     "user_tz": -330
    },
    "id": "N8gikvigFlVw"
   },
   "outputs": [],
   "source": [
    "df6 = df5.join(pd.DataFrame({'bhk':bhk}))"
   ]
  },
  {
   "cell_type": "code",
   "execution_count": 30,
   "metadata": {
    "executionInfo": {
     "elapsed": 122,
     "status": "ok",
     "timestamp": 1632237262831,
     "user": {
      "displayName": "Sneh Shah",
      "photoUrl": "https://lh3.googleusercontent.com/a-/AOh14GibvbxxgJIbJggDA8au45Ih5kuQgOfK-Ge6GpuFUw=s64",
      "userId": "06388715731700414777"
     },
     "user_tz": -330
    },
    "id": "Sb3ORivVGD9z"
   },
   "outputs": [],
   "source": [
    "df6 = df6.drop(['size'],axis=1)"
   ]
  },
  {
   "cell_type": "markdown",
   "metadata": {
    "id": "dy85N_o0Gugj"
   },
   "source": [
    "We have converted all variable to numeric type which are possible to convert"
   ]
  },
  {
   "cell_type": "markdown",
   "metadata": {
    "id": "M9MvMblRHFfe"
   },
   "source": [
    "### **Finding and Removing Outliers**"
   ]
  },
  {
   "cell_type": "code",
   "execution_count": 31,
   "metadata": {
    "executionInfo": {
     "elapsed": 147,
     "status": "ok",
     "timestamp": 1632237262858,
     "user": {
      "displayName": "Sneh Shah",
      "photoUrl": "https://lh3.googleusercontent.com/a-/AOh14GibvbxxgJIbJggDA8au45Ih5kuQgOfK-Ge6GpuFUw=s64",
      "userId": "06388715731700414777"
     },
     "user_tz": -330
    },
    "id": "tl4Yt1BHGsai"
   },
   "outputs": [],
   "source": [
    "def box_plot(df,var):\n",
    "  sns.boxplot(x=df[var])\n",
    "  plt.show()"
   ]
  },
  {
   "cell_type": "code",
   "execution_count": 32,
   "metadata": {
    "colab": {
     "base_uri": "https://localhost:8080/",
     "height": 1000
    },
    "executionInfo": {
     "elapsed": 153,
     "status": "ok",
     "timestamp": 1632237262865,
     "user": {
      "displayName": "Sneh Shah",
      "photoUrl": "https://lh3.googleusercontent.com/a-/AOh14GibvbxxgJIbJggDA8au45Ih5kuQgOfK-Ge6GpuFUw=s64",
      "userId": "06388715731700414777"
     },
     "user_tz": -330
    },
    "id": "0bZBiOygLEli",
    "outputId": "bc173ef5-feff-41ce-a0c9-56cb84c82f2d"
   },
   "outputs": [
    {
     "name": "stdout",
     "output_type": "stream",
     "text": [
      "bath\n"
     ]
    },
    {
     "data": {
      "image/png": "[encoded data removed]",
      "text/plain": [
       "<Figure size 432x288 with 1 Axes>"
      ]
     },
     "metadata": {
      "needs_background": "light"
     },
     "output_type": "display_data"
    },
    {
     "name": "stdout",
     "output_type": "stream",
     "text": [
      "balcony\n"
     ]
    },
    {
     "data": {
      "image/png": "[encoded data removed]",
      "text/plain": [
       "<Figure size 432x288 with 1 Axes>"
      ]
     },
     "metadata": {
      "needs_background": "light"
     },
     "output_type": "display_data"
    },
    {
     "name": "stdout",
     "output_type": "stream",
     "text": [
      "total_sqft_int\n"
     ]
    },
    {
     "data": {
      "image/png": "[encoded data removed]",
      "text/plain": [
       "<Figure size 432x288 with 1 Axes>"
      ]
     },
     "metadata": {
      "needs_background": "light"
     },
     "output_type": "display_data"
    },
    {
     "name": "stdout",
     "output_type": "stream",
     "text": [
      "bhk\n"
     ]
    },
    {
     "data": {
      "image/png": "[encoded data removed]",
      "text/plain": [
       "<Figure size 432x288 with 1 Axes>"
      ]
     },
     "metadata": {
      "needs_background": "light"
     },
     "output_type": "display_data"
    },
    {
     "name": "stdout",
     "output_type": "stream",
     "text": [
      "price\n"
     ]
    },
    {
     "data": {
      "image/png": "[encoded data removed]",
      "text/plain": [
       "<Figure size 432x288 with 1 Axes>"
      ]
     },
     "metadata": {
      "needs_background": "light"
     },
     "output_type": "display_data"
    }
   ],
   "source": [
    "x=[\"bath\",\"balcony\",\"total_sqft_int\",\"bhk\",\"price\"]\n",
    "for i in x:\n",
    "  print(i)\n",
    "  box_plot(df6,i)"
   ]
  },
  {
   "cell_type": "markdown",
   "metadata": {
    "id": "956pAjs5rEbE"
   },
   "source": [
    "Here We consider minimum 350 sqft for 1 BHK\n",
    "\n",
    "So area<350 sqft will be outier"
   ]
  },
  {
   "cell_type": "code",
   "execution_count": 33,
   "metadata": {
    "executionInfo": {
     "elapsed": 137,
     "status": "ok",
     "timestamp": 1632237262869,
     "user": {
      "displayName": "Sneh Shah",
      "photoUrl": "https://lh3.googleusercontent.com/a-/AOh14GibvbxxgJIbJggDA8au45Ih5kuQgOfK-Ge6GpuFUw=s64",
      "userId": "06388715731700414777"
     },
     "user_tz": -330
    },
    "id": "2acVRC2nMlgl"
   },
   "outputs": [],
   "source": [
    "x=df6[df6['total_sqft_int']/df6['bhk'] < 300]"
   ]
  },
  {
   "cell_type": "code",
   "execution_count": 34,
   "metadata": {
    "executionInfo": {
     "elapsed": 143,
     "status": "ok",
     "timestamp": 1632237262878,
     "user": {
      "displayName": "Sneh Shah",
      "photoUrl": "https://lh3.googleusercontent.com/a-/AOh14GibvbxxgJIbJggDA8au45Ih5kuQgOfK-Ge6GpuFUw=s64",
      "userId": "06388715731700414777"
     },
     "user_tz": -330
    },
    "id": "Eipu_yUer6k8"
   },
   "outputs": [],
   "source": [
    "df7=df6[~(df6['total_sqft_int']/df6['bhk']<300)]\n",
    "#df7=df6[~(df6['total_sqft_int']/df6['bhk']<350)]"
   ]
  },
  {
   "cell_type": "code",
   "execution_count": 35,
   "metadata": {
    "colab": {
     "base_uri": "https://localhost:8080/"
    },
    "executionInfo": {
     "elapsed": 144,
     "status": "ok",
     "timestamp": 1632237262883,
     "user": {
      "displayName": "Sneh Shah",
      "photoUrl": "https://lh3.googleusercontent.com/a-/AOh14GibvbxxgJIbJggDA8au45Ih5kuQgOfK-Ge6GpuFUw=s64",
      "userId": "06388715731700414777"
     },
     "user_tz": -330
    },
    "id": "lyN2wyz4sH4r",
    "outputId": "fdaad945-60f8-4385-cf01-94d9a894a4f6"
   },
   "outputs": [
    {
     "data": {
      "text/plain": [
       "(12013, 9)"
      ]
     },
     "execution_count": 35,
     "metadata": {},
     "output_type": "execute_result"
    }
   ],
   "source": [
    "df7.shape"
   ]
  },
  {
   "cell_type": "markdown",
   "metadata": {
    "id": "cGPzKfZ2tlUo"
   },
   "source": [
    "Now we have to calculate price per sqft"
   ]
  },
  {
   "cell_type": "code",
   "execution_count": 36,
   "metadata": {
    "colab": {
     "base_uri": "https://localhost:8080/"
    },
    "executionInfo": {
     "elapsed": 143,
     "status": "ok",
     "timestamp": 1632237262887,
     "user": {
      "displayName": "Sneh Shah",
      "photoUrl": "https://lh3.googleusercontent.com/a-/AOh14GibvbxxgJIbJggDA8au45Ih5kuQgOfK-Ge6GpuFUw=s64",
      "userId": "06388715731700414777"
     },
     "user_tz": -330
    },
    "id": "RDqrLd--tfA6",
    "outputId": "270fef78-893a-4662-ab71-2715b1e10b46"
   },
   "outputs": [
    {
     "name": "stderr",
     "output_type": "stream",
     "text": [
      "/usr/local/lib/python3.7/dist-packages/ipykernel_launcher.py:1: SettingWithCopyWarning: \n",
      "A value is trying to be set on a copy of a slice from a DataFrame.\n",
      "Try using .loc[row_indexer,col_indexer] = value instead\n",
      "\n",
      "See the caveats in the documentation: https://pandas.pydata.org/pandas-docs/stable/user_guide/indexing.html#returning-a-view-versus-a-copy\n",
      "  \"\"\"Entry point for launching an IPython kernel.\n"
     ]
    }
   ],
   "source": [
    "df7['price_per_sqft'] = df7['price'] * 100000 / df7['total_sqft_int']"
   ]
  },
  {
   "cell_type": "code",
   "execution_count": 37,
   "metadata": {
    "colab": {
     "base_uri": "https://localhost:8080/",
     "height": 204
    },
    "executionInfo": {
     "elapsed": 142,
     "status": "ok",
     "timestamp": 1632237262890,
     "user": {
      "displayName": "Sneh Shah",
      "photoUrl": "https://lh3.googleusercontent.com/a-/AOh14GibvbxxgJIbJggDA8au45Ih5kuQgOfK-Ge6GpuFUw=s64",
      "userId": "06388715731700414777"
     },
     "user_tz": -330
    },
    "id": "juBIxfb1uz2V",
    "outputId": "ddadd225-deeb-460e-9e41-0399d80f468e"
   },
   "outputs": [
    {
     "data": {
      "text/html": [
       "<div>\n",
       "<style scoped>\n",
       "    .dataframe tbody tr th:only-of-type {\n",
       "        vertical-align: middle;\n",
       "    }\n",
       "\n",
       "    .dataframe tbody tr th {\n",
       "        vertical-align: top;\n",
       "    }\n",
       "\n",
       "    .dataframe thead th {\n",
       "        text-align: right;\n",
       "    }\n",
       "</style>\n",
       "<table border=\"1\" class=\"dataframe\">\n",
       "  <thead>\n",
       "    <tr style=\"text-align: right;\">\n",
       "      <th></th>\n",
       "      <th>area_type</th>\n",
       "      <th>availability</th>\n",
       "      <th>location</th>\n",
       "      <th>total_sqft</th>\n",
       "      <th>bath</th>\n",
       "      <th>balcony</th>\n",
       "      <th>price</th>\n",
       "      <th>total_sqft_int</th>\n",
       "      <th>bhk</th>\n",
       "      <th>price_per_sqft</th>\n",
       "    </tr>\n",
       "  </thead>\n",
       "  <tbody>\n",
       "    <tr>\n",
       "      <th>0</th>\n",
       "      <td>Super built-up  Area</td>\n",
       "      <td>19-Dec</td>\n",
       "      <td>Electronic City Phase II</td>\n",
       "      <td>1056</td>\n",
       "      <td>2.0</td>\n",
       "      <td>1.0</td>\n",
       "      <td>39.07</td>\n",
       "      <td>1056.0</td>\n",
       "      <td>2</td>\n",
       "      <td>3699.810606</td>\n",
       "    </tr>\n",
       "    <tr>\n",
       "      <th>1</th>\n",
       "      <td>Plot  Area</td>\n",
       "      <td>Ready To Move</td>\n",
       "      <td>Chikka Tirupathi</td>\n",
       "      <td>2600</td>\n",
       "      <td>5.0</td>\n",
       "      <td>3.0</td>\n",
       "      <td>120.00</td>\n",
       "      <td>2600.0</td>\n",
       "      <td>4</td>\n",
       "      <td>4615.384615</td>\n",
       "    </tr>\n",
       "    <tr>\n",
       "      <th>2</th>\n",
       "      <td>Built-up  Area</td>\n",
       "      <td>Ready To Move</td>\n",
       "      <td>Uttarahalli</td>\n",
       "      <td>1440</td>\n",
       "      <td>2.0</td>\n",
       "      <td>3.0</td>\n",
       "      <td>62.00</td>\n",
       "      <td>1440.0</td>\n",
       "      <td>3</td>\n",
       "      <td>4305.555556</td>\n",
       "    </tr>\n",
       "    <tr>\n",
       "      <th>3</th>\n",
       "      <td>Super built-up  Area</td>\n",
       "      <td>Ready To Move</td>\n",
       "      <td>Lingadheeranahalli</td>\n",
       "      <td>1521</td>\n",
       "      <td>3.0</td>\n",
       "      <td>1.0</td>\n",
       "      <td>95.00</td>\n",
       "      <td>1521.0</td>\n",
       "      <td>3</td>\n",
       "      <td>6245.890861</td>\n",
       "    </tr>\n",
       "    <tr>\n",
       "      <th>4</th>\n",
       "      <td>Super built-up  Area</td>\n",
       "      <td>Ready To Move</td>\n",
       "      <td>Kothanur</td>\n",
       "      <td>1200</td>\n",
       "      <td>2.0</td>\n",
       "      <td>1.0</td>\n",
       "      <td>51.00</td>\n",
       "      <td>1200.0</td>\n",
       "      <td>2</td>\n",
       "      <td>4250.000000</td>\n",
       "    </tr>\n",
       "  </tbody>\n",
       "</table>\n",
       "</div>"
      ],
      "text/plain": [
       "              area_type   availability  ... bhk price_per_sqft\n",
       "0  Super built-up  Area         19-Dec  ...   2    3699.810606\n",
       "1            Plot  Area  Ready To Move  ...   4    4615.384615\n",
       "2        Built-up  Area  Ready To Move  ...   3    4305.555556\n",
       "3  Super built-up  Area  Ready To Move  ...   3    6245.890861\n",
       "4  Super built-up  Area  Ready To Move  ...   2    4250.000000\n",
       "\n",
       "[5 rows x 10 columns]"
      ]
     },
     "execution_count": 37,
     "metadata": {},
     "output_type": "execute_result"
    }
   ],
   "source": [
    "df7.head()"
   ]
  },
  {
   "cell_type": "code",
   "execution_count": 38,
   "metadata": {
    "colab": {
     "base_uri": "https://localhost:8080/"
    },
    "executionInfo": {
     "elapsed": 138,
     "status": "ok",
     "timestamp": 1632237262892,
     "user": {
      "displayName": "Sneh Shah",
      "photoUrl": "https://lh3.googleusercontent.com/a-/AOh14GibvbxxgJIbJggDA8au45Ih5kuQgOfK-Ge6GpuFUw=s64",
      "userId": "06388715731700414777"
     },
     "user_tz": -330
    },
    "id": "uuLL66t5u3H4",
    "outputId": "e72a01e3-0d8b-4627-9bf3-ea152b41971c"
   },
   "outputs": [
    {
     "data": {
      "text/plain": [
       "count     12013.000000\n",
       "mean       6206.082347\n",
       "std        3985.518807\n",
       "min         267.829813\n",
       "25%        4199.363057\n",
       "50%        5252.525253\n",
       "75%        6823.529412\n",
       "max      176470.588235\n",
       "Name: price_per_sqft, dtype: float64"
      ]
     },
     "execution_count": 38,
     "metadata": {},
     "output_type": "execute_result"
    }
   ],
   "source": [
    "df7.price_per_sqft.describe()"
   ]
  },
  {
   "cell_type": "markdown",
   "metadata": {
    "id": "qaqgVzE1v5ST"
   },
   "source": [
    "Price per Sqft under mean-std and above mean+std are consider as outlier"
   ]
  },
  {
   "cell_type": "code",
   "execution_count": 39,
   "metadata": {
    "executionInfo": {
     "elapsed": 2802,
     "status": "ok",
     "timestamp": 1632237265560,
     "user": {
      "displayName": "Sneh Shah",
      "photoUrl": "https://lh3.googleusercontent.com/a-/AOh14GibvbxxgJIbJggDA8au45Ih5kuQgOfK-Ge6GpuFUw=s64",
      "userId": "06388715731700414777"
     },
     "user_tz": -330
    },
    "id": "-1lM5zVsvHPC"
   },
   "outputs": [],
   "source": [
    "temp_df = pd.DataFrame()\n",
    "m = np.mean(df7.price_per_sqft)\n",
    "std = np.std(df7.price_per_sqft)\n",
    "for key,subdf in df7.groupby('location'):\n",
    "  df_reduce = subdf[  (  subdf.price_per_sqft  >  (  m-std  ))  &  (  subdf.price_per_sqft  <  (  m+std  )  )  ]\n",
    "  temp_df = pd.concat([temp_df,df_reduce],ignore_index=True)"
   ]
  },
  {
   "cell_type": "code",
   "execution_count": 40,
   "metadata": {
    "colab": {
     "base_uri": "https://localhost:8080/"
    },
    "executionInfo": {
     "elapsed": 21,
     "status": "ok",
     "timestamp": 1632237265562,
     "user": {
      "displayName": "Sneh Shah",
      "photoUrl": "https://lh3.googleusercontent.com/a-/AOh14GibvbxxgJIbJggDA8au45Ih5kuQgOfK-Ge6GpuFUw=s64",
      "userId": "06388715731700414777"
     },
     "user_tz": -330
    },
    "id": "xpEsmLQKyVgQ",
    "outputId": "0ec9684d-01a1-44d2-944c-4a5786946767"
   },
   "outputs": [
    {
     "data": {
      "text/plain": [
       "(10896, 10)"
      ]
     },
     "execution_count": 40,
     "metadata": {},
     "output_type": "execute_result"
    }
   ],
   "source": [
    "temp_df.shape"
   ]
  },
  {
   "cell_type": "code",
   "execution_count": 41,
   "metadata": {
    "executionInfo": {
     "elapsed": 18,
     "status": "ok",
     "timestamp": 1632237265564,
     "user": {
      "displayName": "Sneh Shah",
      "photoUrl": "https://lh3.googleusercontent.com/a-/AOh14GibvbxxgJIbJggDA8au45Ih5kuQgOfK-Ge6GpuFUw=s64",
      "userId": "06388715731700414777"
     },
     "user_tz": -330
    },
    "id": "3YbClpUg0OxS"
   },
   "outputs": [],
   "source": [
    "df8 = temp_df"
   ]
  },
  {
   "cell_type": "code",
   "execution_count": 42,
   "metadata": {
    "colab": {
     "base_uri": "https://localhost:8080/",
     "height": 296
    },
    "executionInfo": {
     "elapsed": 1117,
     "status": "ok",
     "timestamp": 1632237266663,
     "user": {
      "displayName": "Sneh Shah",
      "photoUrl": "https://lh3.googleusercontent.com/a-/AOh14GibvbxxgJIbJggDA8au45Ih5kuQgOfK-Ge6GpuFUw=s64",
      "userId": "06388715731700414777"
     },
     "user_tz": -330
    },
    "id": "casZvLX30kZt",
    "outputId": "54bfc39d-7743-43d6-9e25-a0ab7a2cab64"
   },
   "outputs": [
    {
     "data": {
      "text/plain": [
       "<matplotlib.axes._subplots.AxesSubplot at 0x7fa1796ac390>"
      ]
     },
     "execution_count": 42,
     "metadata": {},
     "output_type": "execute_result"
    },
    {
     "data": {
      "image/png": "[encoded data removed]",
      "text/plain": [
       "<Figure size 432x288 with 1 Axes>"
      ]
     },
     "metadata": {
      "needs_background": "light"
     },
     "output_type": "display_data"
    }
   ],
   "source": [
    "sns.scatterplot(data=df8,y=\"bhk\",x=\"price\")"
   ]
  },
  {
   "cell_type": "code",
   "execution_count": 43,
   "metadata": {
    "executionInfo": {
     "elapsed": 54,
     "status": "ok",
     "timestamp": 1632237266666,
     "user": {
      "displayName": "Sneh Shah",
      "photoUrl": "https://lh3.googleusercontent.com/a-/AOh14GibvbxxgJIbJggDA8au45Ih5kuQgOfK-Ge6GpuFUw=s64",
      "userId": "06388715731700414777"
     },
     "user_tz": -330
    },
    "id": "Hb6nyDqcXJbO"
   },
   "outputs": [],
   "source": [
    "def scatter_plt(df,loc):\n",
    "  plt.figure(figsize=(16,9))\n",
    "  bhk2 = df[(df.location==loc) & (df.bhk==2)]\n",
    "  bhk3 = df[(df.location==loc) & (df.bhk==3)]\n",
    "  plt.scatter(bhk2.total_sqft_int,bhk2.price,label='2 BHK',s=50)\n",
    "  plt.scatter(bhk3.total_sqft_int,bhk3.price,label='3 BHK',s=50)\n",
    "  plt.xlabel(\"Total Area\")\n",
    "  plt.ylabel(\"Price\")\n",
    "  plt.legend()"
   ]
  },
  {
   "cell_type": "code",
   "execution_count": 44,
   "metadata": {
    "colab": {
     "base_uri": "https://localhost:8080/",
     "height": 551
    },
    "executionInfo": {
     "elapsed": 58,
     "status": "ok",
     "timestamp": 1632237266676,
     "user": {
      "displayName": "Sneh Shah",
      "photoUrl": "https://lh3.googleusercontent.com/a-/AOh14GibvbxxgJIbJggDA8au45Ih5kuQgOfK-Ge6GpuFUw=s64",
      "userId": "06388715731700414777"
     },
     "user_tz": -330
    },
    "id": "bg-P-KJJkabc",
    "outputId": "58e821ce-2f38-403e-8285-92bde1b44718"
   },
   "outputs": [
    {
     "data": {
      "image/png": "[encoded data removed]",
      "text/plain": [
       "<Figure size 1152x648 with 1 Axes>"
      ]
     },
     "metadata": {
      "needs_background": "light"
     },
     "output_type": "display_data"
    }
   ],
   "source": [
    "scatter_plt(df8,\"Hebbal\")"
   ]
  },
  {
   "cell_type": "code",
   "execution_count": 45,
   "metadata": {
    "colab": {
     "base_uri": "https://localhost:8080/",
     "height": 551
    },
    "executionInfo": {
     "elapsed": 902,
     "status": "ok",
     "timestamp": 1632237267527,
     "user": {
      "displayName": "Sneh Shah",
      "photoUrl": "https://lh3.googleusercontent.com/a-/AOh14GibvbxxgJIbJggDA8au45Ih5kuQgOfK-Ge6GpuFUw=s64",
      "userId": "06388715731700414777"
     },
     "user_tz": -330
    },
    "id": "HLOADRtqkk4Q",
    "outputId": "ab72786e-5566-41c5-c10e-b6b2bd92435d"
   },
   "outputs": [
    {
     "data": {
      "image/png": "[encoded data removed]",
      "text/plain": [
       "<Figure size 1152x648 with 1 Axes>"
      ]
     },
     "metadata": {
      "needs_background": "light"
     },
     "output_type": "display_data"
    }
   ],
   "source": [
    "scatter_plt(df8,\"Rajaji Nagar\")"
   ]
  },
  {
   "cell_type": "code",
   "execution_count": 46,
   "metadata": {
    "executionInfo": {
     "elapsed": 49,
     "status": "ok",
     "timestamp": 1632237267543,
     "user": {
      "displayName": "Sneh Shah",
      "photoUrl": "https://lh3.googleusercontent.com/a-/AOh14GibvbxxgJIbJggDA8au45Ih5kuQgOfK-Ge6GpuFUw=s64",
      "userId": "06388715731700414777"
     },
     "user_tz": -330
    },
    "id": "-OWWiHx4nLRC"
   },
   "outputs": [],
   "source": [
    "def remove_bhk_outliers(df):\n",
    "  exclude_indices = np.array([])\n",
    "  for location, location_df in df.groupby('location'):\n",
    "    bhk_stats = {}\n",
    "    for bhk, bhk_df in location_df.groupby('bhk'):\n",
    "      bhk_stats[bhk]={\n",
    "          'mean':np.mean(bhk_df.price_per_sqft),\n",
    "          'std':np.std(bhk_df.price_per_sqft),\n",
    "          'count':bhk_df.shape[0]}\n",
    "    for bhk, bhk_df in location_df.groupby('bhk'):\n",
    "      stats=bhk_stats.get(bhk-1)\n",
    "      if stats and stats['count']>5:\n",
    "        exclude_indices = np.append(exclude_indices, bhk_df[bhk_df.price_per_sqft<(stats['mean'])].index.values)\n",
    "  return df.drop(exclude_indices, axis='index')\n",
    "  "
   ]
  },
  {
   "cell_type": "code",
   "execution_count": 47,
   "metadata": {
    "colab": {
     "base_uri": "https://localhost:8080/"
    },
    "executionInfo": {
     "elapsed": 1924,
     "status": "ok",
     "timestamp": 1632237269422,
     "user": {
      "displayName": "Sneh Shah",
      "photoUrl": "https://lh3.googleusercontent.com/a-/AOh14GibvbxxgJIbJggDA8au45Ih5kuQgOfK-Ge6GpuFUw=s64",
      "userId": "06388715731700414777"
     },
     "user_tz": -330
    },
    "id": "h-W5A4ukw2xz",
    "outputId": "3afd78e8-ed23-4c38-c633-60ff0ce069b0"
   },
   "outputs": [
    {
     "data": {
      "text/plain": [
       "(8807, 10)"
      ]
     },
     "execution_count": 47,
     "metadata": {},
     "output_type": "execute_result"
    }
   ],
   "source": [
    "df9 = remove_bhk_outliers(df8)\n",
    "df9.shape"
   ]
  },
  {
   "cell_type": "markdown",
   "metadata": {
    "id": "dWONxCKBxG2o"
   },
   "source": [
    "Removing Outliers in bath variable"
   ]
  },
  {
   "cell_type": "code",
   "execution_count": 48,
   "metadata": {
    "colab": {
     "base_uri": "https://localhost:8080/"
    },
    "executionInfo": {
     "elapsed": 104,
     "status": "ok",
     "timestamp": 1632237269438,
     "user": {
      "displayName": "Sneh Shah",
      "photoUrl": "https://lh3.googleusercontent.com/a-/AOh14GibvbxxgJIbJggDA8au45Ih5kuQgOfK-Ge6GpuFUw=s64",
      "userId": "06388715731700414777"
     },
     "user_tz": -330
    },
    "id": "O6XCUrKiw6wC",
    "outputId": "a8449d28-d8de-4648-f00b-e7ff9da6965d"
   },
   "outputs": [
    {
     "data": {
      "text/plain": [
       "2.0     5310\n",
       "3.0     2031\n",
       "1.0      639\n",
       "4.0      503\n",
       "5.0      182\n",
       "6.0       93\n",
       "7.0       25\n",
       "8.0       14\n",
       "9.0        7\n",
       "10.0       2\n",
       "13.0       1\n",
       "Name: bath, dtype: int64"
      ]
     },
     "execution_count": 48,
     "metadata": {},
     "output_type": "execute_result"
    }
   ],
   "source": [
    "df9['bath'].value_counts()"
   ]
  },
  {
   "cell_type": "code",
   "execution_count": 49,
   "metadata": {
    "colab": {
     "base_uri": "https://localhost:8080/"
    },
    "executionInfo": {
     "elapsed": 101,
     "status": "ok",
     "timestamp": 1632237269444,
     "user": {
      "displayName": "Sneh Shah",
      "photoUrl": "https://lh3.googleusercontent.com/a-/AOh14GibvbxxgJIbJggDA8au45Ih5kuQgOfK-Ge6GpuFUw=s64",
      "userId": "06388715731700414777"
     },
     "user_tz": -330
    },
    "id": "v2zkRhLkxTcO",
    "outputId": "5d4a1168-e5ac-4b3c-e33d-411b1e677774"
   },
   "outputs": [
    {
     "data": {
      "text/plain": [
       "(8736, 10)"
      ]
     },
     "execution_count": 49,
     "metadata": {},
     "output_type": "execute_result"
    }
   ],
   "source": [
    "df10 = df9[df9.bath < df9.bhk+2]\n",
    "df10.shape"
   ]
  },
  {
   "cell_type": "code",
   "execution_count": 50,
   "metadata": {
    "colab": {
     "base_uri": "https://localhost:8080/",
     "height": 359
    },
    "executionInfo": {
     "elapsed": 112,
     "status": "ok",
     "timestamp": 1632237269461,
     "user": {
      "displayName": "Sneh Shah",
      "photoUrl": "https://lh3.googleusercontent.com/a-/AOh14GibvbxxgJIbJggDA8au45Ih5kuQgOfK-Ge6GpuFUw=s64",
      "userId": "06388715731700414777"
     },
     "user_tz": -330
    },
    "id": "XrEpooWPzIBn",
    "outputId": "0383e164-cf20-4929-bae8-93a511f804af"
   },
   "outputs": [
    {
     "data": {
      "text/html": [
       "<div>\n",
       "<style scoped>\n",
       "    .dataframe tbody tr th:only-of-type {\n",
       "        vertical-align: middle;\n",
       "    }\n",
       "\n",
       "    .dataframe tbody tr th {\n",
       "        vertical-align: top;\n",
       "    }\n",
       "\n",
       "    .dataframe thead th {\n",
       "        text-align: right;\n",
       "    }\n",
       "</style>\n",
       "<table border=\"1\" class=\"dataframe\">\n",
       "  <thead>\n",
       "    <tr style=\"text-align: right;\">\n",
       "      <th></th>\n",
       "      <th>area_type</th>\n",
       "      <th>availability</th>\n",
       "      <th>location</th>\n",
       "      <th>total_sqft</th>\n",
       "      <th>bath</th>\n",
       "      <th>balcony</th>\n",
       "      <th>price</th>\n",
       "      <th>total_sqft_int</th>\n",
       "      <th>bhk</th>\n",
       "      <th>price_per_sqft</th>\n",
       "    </tr>\n",
       "  </thead>\n",
       "  <tbody>\n",
       "    <tr>\n",
       "      <th>0</th>\n",
       "      <td>Built-up  Area</td>\n",
       "      <td>Ready To Move</td>\n",
       "      <td>Anekal</td>\n",
       "      <td>351</td>\n",
       "      <td>1.0</td>\n",
       "      <td>1.0</td>\n",
       "      <td>16.0</td>\n",
       "      <td>351.0</td>\n",
       "      <td>1</td>\n",
       "      <td>4558.404558</td>\n",
       "    </tr>\n",
       "    <tr>\n",
       "      <th>1</th>\n",
       "      <td>Super built-up  Area</td>\n",
       "      <td>Ready To Move</td>\n",
       "      <td>Banaswadi</td>\n",
       "      <td>527</td>\n",
       "      <td>1.0</td>\n",
       "      <td>0.0</td>\n",
       "      <td>35.0</td>\n",
       "      <td>527.0</td>\n",
       "      <td>1</td>\n",
       "      <td>6641.366224</td>\n",
       "    </tr>\n",
       "    <tr>\n",
       "      <th>2</th>\n",
       "      <td>Super built-up  Area</td>\n",
       "      <td>Ready To Move</td>\n",
       "      <td>Basavangudi</td>\n",
       "      <td>670</td>\n",
       "      <td>1.0</td>\n",
       "      <td>1.0</td>\n",
       "      <td>50.0</td>\n",
       "      <td>670.0</td>\n",
       "      <td>1</td>\n",
       "      <td>7462.686567</td>\n",
       "    </tr>\n",
       "    <tr>\n",
       "      <th>3</th>\n",
       "      <td>Super built-up  Area</td>\n",
       "      <td>Ready To Move</td>\n",
       "      <td>Devarabeesana Halli</td>\n",
       "      <td>1100</td>\n",
       "      <td>2.0</td>\n",
       "      <td>1.0</td>\n",
       "      <td>70.0</td>\n",
       "      <td>1100.0</td>\n",
       "      <td>2</td>\n",
       "      <td>6363.636364</td>\n",
       "    </tr>\n",
       "    <tr>\n",
       "      <th>4</th>\n",
       "      <td>Super built-up  Area</td>\n",
       "      <td>Ready To Move</td>\n",
       "      <td>Devarabeesana Halli</td>\n",
       "      <td>1672</td>\n",
       "      <td>3.0</td>\n",
       "      <td>2.0</td>\n",
       "      <td>150.0</td>\n",
       "      <td>1672.0</td>\n",
       "      <td>3</td>\n",
       "      <td>8971.291866</td>\n",
       "    </tr>\n",
       "    <tr>\n",
       "      <th>5</th>\n",
       "      <td>Built-up  Area</td>\n",
       "      <td>Ready To Move</td>\n",
       "      <td>Devarabeesana Halli</td>\n",
       "      <td>1750</td>\n",
       "      <td>3.0</td>\n",
       "      <td>3.0</td>\n",
       "      <td>149.0</td>\n",
       "      <td>1750.0</td>\n",
       "      <td>3</td>\n",
       "      <td>8514.285714</td>\n",
       "    </tr>\n",
       "    <tr>\n",
       "      <th>6</th>\n",
       "      <td>Super built-up  Area</td>\n",
       "      <td>Ready To Move</td>\n",
       "      <td>Devarabeesana Halli</td>\n",
       "      <td>1670</td>\n",
       "      <td>3.0</td>\n",
       "      <td>2.0</td>\n",
       "      <td>160.0</td>\n",
       "      <td>1670.0</td>\n",
       "      <td>3</td>\n",
       "      <td>9580.838323</td>\n",
       "    </tr>\n",
       "    <tr>\n",
       "      <th>7</th>\n",
       "      <td>Super built-up  Area</td>\n",
       "      <td>Ready To Move</td>\n",
       "      <td>Devarabeesana Halli</td>\n",
       "      <td>1750</td>\n",
       "      <td>3.0</td>\n",
       "      <td>2.0</td>\n",
       "      <td>150.0</td>\n",
       "      <td>1750.0</td>\n",
       "      <td>3</td>\n",
       "      <td>8571.428571</td>\n",
       "    </tr>\n",
       "    <tr>\n",
       "      <th>8</th>\n",
       "      <td>Super built-up  Area</td>\n",
       "      <td>Ready To Move</td>\n",
       "      <td>Devarabeesana Halli</td>\n",
       "      <td>1296</td>\n",
       "      <td>2.0</td>\n",
       "      <td>2.0</td>\n",
       "      <td>70.0</td>\n",
       "      <td>1296.0</td>\n",
       "      <td>2</td>\n",
       "      <td>5401.234568</td>\n",
       "    </tr>\n",
       "    <tr>\n",
       "      <th>10</th>\n",
       "      <td>Super built-up  Area</td>\n",
       "      <td>Ready To Move</td>\n",
       "      <td>Devarachikkanahalli</td>\n",
       "      <td>1250</td>\n",
       "      <td>2.0</td>\n",
       "      <td>2.0</td>\n",
       "      <td>40.0</td>\n",
       "      <td>1250.0</td>\n",
       "      <td>2</td>\n",
       "      <td>3200.000000</td>\n",
       "    </tr>\n",
       "  </tbody>\n",
       "</table>\n",
       "</div>"
      ],
      "text/plain": [
       "               area_type   availability  ... bhk price_per_sqft\n",
       "0         Built-up  Area  Ready To Move  ...   1    4558.404558\n",
       "1   Super built-up  Area  Ready To Move  ...   1    6641.366224\n",
       "2   Super built-up  Area  Ready To Move  ...   1    7462.686567\n",
       "3   Super built-up  Area  Ready To Move  ...   2    6363.636364\n",
       "4   Super built-up  Area  Ready To Move  ...   3    8971.291866\n",
       "5         Built-up  Area  Ready To Move  ...   3    8514.285714\n",
       "6   Super built-up  Area  Ready To Move  ...   3    9580.838323\n",
       "7   Super built-up  Area  Ready To Move  ...   3    8571.428571\n",
       "8   Super built-up  Area  Ready To Move  ...   2    5401.234568\n",
       "10  Super built-up  Area  Ready To Move  ...   2    3200.000000\n",
       "\n",
       "[10 rows x 10 columns]"
      ]
     },
     "execution_count": 50,
     "metadata": {},
     "output_type": "execute_result"
    }
   ],
   "source": [
    "df10.head(10)"
   ]
  },
  {
   "cell_type": "markdown",
   "metadata": {
    "id": "CdBNbyIv0bRV"
   },
   "source": [
    "For ML model we have to drop categorical variables"
   ]
  },
  {
   "cell_type": "code",
   "execution_count": 51,
   "metadata": {
    "colab": {
     "base_uri": "https://localhost:8080/",
     "height": 204
    },
    "executionInfo": {
     "elapsed": 112,
     "status": "ok",
     "timestamp": 1632237269468,
     "user": {
      "displayName": "Sneh Shah",
      "photoUrl": "https://lh3.googleusercontent.com/a-/AOh14GibvbxxgJIbJggDA8au45Ih5kuQgOfK-Ge6GpuFUw=s64",
      "userId": "06388715731700414777"
     },
     "user_tz": -330
    },
    "id": "tG3BqsbD0Nf7",
    "outputId": "04a6733d-25ad-4276-b458-70ade0c15edd"
   },
   "outputs": [
    {
     "data": {
      "text/html": [
       "<div>\n",
       "<style scoped>\n",
       "    .dataframe tbody tr th:only-of-type {\n",
       "        vertical-align: middle;\n",
       "    }\n",
       "\n",
       "    .dataframe tbody tr th {\n",
       "        vertical-align: top;\n",
       "    }\n",
       "\n",
       "    .dataframe thead th {\n",
       "        text-align: right;\n",
       "    }\n",
       "</style>\n",
       "<table border=\"1\" class=\"dataframe\">\n",
       "  <thead>\n",
       "    <tr style=\"text-align: right;\">\n",
       "      <th></th>\n",
       "      <th>bath</th>\n",
       "      <th>balcony</th>\n",
       "      <th>price</th>\n",
       "      <th>total_sqft_int</th>\n",
       "      <th>bhk</th>\n",
       "      <th>price_per_sqft</th>\n",
       "    </tr>\n",
       "  </thead>\n",
       "  <tbody>\n",
       "    <tr>\n",
       "      <th>0</th>\n",
       "      <td>1.0</td>\n",
       "      <td>1.0</td>\n",
       "      <td>16.0</td>\n",
       "      <td>351.0</td>\n",
       "      <td>1</td>\n",
       "      <td>4558.404558</td>\n",
       "    </tr>\n",
       "    <tr>\n",
       "      <th>1</th>\n",
       "      <td>1.0</td>\n",
       "      <td>0.0</td>\n",
       "      <td>35.0</td>\n",
       "      <td>527.0</td>\n",
       "      <td>1</td>\n",
       "      <td>6641.366224</td>\n",
       "    </tr>\n",
       "    <tr>\n",
       "      <th>2</th>\n",
       "      <td>1.0</td>\n",
       "      <td>1.0</td>\n",
       "      <td>50.0</td>\n",
       "      <td>670.0</td>\n",
       "      <td>1</td>\n",
       "      <td>7462.686567</td>\n",
       "    </tr>\n",
       "    <tr>\n",
       "      <th>3</th>\n",
       "      <td>2.0</td>\n",
       "      <td>1.0</td>\n",
       "      <td>70.0</td>\n",
       "      <td>1100.0</td>\n",
       "      <td>2</td>\n",
       "      <td>6363.636364</td>\n",
       "    </tr>\n",
       "    <tr>\n",
       "      <th>4</th>\n",
       "      <td>3.0</td>\n",
       "      <td>2.0</td>\n",
       "      <td>150.0</td>\n",
       "      <td>1672.0</td>\n",
       "      <td>3</td>\n",
       "      <td>8971.291866</td>\n",
       "    </tr>\n",
       "  </tbody>\n",
       "</table>\n",
       "</div>"
      ],
      "text/plain": [
       "   bath  balcony  price  total_sqft_int  bhk  price_per_sqft\n",
       "0   1.0      1.0   16.0           351.0    1     4558.404558\n",
       "1   1.0      0.0   35.0           527.0    1     6641.366224\n",
       "2   1.0      1.0   50.0           670.0    1     7462.686567\n",
       "3   2.0      1.0   70.0          1100.0    2     6363.636364\n",
       "4   3.0      2.0  150.0          1672.0    3     8971.291866"
      ]
     },
     "execution_count": 51,
     "metadata": {},
     "output_type": "execute_result"
    }
   ],
   "source": [
    "ml_df = df10.drop(['area_type','availability','location','total_sqft'],axis=1)\n",
    "ml_df.head()"
   ]
  },
  {
   "cell_type": "code",
   "execution_count": 52,
   "metadata": {
    "executionInfo": {
     "elapsed": 124,
     "status": "ok",
     "timestamp": 1632237269488,
     "user": {
      "displayName": "Sneh Shah",
      "photoUrl": "https://lh3.googleusercontent.com/a-/AOh14GibvbxxgJIbJggDA8au45Ih5kuQgOfK-Ge6GpuFUw=s64",
      "userId": "06388715731700414777"
     },
     "user_tz": -330
    },
    "id": "RGiY4L_m8H4h"
   },
   "outputs": [],
   "source": [
    "ml_df.to_csv('ml_banglore_price.csv',index=False)"
   ]
  },
  {
   "cell_type": "markdown",
   "metadata": {
    "id": "uT5uoMgw1HRs"
   },
   "source": [
    "### **Categorical variable Encoding**"
   ]
  },
  {
   "cell_type": "markdown",
   "metadata": {
    "id": "kgSTWACm1Wgt"
   },
   "source": [
    "**Area Type**"
   ]
  },
  {
   "cell_type": "code",
   "execution_count": 53,
   "metadata": {
    "colab": {
     "base_uri": "https://localhost:8080/"
    },
    "executionInfo": {
     "elapsed": 189,
     "status": "ok",
     "timestamp": 1632237270532,
     "user": {
      "displayName": "Sneh Shah",
      "photoUrl": "https://lh3.googleusercontent.com/a-/AOh14GibvbxxgJIbJggDA8au45Ih5kuQgOfK-Ge6GpuFUw=s64",
      "userId": "06388715731700414777"
     },
     "user_tz": -330
    },
    "id": "P06ndk940zms",
    "outputId": "2290d6d0-4789-41f8-ac4c-4c8675dde8bc"
   },
   "outputs": [
    {
     "data": {
      "text/plain": [
       "Super built-up  Area    6340\n",
       "Built-up  Area          1686\n",
       "Plot  Area               639\n",
       "Carpet  Area              71\n",
       "Name: area_type, dtype: int64"
      ]
     },
     "execution_count": 53,
     "metadata": {},
     "output_type": "execute_result"
    }
   ],
   "source": [
    "df10['area_type'].value_counts()"
   ]
  },
  {
   "cell_type": "code",
   "execution_count": 54,
   "metadata": {
    "colab": {
     "base_uri": "https://localhost:8080/"
    },
    "executionInfo": {
     "elapsed": 181,
     "status": "ok",
     "timestamp": 1632237270538,
     "user": {
      "displayName": "Sneh Shah",
      "photoUrl": "https://lh3.googleusercontent.com/a-/AOh14GibvbxxgJIbJggDA8au45Ih5kuQgOfK-Ge6GpuFUw=s64",
      "userId": "06388715731700414777"
     },
     "user_tz": -330
    },
    "id": "uIv7iKxt1gkN",
    "outputId": "f1e92ba7-122f-45dc-99b5-d3019bb2329c"
   },
   "outputs": [
    {
     "name": "stderr",
     "output_type": "stream",
     "text": [
      "/usr/local/lib/python3.7/dist-packages/ipykernel_launcher.py:2: SettingWithCopyWarning: \n",
      "A value is trying to be set on a copy of a slice from a DataFrame.\n",
      "Try using .loc[row_indexer,col_indexer] = value instead\n",
      "\n",
      "See the caveats in the documentation: https://pandas.pydata.org/pandas-docs/stable/user_guide/indexing.html#returning-a-view-versus-a-copy\n",
      "  \n"
     ]
    },
    {
     "data": {
      "text/plain": [
       "(8736, 12)"
      ]
     },
     "execution_count": 54,
     "metadata": {},
     "output_type": "execute_result"
    }
   ],
   "source": [
    "for i in [\"Super built-up  Area\",\"Built-up  Area\",\"Plot  Area\"]:\n",
    "  df10[i] = np.where(df10['area_type']==i,1,0)\n",
    "df10 = df10.drop(['area_type'],axis=1)\n",
    "df10.shape"
   ]
  },
  {
   "cell_type": "code",
   "execution_count": 55,
   "metadata": {
    "colab": {
     "base_uri": "https://localhost:8080/",
     "height": 204
    },
    "executionInfo": {
     "elapsed": 171,
     "status": "ok",
     "timestamp": 1632237270542,
     "user": {
      "displayName": "Sneh Shah",
      "photoUrl": "https://lh3.googleusercontent.com/a-/AOh14GibvbxxgJIbJggDA8au45Ih5kuQgOfK-Ge6GpuFUw=s64",
      "userId": "06388715731700414777"
     },
     "user_tz": -330
    },
    "id": "LzL5ZfaI2IKG",
    "outputId": "9a29357f-8ecb-41ea-b5d3-bdf69c7e00a0"
   },
   "outputs": [
    {
     "data": {
      "text/html": [
       "<div>\n",
       "<style scoped>\n",
       "    .dataframe tbody tr th:only-of-type {\n",
       "        vertical-align: middle;\n",
       "    }\n",
       "\n",
       "    .dataframe tbody tr th {\n",
       "        vertical-align: top;\n",
       "    }\n",
       "\n",
       "    .dataframe thead th {\n",
       "        text-align: right;\n",
       "    }\n",
       "</style>\n",
       "<table border=\"1\" class=\"dataframe\">\n",
       "  <thead>\n",
       "    <tr style=\"text-align: right;\">\n",
       "      <th></th>\n",
       "      <th>availability</th>\n",
       "      <th>location</th>\n",
       "      <th>total_sqft</th>\n",
       "      <th>bath</th>\n",
       "      <th>balcony</th>\n",
       "      <th>price</th>\n",
       "      <th>total_sqft_int</th>\n",
       "      <th>bhk</th>\n",
       "      <th>price_per_sqft</th>\n",
       "      <th>Super built-up  Area</th>\n",
       "      <th>Built-up  Area</th>\n",
       "      <th>Plot  Area</th>\n",
       "    </tr>\n",
       "  </thead>\n",
       "  <tbody>\n",
       "    <tr>\n",
       "      <th>0</th>\n",
       "      <td>Ready To Move</td>\n",
       "      <td>Anekal</td>\n",
       "      <td>351</td>\n",
       "      <td>1.0</td>\n",
       "      <td>1.0</td>\n",
       "      <td>16.0</td>\n",
       "      <td>351.0</td>\n",
       "      <td>1</td>\n",
       "      <td>4558.404558</td>\n",
       "      <td>0</td>\n",
       "      <td>1</td>\n",
       "      <td>0</td>\n",
       "    </tr>\n",
       "    <tr>\n",
       "      <th>1</th>\n",
       "      <td>Ready To Move</td>\n",
       "      <td>Banaswadi</td>\n",
       "      <td>527</td>\n",
       "      <td>1.0</td>\n",
       "      <td>0.0</td>\n",
       "      <td>35.0</td>\n",
       "      <td>527.0</td>\n",
       "      <td>1</td>\n",
       "      <td>6641.366224</td>\n",
       "      <td>1</td>\n",
       "      <td>0</td>\n",
       "      <td>0</td>\n",
       "    </tr>\n",
       "    <tr>\n",
       "      <th>2</th>\n",
       "      <td>Ready To Move</td>\n",
       "      <td>Basavangudi</td>\n",
       "      <td>670</td>\n",
       "      <td>1.0</td>\n",
       "      <td>1.0</td>\n",
       "      <td>50.0</td>\n",
       "      <td>670.0</td>\n",
       "      <td>1</td>\n",
       "      <td>7462.686567</td>\n",
       "      <td>1</td>\n",
       "      <td>0</td>\n",
       "      <td>0</td>\n",
       "    </tr>\n",
       "    <tr>\n",
       "      <th>3</th>\n",
       "      <td>Ready To Move</td>\n",
       "      <td>Devarabeesana Halli</td>\n",
       "      <td>1100</td>\n",
       "      <td>2.0</td>\n",
       "      <td>1.0</td>\n",
       "      <td>70.0</td>\n",
       "      <td>1100.0</td>\n",
       "      <td>2</td>\n",
       "      <td>6363.636364</td>\n",
       "      <td>1</td>\n",
       "      <td>0</td>\n",
       "      <td>0</td>\n",
       "    </tr>\n",
       "    <tr>\n",
       "      <th>4</th>\n",
       "      <td>Ready To Move</td>\n",
       "      <td>Devarabeesana Halli</td>\n",
       "      <td>1672</td>\n",
       "      <td>3.0</td>\n",
       "      <td>2.0</td>\n",
       "      <td>150.0</td>\n",
       "      <td>1672.0</td>\n",
       "      <td>3</td>\n",
       "      <td>8971.291866</td>\n",
       "      <td>1</td>\n",
       "      <td>0</td>\n",
       "      <td>0</td>\n",
       "    </tr>\n",
       "  </tbody>\n",
       "</table>\n",
       "</div>"
      ],
      "text/plain": [
       "    availability              location  ... Built-up  Area  Plot  Area\n",
       "0  Ready To Move                Anekal  ...              1           0\n",
       "1  Ready To Move             Banaswadi  ...              0           0\n",
       "2  Ready To Move           Basavangudi  ...              0           0\n",
       "3  Ready To Move   Devarabeesana Halli  ...              0           0\n",
       "4  Ready To Move   Devarabeesana Halli  ...              0           0\n",
       "\n",
       "[5 rows x 12 columns]"
      ]
     },
     "execution_count": 55,
     "metadata": {},
     "output_type": "execute_result"
    }
   ],
   "source": [
    "df10.head()"
   ]
  },
  {
   "cell_type": "markdown",
   "metadata": {
    "id": "gsrm24LC34fT"
   },
   "source": [
    "**Working on availability**"
   ]
  },
  {
   "cell_type": "code",
   "execution_count": 56,
   "metadata": {
    "colab": {
     "base_uri": "https://localhost:8080/"
    },
    "executionInfo": {
     "elapsed": 169,
     "status": "ok",
     "timestamp": 1632237270545,
     "user": {
      "displayName": "Sneh Shah",
      "photoUrl": "https://lh3.googleusercontent.com/a-/AOh14GibvbxxgJIbJggDA8au45Ih5kuQgOfK-Ge6GpuFUw=s64",
      "userId": "06388715731700414777"
     },
     "user_tz": -330
    },
    "id": "iKTS-6393KO0",
    "outputId": "a9ddf077-4b19-42cc-a5cd-732224346e76"
   },
   "outputs": [
    {
     "data": {
      "text/plain": [
       "Ready To Move    6841\n",
       "18-May            205\n",
       "18-Dec            198\n",
       "18-Apr            195\n",
       "18-Aug            153\n",
       "                 ... \n",
       "17-Jan              1\n",
       "21-Aug              1\n",
       "20-May              1\n",
       "16-Mar              1\n",
       "16-Oct              1\n",
       "Name: availability, Length: 73, dtype: int64"
      ]
     },
     "execution_count": 56,
     "metadata": {},
     "output_type": "execute_result"
    }
   ],
   "source": [
    "df10['availability'].value_counts()"
   ]
  },
  {
   "cell_type": "code",
   "execution_count": 57,
   "metadata": {
    "executionInfo": {
     "elapsed": 157,
     "status": "ok",
     "timestamp": 1632237270547,
     "user": {
      "displayName": "Sneh Shah",
      "photoUrl": "https://lh3.googleusercontent.com/a-/AOh14GibvbxxgJIbJggDA8au45Ih5kuQgOfK-Ge6GpuFUw=s64",
      "userId": "06388715731700414777"
     },
     "user_tz": -330
    },
    "id": "5mUlaoDO4DCQ"
   },
   "outputs": [],
   "source": [
    "df10['available'] = np.where(df10['availability']==\"Ready To Move\",1,0)\n",
    "df10 = df10.drop(['availability'],axis=1)"
   ]
  },
  {
   "cell_type": "code",
   "execution_count": 58,
   "metadata": {
    "colab": {
     "base_uri": "https://localhost:8080/",
     "height": 204
    },
    "executionInfo": {
     "elapsed": 156,
     "status": "ok",
     "timestamp": 1632237270549,
     "user": {
      "displayName": "Sneh Shah",
      "photoUrl": "https://lh3.googleusercontent.com/a-/AOh14GibvbxxgJIbJggDA8au45Ih5kuQgOfK-Ge6GpuFUw=s64",
      "userId": "06388715731700414777"
     },
     "user_tz": -330
    },
    "id": "8sS3Ckm64cPZ",
    "outputId": "c2c32f5e-b48c-4138-d2a6-4f155aaa02ff"
   },
   "outputs": [
    {
     "data": {
      "text/html": [
       "<div>\n",
       "<style scoped>\n",
       "    .dataframe tbody tr th:only-of-type {\n",
       "        vertical-align: middle;\n",
       "    }\n",
       "\n",
       "    .dataframe tbody tr th {\n",
       "        vertical-align: top;\n",
       "    }\n",
       "\n",
       "    .dataframe thead th {\n",
       "        text-align: right;\n",
       "    }\n",
       "</style>\n",
       "<table border=\"1\" class=\"dataframe\">\n",
       "  <thead>\n",
       "    <tr style=\"text-align: right;\">\n",
       "      <th></th>\n",
       "      <th>location</th>\n",
       "      <th>total_sqft</th>\n",
       "      <th>bath</th>\n",
       "      <th>balcony</th>\n",
       "      <th>price</th>\n",
       "      <th>total_sqft_int</th>\n",
       "      <th>bhk</th>\n",
       "      <th>price_per_sqft</th>\n",
       "      <th>Super built-up  Area</th>\n",
       "      <th>Built-up  Area</th>\n",
       "      <th>Plot  Area</th>\n",
       "      <th>available</th>\n",
       "    </tr>\n",
       "  </thead>\n",
       "  <tbody>\n",
       "    <tr>\n",
       "      <th>0</th>\n",
       "      <td>Anekal</td>\n",
       "      <td>351</td>\n",
       "      <td>1.0</td>\n",
       "      <td>1.0</td>\n",
       "      <td>16.0</td>\n",
       "      <td>351.0</td>\n",
       "      <td>1</td>\n",
       "      <td>4558.404558</td>\n",
       "      <td>0</td>\n",
       "      <td>1</td>\n",
       "      <td>0</td>\n",
       "      <td>1</td>\n",
       "    </tr>\n",
       "    <tr>\n",
       "      <th>1</th>\n",
       "      <td>Banaswadi</td>\n",
       "      <td>527</td>\n",
       "      <td>1.0</td>\n",
       "      <td>0.0</td>\n",
       "      <td>35.0</td>\n",
       "      <td>527.0</td>\n",
       "      <td>1</td>\n",
       "      <td>6641.366224</td>\n",
       "      <td>1</td>\n",
       "      <td>0</td>\n",
       "      <td>0</td>\n",
       "      <td>1</td>\n",
       "    </tr>\n",
       "    <tr>\n",
       "      <th>2</th>\n",
       "      <td>Basavangudi</td>\n",
       "      <td>670</td>\n",
       "      <td>1.0</td>\n",
       "      <td>1.0</td>\n",
       "      <td>50.0</td>\n",
       "      <td>670.0</td>\n",
       "      <td>1</td>\n",
       "      <td>7462.686567</td>\n",
       "      <td>1</td>\n",
       "      <td>0</td>\n",
       "      <td>0</td>\n",
       "      <td>1</td>\n",
       "    </tr>\n",
       "    <tr>\n",
       "      <th>3</th>\n",
       "      <td>Devarabeesana Halli</td>\n",
       "      <td>1100</td>\n",
       "      <td>2.0</td>\n",
       "      <td>1.0</td>\n",
       "      <td>70.0</td>\n",
       "      <td>1100.0</td>\n",
       "      <td>2</td>\n",
       "      <td>6363.636364</td>\n",
       "      <td>1</td>\n",
       "      <td>0</td>\n",
       "      <td>0</td>\n",
       "      <td>1</td>\n",
       "    </tr>\n",
       "    <tr>\n",
       "      <th>4</th>\n",
       "      <td>Devarabeesana Halli</td>\n",
       "      <td>1672</td>\n",
       "      <td>3.0</td>\n",
       "      <td>2.0</td>\n",
       "      <td>150.0</td>\n",
       "      <td>1672.0</td>\n",
       "      <td>3</td>\n",
       "      <td>8971.291866</td>\n",
       "      <td>1</td>\n",
       "      <td>0</td>\n",
       "      <td>0</td>\n",
       "      <td>1</td>\n",
       "    </tr>\n",
       "  </tbody>\n",
       "</table>\n",
       "</div>"
      ],
      "text/plain": [
       "               location total_sqft  bath  ...  Built-up  Area  Plot  Area  available\n",
       "0                Anekal        351   1.0  ...               1           0          1\n",
       "1             Banaswadi        527   1.0  ...               0           0          1\n",
       "2           Basavangudi        670   1.0  ...               0           0          1\n",
       "3   Devarabeesana Halli       1100   2.0  ...               0           0          1\n",
       "4   Devarabeesana Halli       1672   3.0  ...               0           0          1\n",
       "\n",
       "[5 rows x 12 columns]"
      ]
     },
     "execution_count": 58,
     "metadata": {},
     "output_type": "execute_result"
    }
   ],
   "source": [
    "df10.head()"
   ]
  },
  {
   "cell_type": "code",
   "execution_count": 59,
   "metadata": {
    "colab": {
     "base_uri": "https://localhost:8080/"
    },
    "executionInfo": {
     "elapsed": 153,
     "status": "ok",
     "timestamp": 1632237270552,
     "user": {
      "displayName": "Sneh Shah",
      "photoUrl": "https://lh3.googleusercontent.com/a-/AOh14GibvbxxgJIbJggDA8au45Ih5kuQgOfK-Ge6GpuFUw=s64",
      "userId": "06388715731700414777"
     },
     "user_tz": -330
    },
    "id": "Uz-kWgQg4dz-",
    "outputId": "34d1fa8d-4e48-4ee9-d5a5-60a2e4c98cfd"
   },
   "outputs": [
    {
     "data": {
      "text/plain": [
       "(8736, 12)"
      ]
     },
     "execution_count": 59,
     "metadata": {},
     "output_type": "execute_result"
    }
   ],
   "source": [
    "df10.shape"
   ]
  },
  {
   "cell_type": "markdown",
   "metadata": {
    "id": "en59NHR75HP3"
   },
   "source": [
    "**Working on Location variable**"
   ]
  },
  {
   "cell_type": "code",
   "execution_count": 60,
   "metadata": {
    "colab": {
     "base_uri": "https://localhost:8080/"
    },
    "executionInfo": {
     "elapsed": 140,
     "status": "ok",
     "timestamp": 1632237270554,
     "user": {
      "displayName": "Sneh Shah",
      "photoUrl": "https://lh3.googleusercontent.com/a-/AOh14GibvbxxgJIbJggDA8au45Ih5kuQgOfK-Ge6GpuFUw=s64",
      "userId": "06388715731700414777"
     },
     "user_tz": -330
    },
    "id": "3OzshrDT4pN-",
    "outputId": "f43106c7-3e0a-4771-eba0-94bc430a5fd7"
   },
   "outputs": [
    {
     "data": {
      "text/plain": [
       "Whitefield                              244\n",
       "Sarjapur  Road                          221\n",
       "Thanisandra                             147\n",
       "Raja Rajeshwari Nagar                   138\n",
       "Hebbal                                  134\n",
       "                                       ... \n",
       "RMV                                       1\n",
       "Anathanagar                               1\n",
       "KG Halli                                  1\n",
       "T c palya                                 1\n",
       "ravindra nagar, T.dasarahalli peenya      1\n",
       "Name: location, Length: 1064, dtype: int64"
      ]
     },
     "execution_count": 60,
     "metadata": {},
     "output_type": "execute_result"
    }
   ],
   "source": [
    "loc_val_count = df10['location'].value_counts()\n",
    "loc_val_count"
   ]
  },
  {
   "cell_type": "code",
   "execution_count": 61,
   "metadata": {
    "colab": {
     "base_uri": "https://localhost:8080/"
    },
    "executionInfo": {
     "elapsed": 129,
     "status": "ok",
     "timestamp": 1632237270556,
     "user": {
      "displayName": "Sneh Shah",
      "photoUrl": "https://lh3.googleusercontent.com/a-/AOh14GibvbxxgJIbJggDA8au45Ih5kuQgOfK-Ge6GpuFUw=s64",
      "userId": "06388715731700414777"
     },
     "user_tz": -330
    },
    "id": "FmPtP1T550Lz",
    "outputId": "232a8259-b94d-4211-fe9d-10291355c9d3"
   },
   "outputs": [
    {
     "data": {
      "text/plain": [
       "pandas.core.series.Series"
      ]
     },
     "execution_count": 61,
     "metadata": {},
     "output_type": "execute_result"
    }
   ],
   "source": [
    "type(loc_val_count)"
   ]
  },
  {
   "cell_type": "code",
   "execution_count": 62,
   "metadata": {
    "executionInfo": {
     "elapsed": 118,
     "status": "ok",
     "timestamp": 1632237270558,
     "user": {
      "displayName": "Sneh Shah",
      "photoUrl": "https://lh3.googleusercontent.com/a-/AOh14GibvbxxgJIbJggDA8au45Ih5kuQgOfK-Ge6GpuFUw=s64",
      "userId": "06388715731700414777"
     },
     "user_tz": -330
    },
    "id": "ucW6_XaG5ZFE"
   },
   "outputs": [],
   "source": [
    "loc_gret20 = loc_val_count[loc_val_count>=20].index"
   ]
  },
  {
   "cell_type": "code",
   "execution_count": 63,
   "metadata": {
    "colab": {
     "base_uri": "https://localhost:8080/"
    },
    "executionInfo": {
     "elapsed": 114,
     "status": "ok",
     "timestamp": 1632237270560,
     "user": {
      "displayName": "Sneh Shah",
      "photoUrl": "https://lh3.googleusercontent.com/a-/AOh14GibvbxxgJIbJggDA8au45Ih5kuQgOfK-Ge6GpuFUw=s64",
      "userId": "06388715731700414777"
     },
     "user_tz": -330
    },
    "id": "4qs0bCpq6B3b",
    "outputId": "c072d4f9-33e4-4c99-acd3-c239313ac1de"
   },
   "outputs": [
    {
     "data": {
      "text/plain": [
       "Index(['Whitefield', 'Sarjapur  Road', 'Thanisandra', 'Raja Rajeshwari Nagar',\n",
       "       'Hebbal', 'Uttarahalli', 'Electronic City', 'Haralur Road',\n",
       "       'Marathahalli', 'Hennur Road',\n",
       "       ...\n",
       "       'Bommanahalli', 'Devanahalli', 'Kodichikkanahalli', 'Kathriguppe',\n",
       "       'Anandapura', 'Rajaji Nagar', 'Iblur Village', 'Margondanahalli',\n",
       "       'Kogilu', 'Kambipura'],\n",
       "      dtype='object', length=104)"
      ]
     },
     "execution_count": 63,
     "metadata": {},
     "output_type": "execute_result"
    }
   ],
   "source": [
    "loc_gret20"
   ]
  },
  {
   "cell_type": "code",
   "execution_count": 64,
   "metadata": {
    "executionInfo": {
     "elapsed": 111,
     "status": "ok",
     "timestamp": 1632237270564,
     "user": {
      "displayName": "Sneh Shah",
      "photoUrl": "https://lh3.googleusercontent.com/a-/AOh14GibvbxxgJIbJggDA8au45Ih5kuQgOfK-Ge6GpuFUw=s64",
      "userId": "06388715731700414777"
     },
     "user_tz": -330
    },
    "id": "dVxiTayS6DYQ"
   },
   "outputs": [],
   "source": [
    "df11 = df10.copy()\n",
    "for i in loc_gret20:\n",
    "  df11['loc_'+i] = np.where(df11['location']==i,1,0) "
   ]
  },
  {
   "cell_type": "code",
   "execution_count": 65,
   "metadata": {
    "colab": {
     "base_uri": "https://localhost:8080/",
     "height": 338
    },
    "executionInfo": {
     "elapsed": 116,
     "status": "ok",
     "timestamp": 1632237270572,
     "user": {
      "displayName": "Sneh Shah",
      "photoUrl": "https://lh3.googleusercontent.com/a-/AOh14GibvbxxgJIbJggDA8au45Ih5kuQgOfK-Ge6GpuFUw=s64",
      "userId": "06388715731700414777"
     },
     "user_tz": -330
    },
    "id": "Kej0emT66iiq",
    "outputId": "325c64c2-13df-4dd1-8127-c038dc7ddfb7"
   },
   "outputs": [
    {
     "data": {
      "text/html": [
       "<div>\n",
       "<style scoped>\n",
       "    .dataframe tbody tr th:only-of-type {\n",
       "        vertical-align: middle;\n",
       "    }\n",
       "\n",
       "    .dataframe tbody tr th {\n",
       "        vertical-align: top;\n",
       "    }\n",
       "\n",
       "    .dataframe thead th {\n",
       "        text-align: right;\n",
       "    }\n",
       "</style>\n",
       "<table border=\"1\" class=\"dataframe\">\n",
       "  <thead>\n",
       "    <tr style=\"text-align: right;\">\n",
       "      <th></th>\n",
       "      <th>location</th>\n",
       "      <th>total_sqft</th>\n",
       "      <th>bath</th>\n",
       "      <th>balcony</th>\n",
       "      <th>price</th>\n",
       "      <th>total_sqft_int</th>\n",
       "      <th>bhk</th>\n",
       "      <th>price_per_sqft</th>\n",
       "      <th>Super built-up  Area</th>\n",
       "      <th>Built-up  Area</th>\n",
       "      <th>Plot  Area</th>\n",
       "      <th>available</th>\n",
       "      <th>loc_Whitefield</th>\n",
       "      <th>loc_Sarjapur  Road</th>\n",
       "      <th>loc_Thanisandra</th>\n",
       "      <th>loc_Raja Rajeshwari Nagar</th>\n",
       "      <th>loc_Hebbal</th>\n",
       "      <th>loc_Uttarahalli</th>\n",
       "      <th>loc_Electronic City</th>\n",
       "      <th>loc_Haralur Road</th>\n",
       "      <th>loc_Marathahalli</th>\n",
       "      <th>loc_Hennur Road</th>\n",
       "      <th>loc_7th Phase JP Nagar</th>\n",
       "      <th>loc_Bannerghatta Road</th>\n",
       "      <th>loc_Yelahanka</th>\n",
       "      <th>loc_Electronic City Phase II</th>\n",
       "      <th>loc_Kanakpura Road</th>\n",
       "      <th>loc_Bellandur</th>\n",
       "      <th>loc_KR Puram</th>\n",
       "      <th>loc_Harlur</th>\n",
       "      <th>loc_Varthur</th>\n",
       "      <th>loc_Sarjapur</th>\n",
       "      <th>loc_Hosa Road</th>\n",
       "      <th>loc_Kasavanhalli</th>\n",
       "      <th>loc_Hoodi</th>\n",
       "      <th>loc_Hormavu</th>\n",
       "      <th>loc_Begur Road</th>\n",
       "      <th>loc_Chandapura</th>\n",
       "      <th>loc_Jakkur</th>\n",
       "      <th>loc_Banashankari</th>\n",
       "      <th>...</th>\n",
       "      <th>loc_Kengeri Satellite Town</th>\n",
       "      <th>loc_Attibele</th>\n",
       "      <th>loc_Jigani</th>\n",
       "      <th>loc_Kadugodi</th>\n",
       "      <th>loc_Tumkur Road</th>\n",
       "      <th>loc_Balagere</th>\n",
       "      <th>loc_5th Phase JP Nagar</th>\n",
       "      <th>loc_Brookefield</th>\n",
       "      <th>loc_Subramanyapura</th>\n",
       "      <th>loc_Sahakara Nagar</th>\n",
       "      <th>loc_Vijayanagar</th>\n",
       "      <th>loc_Ananth Nagar</th>\n",
       "      <th>loc_Kudlu Gate</th>\n",
       "      <th>loc_Kudlu</th>\n",
       "      <th>loc_Ambedkar Nagar</th>\n",
       "      <th>loc_TC Palaya</th>\n",
       "      <th>loc_Doddathoguru</th>\n",
       "      <th>loc_Koramangala</th>\n",
       "      <th>loc_9th Phase JP Nagar</th>\n",
       "      <th>loc_Budigere</th>\n",
       "      <th>loc_Kammasandra</th>\n",
       "      <th>loc_Horamavu Banaswadi</th>\n",
       "      <th>loc_Yelahanka New Town</th>\n",
       "      <th>loc_Dodda Nekkundi</th>\n",
       "      <th>loc_Vidyaranyapura</th>\n",
       "      <th>loc_Lingadheeranahalli</th>\n",
       "      <th>loc_Old Airport Road</th>\n",
       "      <th>loc_Mahadevpura</th>\n",
       "      <th>loc_Nagarbhavi</th>\n",
       "      <th>loc_Ambalipura</th>\n",
       "      <th>loc_Bommanahalli</th>\n",
       "      <th>loc_Devanahalli</th>\n",
       "      <th>loc_Kodichikkanahalli</th>\n",
       "      <th>loc_Kathriguppe</th>\n",
       "      <th>loc_Anandapura</th>\n",
       "      <th>loc_Rajaji Nagar</th>\n",
       "      <th>loc_Iblur Village</th>\n",
       "      <th>loc_Margondanahalli</th>\n",
       "      <th>loc_Kogilu</th>\n",
       "      <th>loc_Kambipura</th>\n",
       "    </tr>\n",
       "  </thead>\n",
       "  <tbody>\n",
       "    <tr>\n",
       "      <th>0</th>\n",
       "      <td>Anekal</td>\n",
       "      <td>351</td>\n",
       "      <td>1.0</td>\n",
       "      <td>1.0</td>\n",
       "      <td>16.0</td>\n",
       "      <td>351.0</td>\n",
       "      <td>1</td>\n",
       "      <td>4558.404558</td>\n",
       "      <td>0</td>\n",
       "      <td>1</td>\n",
       "      <td>0</td>\n",
       "      <td>1</td>\n",
       "      <td>0</td>\n",
       "      <td>0</td>\n",
       "      <td>0</td>\n",
       "      <td>0</td>\n",
       "      <td>0</td>\n",
       "      <td>0</td>\n",
       "      <td>0</td>\n",
       "      <td>0</td>\n",
       "      <td>0</td>\n",
       "      <td>0</td>\n",
       "      <td>0</td>\n",
       "      <td>0</td>\n",
       "      <td>0</td>\n",
       "      <td>0</td>\n",
       "      <td>0</td>\n",
       "      <td>0</td>\n",
       "      <td>0</td>\n",
       "      <td>0</td>\n",
       "      <td>0</td>\n",
       "      <td>0</td>\n",
       "      <td>0</td>\n",
       "      <td>0</td>\n",
       "      <td>0</td>\n",
       "      <td>0</td>\n",
       "      <td>0</td>\n",
       "      <td>0</td>\n",
       "      <td>0</td>\n",
       "      <td>0</td>\n",
       "      <td>...</td>\n",
       "      <td>0</td>\n",
       "      <td>0</td>\n",
       "      <td>0</td>\n",
       "      <td>0</td>\n",
       "      <td>0</td>\n",
       "      <td>0</td>\n",
       "      <td>0</td>\n",
       "      <td>0</td>\n",
       "      <td>0</td>\n",
       "      <td>0</td>\n",
       "      <td>0</td>\n",
       "      <td>0</td>\n",
       "      <td>0</td>\n",
       "      <td>0</td>\n",
       "      <td>0</td>\n",
       "      <td>0</td>\n",
       "      <td>0</td>\n",
       "      <td>0</td>\n",
       "      <td>0</td>\n",
       "      <td>0</td>\n",
       "      <td>0</td>\n",
       "      <td>0</td>\n",
       "      <td>0</td>\n",
       "      <td>0</td>\n",
       "      <td>0</td>\n",
       "      <td>0</td>\n",
       "      <td>0</td>\n",
       "      <td>0</td>\n",
       "      <td>0</td>\n",
       "      <td>0</td>\n",
       "      <td>0</td>\n",
       "      <td>0</td>\n",
       "      <td>0</td>\n",
       "      <td>0</td>\n",
       "      <td>0</td>\n",
       "      <td>0</td>\n",
       "      <td>0</td>\n",
       "      <td>0</td>\n",
       "      <td>0</td>\n",
       "      <td>0</td>\n",
       "    </tr>\n",
       "    <tr>\n",
       "      <th>1</th>\n",
       "      <td>Banaswadi</td>\n",
       "      <td>527</td>\n",
       "      <td>1.0</td>\n",
       "      <td>0.0</td>\n",
       "      <td>35.0</td>\n",
       "      <td>527.0</td>\n",
       "      <td>1</td>\n",
       "      <td>6641.366224</td>\n",
       "      <td>1</td>\n",
       "      <td>0</td>\n",
       "      <td>0</td>\n",
       "      <td>1</td>\n",
       "      <td>0</td>\n",
       "      <td>0</td>\n",
       "      <td>0</td>\n",
       "      <td>0</td>\n",
       "      <td>0</td>\n",
       "      <td>0</td>\n",
       "      <td>0</td>\n",
       "      <td>0</td>\n",
       "      <td>0</td>\n",
       "      <td>0</td>\n",
       "      <td>0</td>\n",
       "      <td>0</td>\n",
       "      <td>0</td>\n",
       "      <td>0</td>\n",
       "      <td>0</td>\n",
       "      <td>0</td>\n",
       "      <td>0</td>\n",
       "      <td>0</td>\n",
       "      <td>0</td>\n",
       "      <td>0</td>\n",
       "      <td>0</td>\n",
       "      <td>0</td>\n",
       "      <td>0</td>\n",
       "      <td>0</td>\n",
       "      <td>0</td>\n",
       "      <td>0</td>\n",
       "      <td>0</td>\n",
       "      <td>0</td>\n",
       "      <td>...</td>\n",
       "      <td>0</td>\n",
       "      <td>0</td>\n",
       "      <td>0</td>\n",
       "      <td>0</td>\n",
       "      <td>0</td>\n",
       "      <td>0</td>\n",
       "      <td>0</td>\n",
       "      <td>0</td>\n",
       "      <td>0</td>\n",
       "      <td>0</td>\n",
       "      <td>0</td>\n",
       "      <td>0</td>\n",
       "      <td>0</td>\n",
       "      <td>0</td>\n",
       "      <td>0</td>\n",
       "      <td>0</td>\n",
       "      <td>0</td>\n",
       "      <td>0</td>\n",
       "      <td>0</td>\n",
       "      <td>0</td>\n",
       "      <td>0</td>\n",
       "      <td>0</td>\n",
       "      <td>0</td>\n",
       "      <td>0</td>\n",
       "      <td>0</td>\n",
       "      <td>0</td>\n",
       "      <td>0</td>\n",
       "      <td>0</td>\n",
       "      <td>0</td>\n",
       "      <td>0</td>\n",
       "      <td>0</td>\n",
       "      <td>0</td>\n",
       "      <td>0</td>\n",
       "      <td>0</td>\n",
       "      <td>0</td>\n",
       "      <td>0</td>\n",
       "      <td>0</td>\n",
       "      <td>0</td>\n",
       "      <td>0</td>\n",
       "      <td>0</td>\n",
       "    </tr>\n",
       "    <tr>\n",
       "      <th>2</th>\n",
       "      <td>Basavangudi</td>\n",
       "      <td>670</td>\n",
       "      <td>1.0</td>\n",
       "      <td>1.0</td>\n",
       "      <td>50.0</td>\n",
       "      <td>670.0</td>\n",
       "      <td>1</td>\n",
       "      <td>7462.686567</td>\n",
       "      <td>1</td>\n",
       "      <td>0</td>\n",
       "      <td>0</td>\n",
       "      <td>1</td>\n",
       "      <td>0</td>\n",
       "      <td>0</td>\n",
       "      <td>0</td>\n",
       "      <td>0</td>\n",
       "      <td>0</td>\n",
       "      <td>0</td>\n",
       "      <td>0</td>\n",
       "      <td>0</td>\n",
       "      <td>0</td>\n",
       "      <td>0</td>\n",
       "      <td>0</td>\n",
       "      <td>0</td>\n",
       "      <td>0</td>\n",
       "      <td>0</td>\n",
       "      <td>0</td>\n",
       "      <td>0</td>\n",
       "      <td>0</td>\n",
       "      <td>0</td>\n",
       "      <td>0</td>\n",
       "      <td>0</td>\n",
       "      <td>0</td>\n",
       "      <td>0</td>\n",
       "      <td>0</td>\n",
       "      <td>0</td>\n",
       "      <td>0</td>\n",
       "      <td>0</td>\n",
       "      <td>0</td>\n",
       "      <td>0</td>\n",
       "      <td>...</td>\n",
       "      <td>0</td>\n",
       "      <td>0</td>\n",
       "      <td>0</td>\n",
       "      <td>0</td>\n",
       "      <td>0</td>\n",
       "      <td>0</td>\n",
       "      <td>0</td>\n",
       "      <td>0</td>\n",
       "      <td>0</td>\n",
       "      <td>0</td>\n",
       "      <td>0</td>\n",
       "      <td>0</td>\n",
       "      <td>0</td>\n",
       "      <td>0</td>\n",
       "      <td>0</td>\n",
       "      <td>0</td>\n",
       "      <td>0</td>\n",
       "      <td>0</td>\n",
       "      <td>0</td>\n",
       "      <td>0</td>\n",
       "      <td>0</td>\n",
       "      <td>0</td>\n",
       "      <td>0</td>\n",
       "      <td>0</td>\n",
       "      <td>0</td>\n",
       "      <td>0</td>\n",
       "      <td>0</td>\n",
       "      <td>0</td>\n",
       "      <td>0</td>\n",
       "      <td>0</td>\n",
       "      <td>0</td>\n",
       "      <td>0</td>\n",
       "      <td>0</td>\n",
       "      <td>0</td>\n",
       "      <td>0</td>\n",
       "      <td>0</td>\n",
       "      <td>0</td>\n",
       "      <td>0</td>\n",
       "      <td>0</td>\n",
       "      <td>0</td>\n",
       "    </tr>\n",
       "    <tr>\n",
       "      <th>3</th>\n",
       "      <td>Devarabeesana Halli</td>\n",
       "      <td>1100</td>\n",
       "      <td>2.0</td>\n",
       "      <td>1.0</td>\n",
       "      <td>70.0</td>\n",
       "      <td>1100.0</td>\n",
       "      <td>2</td>\n",
       "      <td>6363.636364</td>\n",
       "      <td>1</td>\n",
       "      <td>0</td>\n",
       "      <td>0</td>\n",
       "      <td>1</td>\n",
       "      <td>0</td>\n",
       "      <td>0</td>\n",
       "      <td>0</td>\n",
       "      <td>0</td>\n",
       "      <td>0</td>\n",
       "      <td>0</td>\n",
       "      <td>0</td>\n",
       "      <td>0</td>\n",
       "      <td>0</td>\n",
       "      <td>0</td>\n",
       "      <td>0</td>\n",
       "      <td>0</td>\n",
       "      <td>0</td>\n",
       "      <td>0</td>\n",
       "      <td>0</td>\n",
       "      <td>0</td>\n",
       "      <td>0</td>\n",
       "      <td>0</td>\n",
       "      <td>0</td>\n",
       "      <td>0</td>\n",
       "      <td>0</td>\n",
       "      <td>0</td>\n",
       "      <td>0</td>\n",
       "      <td>0</td>\n",
       "      <td>0</td>\n",
       "      <td>0</td>\n",
       "      <td>0</td>\n",
       "      <td>0</td>\n",
       "      <td>...</td>\n",
       "      <td>0</td>\n",
       "      <td>0</td>\n",
       "      <td>0</td>\n",
       "      <td>0</td>\n",
       "      <td>0</td>\n",
       "      <td>0</td>\n",
       "      <td>0</td>\n",
       "      <td>0</td>\n",
       "      <td>0</td>\n",
       "      <td>0</td>\n",
       "      <td>0</td>\n",
       "      <td>0</td>\n",
       "      <td>0</td>\n",
       "      <td>0</td>\n",
       "      <td>0</td>\n",
       "      <td>0</td>\n",
       "      <td>0</td>\n",
       "      <td>0</td>\n",
       "      <td>0</td>\n",
       "      <td>0</td>\n",
       "      <td>0</td>\n",
       "      <td>0</td>\n",
       "      <td>0</td>\n",
       "      <td>0</td>\n",
       "      <td>0</td>\n",
       "      <td>0</td>\n",
       "      <td>0</td>\n",
       "      <td>0</td>\n",
       "      <td>0</td>\n",
       "      <td>0</td>\n",
       "      <td>0</td>\n",
       "      <td>0</td>\n",
       "      <td>0</td>\n",
       "      <td>0</td>\n",
       "      <td>0</td>\n",
       "      <td>0</td>\n",
       "      <td>0</td>\n",
       "      <td>0</td>\n",
       "      <td>0</td>\n",
       "      <td>0</td>\n",
       "    </tr>\n",
       "    <tr>\n",
       "      <th>4</th>\n",
       "      <td>Devarabeesana Halli</td>\n",
       "      <td>1672</td>\n",
       "      <td>3.0</td>\n",
       "      <td>2.0</td>\n",
       "      <td>150.0</td>\n",
       "      <td>1672.0</td>\n",
       "      <td>3</td>\n",
       "      <td>8971.291866</td>\n",
       "      <td>1</td>\n",
       "      <td>0</td>\n",
       "      <td>0</td>\n",
       "      <td>1</td>\n",
       "      <td>0</td>\n",
       "      <td>0</td>\n",
       "      <td>0</td>\n",
       "      <td>0</td>\n",
       "      <td>0</td>\n",
       "      <td>0</td>\n",
       "      <td>0</td>\n",
       "      <td>0</td>\n",
       "      <td>0</td>\n",
       "      <td>0</td>\n",
       "      <td>0</td>\n",
       "      <td>0</td>\n",
       "      <td>0</td>\n",
       "      <td>0</td>\n",
       "      <td>0</td>\n",
       "      <td>0</td>\n",
       "      <td>0</td>\n",
       "      <td>0</td>\n",
       "      <td>0</td>\n",
       "      <td>0</td>\n",
       "      <td>0</td>\n",
       "      <td>0</td>\n",
       "      <td>0</td>\n",
       "      <td>0</td>\n",
       "      <td>0</td>\n",
       "      <td>0</td>\n",
       "      <td>0</td>\n",
       "      <td>0</td>\n",
       "      <td>...</td>\n",
       "      <td>0</td>\n",
       "      <td>0</td>\n",
       "      <td>0</td>\n",
       "      <td>0</td>\n",
       "      <td>0</td>\n",
       "      <td>0</td>\n",
       "      <td>0</td>\n",
       "      <td>0</td>\n",
       "      <td>0</td>\n",
       "      <td>0</td>\n",
       "      <td>0</td>\n",
       "      <td>0</td>\n",
       "      <td>0</td>\n",
       "      <td>0</td>\n",
       "      <td>0</td>\n",
       "      <td>0</td>\n",
       "      <td>0</td>\n",
       "      <td>0</td>\n",
       "      <td>0</td>\n",
       "      <td>0</td>\n",
       "      <td>0</td>\n",
       "      <td>0</td>\n",
       "      <td>0</td>\n",
       "      <td>0</td>\n",
       "      <td>0</td>\n",
       "      <td>0</td>\n",
       "      <td>0</td>\n",
       "      <td>0</td>\n",
       "      <td>0</td>\n",
       "      <td>0</td>\n",
       "      <td>0</td>\n",
       "      <td>0</td>\n",
       "      <td>0</td>\n",
       "      <td>0</td>\n",
       "      <td>0</td>\n",
       "      <td>0</td>\n",
       "      <td>0</td>\n",
       "      <td>0</td>\n",
       "      <td>0</td>\n",
       "      <td>0</td>\n",
       "    </tr>\n",
       "  </tbody>\n",
       "</table>\n",
       "<p>5 rows × 116 columns</p>\n",
       "</div>"
      ],
      "text/plain": [
       "               location total_sqft  ...  loc_Kogilu  loc_Kambipura\n",
       "0                Anekal        351  ...           0              0\n",
       "1             Banaswadi        527  ...           0              0\n",
       "2           Basavangudi        670  ...           0              0\n",
       "3   Devarabeesana Halli       1100  ...           0              0\n",
       "4   Devarabeesana Halli       1672  ...           0              0\n",
       "\n",
       "[5 rows x 116 columns]"
      ]
     },
     "execution_count": 65,
     "metadata": {},
     "output_type": "execute_result"
    }
   ],
   "source": [
    "df11.head()"
   ]
  },
  {
   "cell_type": "code",
   "execution_count": 66,
   "metadata": {
    "executionInfo": {
     "elapsed": 117,
     "status": "ok",
     "timestamp": 1632237270576,
     "user": {
      "displayName": "Sneh Shah",
      "photoUrl": "https://lh3.googleusercontent.com/a-/AOh14GibvbxxgJIbJggDA8au45Ih5kuQgOfK-Ge6GpuFUw=s64",
      "userId": "06388715731700414777"
     },
     "user_tz": -330
    },
    "id": "al496cg66kOD"
   },
   "outputs": [],
   "source": [
    "df12 = df11.drop(['location','total_sqft'],axis=1)"
   ]
  },
  {
   "cell_type": "code",
   "execution_count": 67,
   "metadata": {
    "colab": {
     "base_uri": "https://localhost:8080/"
    },
    "executionInfo": {
     "elapsed": 122,
     "status": "ok",
     "timestamp": 1632237270582,
     "user": {
      "displayName": "Sneh Shah",
      "photoUrl": "https://lh3.googleusercontent.com/a-/AOh14GibvbxxgJIbJggDA8au45Ih5kuQgOfK-Ge6GpuFUw=s64",
      "userId": "06388715731700414777"
     },
     "user_tz": -330
    },
    "id": "w5lqfUYC7KvT",
    "outputId": "aeb0a006-67b8-4689-c2a0-11238ff29957"
   },
   "outputs": [
    {
     "data": {
      "text/plain": [
       "(8736, 114)"
      ]
     },
     "execution_count": 67,
     "metadata": {},
     "output_type": "execute_result"
    }
   ],
   "source": [
    "df12.shape"
   ]
  },
  {
   "cell_type": "code",
   "execution_count": 68,
   "metadata": {
    "executionInfo": {
     "elapsed": 120,
     "status": "ok",
     "timestamp": 1632237270590,
     "user": {
      "displayName": "Sneh Shah",
      "photoUrl": "https://lh3.googleusercontent.com/a-/AOh14GibvbxxgJIbJggDA8au45Ih5kuQgOfK-Ge6GpuFUw=s64",
      "userId": "06388715731700414777"
     },
     "user_tz": -330
    },
    "id": "TuaBX4J_7bq4"
   },
   "outputs": [],
   "source": [
    "df12.to_csv('clean_banglore_price.csv',index=False)"
   ]
  },
  {
   "cell_type": "code",
   "execution_count": 70,
   "metadata": {
    "colab": {
     "base_uri": "https://localhost:8080/",
     "height": 17
    },
    "executionInfo": {
     "elapsed": 1137,
     "status": "ok",
     "timestamp": 1632237347719,
     "user": {
      "displayName": "Sneh Shah",
      "photoUrl": "https://lh3.googleusercontent.com/a-/AOh14GibvbxxgJIbJggDA8au45Ih5kuQgOfK-Ge6GpuFUw=s64",
      "userId": "06388715731700414777"
     },
     "user_tz": -330
    },
    "id": "nuWJVwqW8Quu",
    "outputId": "d66025ad-d78d-480b-d05d-d4b84696a46b"
   },
   "outputs": [
    {
     "data": {
      "application/javascript": [
       "\n",
       "    async function download(id, filename, size) {\n",
       "      if (!google.colab.kernel.accessAllowed) {\n",
       "        return;\n",
       "      }\n",
       "      const div = document.createElement('div');\n",
       "      const label = document.createElement('label');\n",
       "      label.textContent = `Downloading \"${filename}\": `;\n",
       "      div.appendChild(label);\n",
       "      const progress = document.createElement('progress');\n",
       "      progress.max = size;\n",
       "      div.appendChild(progress);\n",
       "      document.body.appendChild(div);\n",
       "\n",
       "      const buffers = [];\n",
       "      let downloaded = 0;\n",
       "\n",
       "      const channel = await google.colab.kernel.comms.open(id);\n",
       "      // Send a message to notify the kernel that we're ready.\n",
       "      channel.send({})\n",
       "\n",
       "      for await (const message of channel.messages) {\n",
       "        // Send a message to notify the kernel that we're ready.\n",
       "        channel.send({})\n",
       "        if (message.buffers) {\n",
       "          for (const buffer of message.buffers) {\n",
       "            buffers.push(buffer);\n",
       "            downloaded += buffer.byteLength;\n",
       "            progress.value = downloaded;\n",
       "          }\n",
       "        }\n",
       "      }\n",
       "      const blob = new Blob(buffers, {type: 'application/binary'});\n",
       "      const a = document.createElement('a');\n",
       "      a.href = window.URL.createObjectURL(blob);\n",
       "      a.download = filename;\n",
       "      div.appendChild(a);\n",
       "      a.click();\n",
       "      div.remove();\n",
       "    }\n",
       "  "
      ],
      "text/plain": [
       "<IPython.core.display.Javascript object>"
      ]
     },
     "metadata": {},
     "output_type": "display_data"
    },
    {
     "data": {
      "application/javascript": [
       "download(\"download_f9c222dc-faf1-40b7-af01-5dd8175c2790\", \"ml_banglore_price.csv\", 339334)"
      ],
      "text/plain": [
       "<IPython.core.display.Javascript object>"
      ]
     },
     "metadata": {},
     "output_type": "display_data"
    },
    {
     "data": {
      "application/javascript": [
       "\n",
       "    async function download(id, filename, size) {\n",
       "      if (!google.colab.kernel.accessAllowed) {\n",
       "        return;\n",
       "      }\n",
       "      const div = document.createElement('div');\n",
       "      const label = document.createElement('label');\n",
       "      label.textContent = `Downloading \"${filename}\": `;\n",
       "      div.appendChild(label);\n",
       "      const progress = document.createElement('progress');\n",
       "      progress.max = size;\n",
       "      div.appendChild(progress);\n",
       "      document.body.appendChild(div);\n",
       "\n",
       "      const buffers = [];\n",
       "      let downloaded = 0;\n",
       "\n",
       "      const channel = await google.colab.kernel.comms.open(id);\n",
       "      // Send a message to notify the kernel that we're ready.\n",
       "      channel.send({})\n",
       "\n",
       "      for await (const message of channel.messages) {\n",
       "        // Send a message to notify the kernel that we're ready.\n",
       "        channel.send({})\n",
       "        if (message.buffers) {\n",
       "          for (const buffer of message.buffers) {\n",
       "            buffers.push(buffer);\n",
       "            downloaded += buffer.byteLength;\n",
       "            progress.value = downloaded;\n",
       "          }\n",
       "        }\n",
       "      }\n",
       "      const blob = new Blob(buffers, {type: 'application/binary'});\n",
       "      const a = document.createElement('a');\n",
       "      a.href = window.URL.createObjectURL(blob);\n",
       "      a.download = filename;\n",
       "      div.appendChild(a);\n",
       "      a.click();\n",
       "      div.remove();\n",
       "    }\n",
       "  "
      ],
      "text/plain": [
       "<IPython.core.display.Javascript object>"
      ]
     },
     "metadata": {},
     "output_type": "display_data"
    },
    {
     "data": {
      "application/javascript": [
       "download(\"download_15eeae64-24dd-4be0-96de-ab737ed33c37\", \"clean_banglore_price.csv\", 2228125)"
      ],
      "text/plain": [
       "<IPython.core.display.Javascript object>"
      ]
     },
     "metadata": {},
     "output_type": "display_data"
    }
   ],
   "source": [
    "from google.colab import files\n",
    "files.download(\"ml_banglore_price.csv\")\n",
    "files.download(\"clean_banglore_price.csv\")"
   ]
  },
  {
   "cell_type": "code",
   "execution_count": 69,
   "metadata": {
    "executionInfo": {
     "elapsed": 125,
     "status": "ok",
     "timestamp": 1632237270598,
     "user": {
      "displayName": "Sneh Shah",
      "photoUrl": "https://lh3.googleusercontent.com/a-/AOh14GibvbxxgJIbJggDA8au45Ih5kuQgOfK-Ge6GpuFUw=s64",
      "userId": "06388715731700414777"
     },
     "user_tz": -330
    },
    "id": "Mb4j77pI9LD_"
   },
   "outputs": [],
   "source": []
  }
 ],
 "metadata": {
  "colab": {
   "authorship_tag": "ABX9TyN3IGlqp80TWRYa5566USw4",
   "collapsed_sections": [
    "D3Dm_n1upKNw",
    "GdeqNSYh_ZWz",
    "6ezjQkAeC6VP",
    "M9MvMblRHFfe",
    "uT5uoMgw1HRs"
   ],
   "name": "Banglore_Price_RawData.ipynb",
   "provenance": []
  },
  "kernelspec": {
   "display_name": "Python 3",
   "language": "python",
   "name": "python3"
  },
  "language_info": {
   "codemirror_mode": {
    "name": "ipython",
    "version": 3
   },
   "file_extension": ".py",
   "mimetype": "text/x-python",
   "name": "python",
   "nbconvert_exporter": "python",
   "pygments_lexer": "ipython3",
   "version": "3.8.5"
  }
 },
 "nbformat": 4,
 "nbformat_minor": 1
}
